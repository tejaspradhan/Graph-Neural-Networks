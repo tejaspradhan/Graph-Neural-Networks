{
  "nbformat": 4,
  "nbformat_minor": 0,
  "metadata": {
    "colab": {
      "name": "Tutorial-1.ipynb",
      "provenance": [],
      "authorship_tag": "ABX9TyOhyaC7dzVHyE1w8uNlu7g5",
      "include_colab_link": true
    },
    "kernelspec": {
      "name": "python3",
      "display_name": "Python 3"
    },
    "language_info": {
      "name": "python"
    }
  },
  "cells": [
    {
      "cell_type": "markdown",
      "metadata": {
        "id": "view-in-github",
        "colab_type": "text"
      },
      "source": [
        "<a href=\"https://colab.research.google.com/github/tejaspradhan/Graph-Neural-Networks/blob/main/pytorch-geometric/Tutorial_1.ipynb\" target=\"_parent\"><img src=\"https://colab.research.google.com/assets/colab-badge.svg\" alt=\"Open In Colab\"/></a>"
      ]
    },
    {
      "cell_type": "code",
      "source": [
        "!python -c \"import torch; print(torch.__version__)\"\n",
        "!python -c \"import torch; print(torch.version.cuda)\"\n",
        "!python --version"
      ],
      "metadata": {
        "colab": {
          "base_uri": "https://localhost:8080/"
        },
        "id": "vxgvxS7EAj87",
        "outputId": "17c68101-d0ce-4ca5-c633-6f25ea3213b1"
      },
      "execution_count": 1,
      "outputs": [
        {
          "output_type": "stream",
          "name": "stdout",
          "text": [
            "1.10.0+cu111\n",
            "11.1\n",
            "Python 3.7.12\n"
          ]
        }
      ]
    },
    {
      "cell_type": "code",
      "source": [
        "! pip install --no-index torch-scatter -f https://pytorch-geometric.com/whl/torch-1.10.0+cpu.html\n",
        "! pip install --no-index torch-sparse -f https://pytorch-geometric.com/whl/torch-1.10.0+cpu.html\n",
        "! pip install --no-index torch-cluster -f https://pytorch-geometric.com/whl/torch-1.10.0+cpu.html\n",
        "! pip install --no-index torch-spline-conv -f https://pytorch-geometric.com/whl/torch-1.10.0+cpu.html\n",
        "! pip install torch-geometric"
      ],
      "metadata": {
        "id": "poFFreLd_X0V"
      },
      "execution_count": null,
      "outputs": []
    },
    {
      "cell_type": "code",
      "execution_count": 24,
      "metadata": {
        "id": "qo60pJzisEL7"
      },
      "outputs": [],
      "source": [
        "import torch_geometric\n",
        "from torch_geometric.datasets import Planetoid\n",
        "import torch\n",
        "import torch.nn.functional as F\n",
        "from torch_geometric.nn import SAGEConv\n"
      ]
    },
    {
      "cell_type": "code",
      "source": [
        "dataset = Planetoid(root='tutorial1' ,name='cora')"
      ],
      "metadata": {
        "id": "ZxgD6uEqsJY4"
      },
      "execution_count": 25,
      "outputs": []
    },
    {
      "cell_type": "code",
      "source": [
        "dataset.data"
      ],
      "metadata": {
        "colab": {
          "base_uri": "https://localhost:8080/"
        },
        "id": "eTQiuTvLsT_W",
        "outputId": "63009e8b-e406-4a89-e16f-ac604f2583fb"
      },
      "execution_count": 26,
      "outputs": [
        {
          "output_type": "execute_result",
          "data": {
            "text/plain": [
              "Data(x=[2708, 1433], edge_index=[2, 10556], y=[2708], train_mask=[2708], val_mask=[2708], test_mask=[2708])"
            ]
          },
          "metadata": {},
          "execution_count": 26
        }
      ]
    },
    {
      "cell_type": "code",
      "source": [
        "dataset.num_node_features\n",
        "# there are 2708 nodes of 1433 node features each "
      ],
      "metadata": {
        "id": "9Kp_fqkVsWAK",
        "colab": {
          "base_uri": "https://localhost:8080/"
        },
        "outputId": "17694cc7-e1ca-48e5-e3dd-f2a5f306f793"
      },
      "execution_count": 27,
      "outputs": [
        {
          "output_type": "execute_result",
          "data": {
            "text/plain": [
              "1433"
            ]
          },
          "metadata": {},
          "execution_count": 27
        }
      ]
    },
    {
      "cell_type": "code",
      "source": [
        "data = dataset[0]"
      ],
      "metadata": {
        "id": "By9xmjmUDCC4"
      },
      "execution_count": 28,
      "outputs": []
    },
    {
      "cell_type": "code",
      "source": [
        "class Net(torch.nn.Module):\n",
        "    def __init__(self):\n",
        "        super(Net, self).__init__()\n",
        "        \n",
        "        self.conv = SAGEConv(dataset.num_features,\n",
        "                             dataset.num_classes,\n",
        "                             aggr=\"max\") # max, mean, add ...)\n",
        "\n",
        "    def forward(self):\n",
        "        x = self.conv(data.x, data.edge_index)\n",
        "        return F.log_softmax(x, dim=1)"
      ],
      "metadata": {
        "id": "b0Biwm1vBk3I"
      },
      "execution_count": 29,
      "outputs": []
    },
    {
      "cell_type": "code",
      "source": [
        "device = torch.device('cuda' if torch.cuda.is_available() and use_cuda_if_available else 'cpu')\n",
        "model, data = Net().to(device), data.to(device)\n",
        "optimizer = torch.optim.Adam(model.parameters(), lr=0.01, weight_decay=5e-4)"
      ],
      "metadata": {
        "id": "52PJQEyfDTkB"
      },
      "execution_count": 30,
      "outputs": []
    },
    {
      "cell_type": "code",
      "source": [
        "device"
      ],
      "metadata": {
        "colab": {
          "base_uri": "https://localhost:8080/"
        },
        "id": "Gp53sJUkDX3q",
        "outputId": "73778c8a-472d-4b38-b21a-1b4f63c4a802"
      },
      "execution_count": 31,
      "outputs": [
        {
          "output_type": "execute_result",
          "data": {
            "text/plain": [
              "device(type='cpu')"
            ]
          },
          "metadata": {},
          "execution_count": 31
        }
      ]
    },
    {
      "cell_type": "code",
      "source": [
        "def train():\n",
        "    model.train()\n",
        "    optimizer.zero_grad()\n",
        "    F.nll_loss(model()[data.train_mask], data.y[data.train_mask]).backward()\n",
        "    optimizer.step()\n",
        "\n",
        "\n",
        "def test():\n",
        "    model.eval()\n",
        "    logits, accs = model(), []\n",
        "    for _, mask in data('train_mask', 'val_mask', 'test_mask'):\n",
        "        pred = logits[mask].max(1)[1]\n",
        "        acc = pred.eq(data.y[mask]).sum().item() / mask.sum().item()\n",
        "        accs.append(acc)\n",
        "    return accs"
      ],
      "metadata": {
        "colab": {
          "base_uri": "https://localhost:8080/"
        },
        "id": "8MR-ZPZlDcAv",
        "outputId": "e20ea4ee-36d5-40eb-b278-1d9592ef121d"
      },
      "execution_count": 33,
      "outputs": [
        {
          "output_type": "stream",
          "name": "stdout",
          "text": [
            "Epoch: 010, Val: 0.7220, Test: 0.7150\n",
            "Epoch: 020, Val: 0.7220, Test: 0.7150\n",
            "Epoch: 030, Val: 0.7220, Test: 0.7150\n",
            "Epoch: 040, Val: 0.7220, Test: 0.7150\n",
            "Epoch: 050, Val: 0.7240, Test: 0.7000\n",
            "Epoch: 060, Val: 0.7320, Test: 0.7060\n",
            "Epoch: 070, Val: 0.7320, Test: 0.7060\n",
            "Epoch: 080, Val: 0.7320, Test: 0.7060\n",
            "Epoch: 090, Val: 0.7320, Test: 0.7060\n"
          ]
        }
      ]
    }
  ]
}