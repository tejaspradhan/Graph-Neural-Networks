{
  "nbformat": 4,
  "nbformat_minor": 0,
  "metadata": {
    "colab": {
      "name": "GNN_Spektral.ipynb",
      "provenance": [],
      "authorship_tag": "ABX9TyPUu0fbCEC4otIQCehU5y/F",
      "include_colab_link": true
    },
    "kernelspec": {
      "name": "python3",
      "display_name": "Python 3"
    },
    "language_info": {
      "name": "python"
    }
  },
  "cells": [
    {
      "cell_type": "markdown",
      "metadata": {
        "id": "view-in-github",
        "colab_type": "text"
      },
      "source": [
        "<a href=\"https://colab.research.google.com/github/tejaspradhan/Graph-Neural-Networks/blob/main/code/GNN_Spektral.ipynb\" target=\"_parent\"><img src=\"https://colab.research.google.com/assets/colab-badge.svg\" alt=\"Open In Colab\"/></a>"
      ]
    },
    {
      "cell_type": "markdown",
      "source": [
        "## Installing Spektral"
      ],
      "metadata": {
        "id": "25lmVwYTAyv0"
      }
    },
    {
      "cell_type": "code",
      "source": [
        "!pip install spektral"
      ],
      "metadata": {
        "id": "1UgBBrY1Bcu6",
        "outputId": "00c67095-9e35-4ac4-c0b6-5d2351b5d12d",
        "colab": {
          "base_uri": "https://localhost:8080/"
        }
      },
      "execution_count": 1,
      "outputs": [
        {
          "output_type": "stream",
          "name": "stdout",
          "text": [
            "Collecting spektral\n",
            "  Downloading spektral-1.0.8-py3-none-any.whl (123 kB)\n",
            "\u001b[?25l\r\u001b[K     |██▋                             | 10 kB 18.2 MB/s eta 0:00:01\r\u001b[K     |█████▎                          | 20 kB 12.8 MB/s eta 0:00:01\r\u001b[K     |████████                        | 30 kB 15.6 MB/s eta 0:00:01\r\u001b[K     |██████████▋                     | 40 kB 17.0 MB/s eta 0:00:01\r\u001b[K     |█████████████▎                  | 51 kB 13.7 MB/s eta 0:00:01\r\u001b[K     |████████████████                | 61 kB 12.9 MB/s eta 0:00:01\r\u001b[K     |██████████████████▋             | 71 kB 8.7 MB/s eta 0:00:01\r\u001b[K     |█████████████████████▎          | 81 kB 9.6 MB/s eta 0:00:01\r\u001b[K     |████████████████████████        | 92 kB 6.9 MB/s eta 0:00:01\r\u001b[K     |██████████████████████████▌     | 102 kB 7.3 MB/s eta 0:00:01\r\u001b[K     |█████████████████████████████▏  | 112 kB 7.3 MB/s eta 0:00:01\r\u001b[K     |███████████████████████████████▉| 122 kB 7.3 MB/s eta 0:00:01\r\u001b[K     |████████████████████████████████| 123 kB 7.3 MB/s \n",
            "\u001b[?25hRequirement already satisfied: tqdm in /usr/local/lib/python3.7/dist-packages (from spektral) (4.62.3)\n",
            "Requirement already satisfied: lxml in /usr/local/lib/python3.7/dist-packages (from spektral) (4.2.6)\n",
            "Requirement already satisfied: requests in /usr/local/lib/python3.7/dist-packages (from spektral) (2.23.0)\n",
            "Requirement already satisfied: pandas in /usr/local/lib/python3.7/dist-packages (from spektral) (1.1.5)\n",
            "Requirement already satisfied: scikit-learn in /usr/local/lib/python3.7/dist-packages (from spektral) (1.0.1)\n",
            "Requirement already satisfied: joblib in /usr/local/lib/python3.7/dist-packages (from spektral) (1.1.0)\n",
            "Requirement already satisfied: scipy in /usr/local/lib/python3.7/dist-packages (from spektral) (1.4.1)\n",
            "Requirement already satisfied: tensorflow>=2.1.0 in /usr/local/lib/python3.7/dist-packages (from spektral) (2.7.0)\n",
            "Requirement already satisfied: networkx in /usr/local/lib/python3.7/dist-packages (from spektral) (2.6.3)\n",
            "Requirement already satisfied: numpy<1.20 in /usr/local/lib/python3.7/dist-packages (from spektral) (1.19.5)\n",
            "Requirement already satisfied: keras-preprocessing>=1.1.1 in /usr/local/lib/python3.7/dist-packages (from tensorflow>=2.1.0->spektral) (1.1.2)\n",
            "Requirement already satisfied: wheel<1.0,>=0.32.0 in /usr/local/lib/python3.7/dist-packages (from tensorflow>=2.1.0->spektral) (0.37.0)\n",
            "Requirement already satisfied: opt-einsum>=2.3.2 in /usr/local/lib/python3.7/dist-packages (from tensorflow>=2.1.0->spektral) (3.3.0)\n",
            "Requirement already satisfied: absl-py>=0.4.0 in /usr/local/lib/python3.7/dist-packages (from tensorflow>=2.1.0->spektral) (0.12.0)\n",
            "Requirement already satisfied: gast<0.5.0,>=0.2.1 in /usr/local/lib/python3.7/dist-packages (from tensorflow>=2.1.0->spektral) (0.4.0)\n",
            "Requirement already satisfied: six>=1.12.0 in /usr/local/lib/python3.7/dist-packages (from tensorflow>=2.1.0->spektral) (1.15.0)\n",
            "Requirement already satisfied: astunparse>=1.6.0 in /usr/local/lib/python3.7/dist-packages (from tensorflow>=2.1.0->spektral) (1.6.3)\n",
            "Requirement already satisfied: keras<2.8,>=2.7.0rc0 in /usr/local/lib/python3.7/dist-packages (from tensorflow>=2.1.0->spektral) (2.7.0)\n",
            "Requirement already satisfied: google-pasta>=0.1.1 in /usr/local/lib/python3.7/dist-packages (from tensorflow>=2.1.0->spektral) (0.2.0)\n",
            "Requirement already satisfied: tensorflow-io-gcs-filesystem>=0.21.0 in /usr/local/lib/python3.7/dist-packages (from tensorflow>=2.1.0->spektral) (0.22.0)\n",
            "Requirement already satisfied: h5py>=2.9.0 in /usr/local/lib/python3.7/dist-packages (from tensorflow>=2.1.0->spektral) (3.1.0)\n",
            "Requirement already satisfied: tensorflow-estimator<2.8,~=2.7.0rc0 in /usr/local/lib/python3.7/dist-packages (from tensorflow>=2.1.0->spektral) (2.7.0)\n",
            "Requirement already satisfied: libclang>=9.0.1 in /usr/local/lib/python3.7/dist-packages (from tensorflow>=2.1.0->spektral) (12.0.0)\n",
            "Requirement already satisfied: tensorboard~=2.6 in /usr/local/lib/python3.7/dist-packages (from tensorflow>=2.1.0->spektral) (2.7.0)\n",
            "Requirement already satisfied: termcolor>=1.1.0 in /usr/local/lib/python3.7/dist-packages (from tensorflow>=2.1.0->spektral) (1.1.0)\n",
            "Requirement already satisfied: flatbuffers<3.0,>=1.12 in /usr/local/lib/python3.7/dist-packages (from tensorflow>=2.1.0->spektral) (2.0)\n",
            "Requirement already satisfied: typing-extensions>=3.6.6 in /usr/local/lib/python3.7/dist-packages (from tensorflow>=2.1.0->spektral) (3.10.0.2)\n",
            "Requirement already satisfied: wrapt>=1.11.0 in /usr/local/lib/python3.7/dist-packages (from tensorflow>=2.1.0->spektral) (1.13.3)\n",
            "Requirement already satisfied: grpcio<2.0,>=1.24.3 in /usr/local/lib/python3.7/dist-packages (from tensorflow>=2.1.0->spektral) (1.42.0)\n",
            "Requirement already satisfied: protobuf>=3.9.2 in /usr/local/lib/python3.7/dist-packages (from tensorflow>=2.1.0->spektral) (3.17.3)\n",
            "Requirement already satisfied: cached-property in /usr/local/lib/python3.7/dist-packages (from h5py>=2.9.0->tensorflow>=2.1.0->spektral) (1.5.2)\n",
            "Requirement already satisfied: setuptools>=41.0.0 in /usr/local/lib/python3.7/dist-packages (from tensorboard~=2.6->tensorflow>=2.1.0->spektral) (57.4.0)\n",
            "Requirement already satisfied: werkzeug>=0.11.15 in /usr/local/lib/python3.7/dist-packages (from tensorboard~=2.6->tensorflow>=2.1.0->spektral) (1.0.1)\n",
            "Requirement already satisfied: tensorboard-data-server<0.7.0,>=0.6.0 in /usr/local/lib/python3.7/dist-packages (from tensorboard~=2.6->tensorflow>=2.1.0->spektral) (0.6.1)\n",
            "Requirement already satisfied: google-auth-oauthlib<0.5,>=0.4.1 in /usr/local/lib/python3.7/dist-packages (from tensorboard~=2.6->tensorflow>=2.1.0->spektral) (0.4.6)\n",
            "Requirement already satisfied: google-auth<3,>=1.6.3 in /usr/local/lib/python3.7/dist-packages (from tensorboard~=2.6->tensorflow>=2.1.0->spektral) (1.35.0)\n",
            "Requirement already satisfied: markdown>=2.6.8 in /usr/local/lib/python3.7/dist-packages (from tensorboard~=2.6->tensorflow>=2.1.0->spektral) (3.3.6)\n",
            "Requirement already satisfied: tensorboard-plugin-wit>=1.6.0 in /usr/local/lib/python3.7/dist-packages (from tensorboard~=2.6->tensorflow>=2.1.0->spektral) (1.8.0)\n",
            "Requirement already satisfied: cachetools<5.0,>=2.0.0 in /usr/local/lib/python3.7/dist-packages (from google-auth<3,>=1.6.3->tensorboard~=2.6->tensorflow>=2.1.0->spektral) (4.2.4)\n",
            "Requirement already satisfied: pyasn1-modules>=0.2.1 in /usr/local/lib/python3.7/dist-packages (from google-auth<3,>=1.6.3->tensorboard~=2.6->tensorflow>=2.1.0->spektral) (0.2.8)\n",
            "Requirement already satisfied: rsa<5,>=3.1.4 in /usr/local/lib/python3.7/dist-packages (from google-auth<3,>=1.6.3->tensorboard~=2.6->tensorflow>=2.1.0->spektral) (4.8)\n",
            "Requirement already satisfied: requests-oauthlib>=0.7.0 in /usr/local/lib/python3.7/dist-packages (from google-auth-oauthlib<0.5,>=0.4.1->tensorboard~=2.6->tensorflow>=2.1.0->spektral) (1.3.0)\n",
            "Requirement already satisfied: importlib-metadata>=4.4 in /usr/local/lib/python3.7/dist-packages (from markdown>=2.6.8->tensorboard~=2.6->tensorflow>=2.1.0->spektral) (4.8.2)\n",
            "Requirement already satisfied: zipp>=0.5 in /usr/local/lib/python3.7/dist-packages (from importlib-metadata>=4.4->markdown>=2.6.8->tensorboard~=2.6->tensorflow>=2.1.0->spektral) (3.6.0)\n",
            "Requirement already satisfied: pyasn1<0.5.0,>=0.4.6 in /usr/local/lib/python3.7/dist-packages (from pyasn1-modules>=0.2.1->google-auth<3,>=1.6.3->tensorboard~=2.6->tensorflow>=2.1.0->spektral) (0.4.8)\n",
            "Requirement already satisfied: certifi>=2017.4.17 in /usr/local/lib/python3.7/dist-packages (from requests->spektral) (2021.10.8)\n",
            "Requirement already satisfied: chardet<4,>=3.0.2 in /usr/local/lib/python3.7/dist-packages (from requests->spektral) (3.0.4)\n",
            "Requirement already satisfied: idna<3,>=2.5 in /usr/local/lib/python3.7/dist-packages (from requests->spektral) (2.10)\n",
            "Requirement already satisfied: urllib3!=1.25.0,!=1.25.1,<1.26,>=1.21.1 in /usr/local/lib/python3.7/dist-packages (from requests->spektral) (1.24.3)\n",
            "Requirement already satisfied: oauthlib>=3.0.0 in /usr/local/lib/python3.7/dist-packages (from requests-oauthlib>=0.7.0->google-auth-oauthlib<0.5,>=0.4.1->tensorboard~=2.6->tensorflow>=2.1.0->spektral) (3.1.1)\n",
            "Requirement already satisfied: python-dateutil>=2.7.3 in /usr/local/lib/python3.7/dist-packages (from pandas->spektral) (2.8.2)\n",
            "Requirement already satisfied: pytz>=2017.2 in /usr/local/lib/python3.7/dist-packages (from pandas->spektral) (2018.9)\n",
            "Requirement already satisfied: threadpoolctl>=2.0.0 in /usr/local/lib/python3.7/dist-packages (from scikit-learn->spektral) (3.0.0)\n",
            "Installing collected packages: spektral\n",
            "Successfully installed spektral-1.0.8\n"
          ]
        }
      ]
    },
    {
      "cell_type": "markdown",
      "source": [
        "## Importing Libraries"
      ],
      "metadata": {
        "id": "20pdMdrtBedK"
      }
    },
    {
      "cell_type": "code",
      "source": [
        "import numpy as np\n",
        "from spektral.datasets import TUDataset\n",
        "from spektral.transforms import Degree, GCNFilter\n",
        "from tensorflow.keras.models import Model\n",
        "from tensorflow.keras.layers import Dense, Dropout\n",
        "from spektral.layers import GCNConv, GlobalSumPool\n",
        "from spektral.data import BatchLoader"
      ],
      "metadata": {
        "id": "Sw3fo4lwA1iY"
      },
      "execution_count": 2,
      "outputs": []
    },
    {
      "cell_type": "markdown",
      "source": [
        "## Exploring the Dataset"
      ],
      "metadata": {
        "id": "a49_Edo4ETPm"
      }
    },
    {
      "cell_type": "code",
      "source": [
        "dataset = TUDataset(\"PROTEINS\")"
      ],
      "metadata": {
        "colab": {
          "base_uri": "https://localhost:8080/"
        },
        "id": "0keBPI0JBgrt",
        "outputId": "3b0b5e29-5980-4663-8442-48326dadae94"
      },
      "execution_count": 3,
      "outputs": [
        {
          "output_type": "stream",
          "name": "stdout",
          "text": [
            "Downloading PROTEINS dataset.\n"
          ]
        },
        {
          "output_type": "stream",
          "name": "stderr",
          "text": [
            "100%|█████████████████████████████████████████| 447k/447k [00:00<00:00, 897kB/s]\n"
          ]
        },
        {
          "output_type": "stream",
          "name": "stdout",
          "text": [
            "Successfully loaded PROTEINS.\n"
          ]
        }
      ]
    },
    {
      "cell_type": "code",
      "source": [
        "dataset\n",
        "# this dataset has 1113 distinct graphs"
      ],
      "metadata": {
        "colab": {
          "base_uri": "https://localhost:8080/"
        },
        "id": "HbmJ3gfsEQyK",
        "outputId": "3b080e28-af71-4340-88c2-4f180ff3ff80"
      },
      "execution_count": 4,
      "outputs": [
        {
          "output_type": "execute_result",
          "data": {
            "text/plain": [
              "TUDataset(n_graphs=1113)"
            ]
          },
          "metadata": {},
          "execution_count": 4
        }
      ]
    },
    {
      "cell_type": "code",
      "source": [
        "dataset.n_labels"
      ],
      "metadata": {
        "colab": {
          "base_uri": "https://localhost:8080/"
        },
        "id": "ad9R3X1nKoql",
        "outputId": "fe8b2621-bbef-4570-eb4f-8f1eab3bf688"
      },
      "execution_count": 5,
      "outputs": [
        {
          "output_type": "execute_result",
          "data": {
            "text/plain": [
              "2"
            ]
          },
          "metadata": {},
          "execution_count": 5
        }
      ]
    },
    {
      "cell_type": "markdown",
      "source": [
        "Exploring 1 graph"
      ],
      "metadata": {
        "id": "UDWxNJMLEYy5"
      }
    },
    {
      "cell_type": "code",
      "source": [
        "graph = dataset[0]\n",
        "graph"
      ],
      "metadata": {
        "colab": {
          "base_uri": "https://localhost:8080/"
        },
        "id": "BjBzX3vKEf04",
        "outputId": "06ee9e4b-0e52-46d6-cf10-a9e2cd899117"
      },
      "execution_count": 6,
      "outputs": [
        {
          "output_type": "execute_result",
          "data": {
            "text/plain": [
              "Graph(n_nodes=42, n_node_features=4, n_edge_features=None, n_labels=2)"
            ]
          },
          "metadata": {},
          "execution_count": 6
        }
      ]
    },
    {
      "cell_type": "code",
      "source": [
        ""
      ],
      "metadata": {
        "id": "-QNte9INEhjR"
      },
      "execution_count": 6,
      "outputs": []
    },
    {
      "cell_type": "code",
      "source": [
        "# Adjacency Matrix\n",
        "graph.a"
      ],
      "metadata": {
        "colab": {
          "base_uri": "https://localhost:8080/"
        },
        "id": "c_tZFuMiFHkI",
        "outputId": "57caa71a-e08c-4767-f974-3db16b23d3a0"
      },
      "execution_count": 7,
      "outputs": [
        {
          "output_type": "execute_result",
          "data": {
            "text/plain": [
              "<42x42 sparse matrix of type '<class 'numpy.float64'>'\n",
              "\twith 162 stored elements in Compressed Sparse Row format>"
            ]
          },
          "metadata": {},
          "execution_count": 7
        }
      ]
    },
    {
      "cell_type": "code",
      "source": [
        "# Node Feature Matrix\n",
        "graph.x"
      ],
      "metadata": {
        "colab": {
          "base_uri": "https://localhost:8080/"
        },
        "id": "wlWSyP-sFLfb",
        "outputId": "02d85d46-2c61-4b4a-fc0d-f940cd955e7c"
      },
      "execution_count": 8,
      "outputs": [
        {
          "output_type": "execute_result",
          "data": {
            "text/plain": [
              "array([[23.,  1.,  0.,  0.],\n",
              "       [10.,  1.,  0.,  0.],\n",
              "       [25.,  1.,  0.,  0.],\n",
              "       [ 7.,  1.,  0.,  0.],\n",
              "       [12.,  1.,  0.,  0.],\n",
              "       [11.,  1.,  0.,  0.],\n",
              "       [ 5.,  1.,  0.,  0.],\n",
              "       [ 7.,  1.,  0.,  0.],\n",
              "       [ 9.,  1.,  0.,  0.],\n",
              "       [ 3.,  1.,  0.,  0.],\n",
              "       [ 6.,  1.,  0.,  0.],\n",
              "       [22.,  1.,  0.,  0.],\n",
              "       [ 8.,  1.,  0.,  0.],\n",
              "       [26.,  1.,  0.,  0.],\n",
              "       [ 7.,  1.,  0.,  0.],\n",
              "       [12.,  1.,  0.,  0.],\n",
              "       [11.,  1.,  0.,  0.],\n",
              "       [ 5.,  1.,  0.,  0.],\n",
              "       [ 7.,  1.,  0.,  0.],\n",
              "       [ 8.,  1.,  0.,  0.],\n",
              "       [ 3.,  1.,  0.,  0.],\n",
              "       [ 6.,  1.,  0.,  0.],\n",
              "       [ 3.,  0.,  1.,  0.],\n",
              "       [ 9.,  0.,  1.,  0.],\n",
              "       [10.,  0.,  1.,  0.],\n",
              "       [ 7.,  0.,  1.,  0.],\n",
              "       [10.,  0.,  1.,  0.],\n",
              "       [ 8.,  0.,  1.,  0.],\n",
              "       [ 5.,  0.,  1.,  0.],\n",
              "       [ 4.,  0.,  1.,  0.],\n",
              "       [ 3.,  0.,  1.,  0.],\n",
              "       [ 3.,  0.,  1.,  0.],\n",
              "       [ 3.,  0.,  1.,  0.],\n",
              "       [ 9.,  0.,  1.,  0.],\n",
              "       [10.,  0.,  1.,  0.],\n",
              "       [ 7.,  0.,  1.,  0.],\n",
              "       [10.,  0.,  1.,  0.],\n",
              "       [ 8.,  0.,  1.,  0.],\n",
              "       [ 5.,  0.,  1.,  0.],\n",
              "       [ 4.,  0.,  1.,  0.],\n",
              "       [ 3.,  0.,  1.,  0.],\n",
              "       [ 3.,  0.,  1.,  0.]])"
            ]
          },
          "metadata": {},
          "execution_count": 8
        }
      ]
    },
    {
      "cell_type": "code",
      "source": [
        "# Edge Feature Matrix. No Edge Features for this graph\n",
        "graph.e"
      ],
      "metadata": {
        "id": "QndsRaV_FPba"
      },
      "execution_count": 9,
      "outputs": []
    },
    {
      "cell_type": "code",
      "source": [
        "# Label Matrix\n",
        "graph.y"
      ],
      "metadata": {
        "colab": {
          "base_uri": "https://localhost:8080/"
        },
        "id": "Q7Ck1dOCFUQn",
        "outputId": "27eb6cd9-ea6b-4d38-f304-b00ab84c0974"
      },
      "execution_count": 10,
      "outputs": [
        {
          "output_type": "execute_result",
          "data": {
            "text/plain": [
              "array([1., 0.])"
            ]
          },
          "metadata": {},
          "execution_count": 10
        }
      ]
    },
    {
      "cell_type": "markdown",
      "source": [
        "Datasets also provide methods for applying transforms to each datum:\n",
        "\n",
        "`apply(transform)` - modifies the dataset in-place, by applying the transform to each graph\n",
        "\n",
        "`map(transform)` - returns a list obtained by applying the transform to each graph\n",
        "\n",
        "`filter(function)` - removes from the dataset any graph for which function(graph) is False. This is also an in-place operation."
      ],
      "metadata": {
        "id": "80IKJFHeEkDK"
      }
    },
    {
      "cell_type": "code",
      "source": [
        "dataset.filter(lambda g: g.n_nodes < 500) # removing those graphs from the dataset which have >= 500 nodes\n",
        "dataset "
      ],
      "metadata": {
        "colab": {
          "base_uri": "https://localhost:8080/"
        },
        "id": "uo0W5UXwE4Zw",
        "outputId": "18ddc066-ebb6-46a8-c1f2-99905a9a9cae"
      },
      "execution_count": 11,
      "outputs": [
        {
          "output_type": "execute_result",
          "data": {
            "text/plain": [
              "TUDataset(n_graphs=1111)"
            ]
          },
          "metadata": {},
          "execution_count": 11
        }
      ]
    },
    {
      "cell_type": "markdown",
      "source": [
        "## Preprocessing the Dataset for the GNN "
      ],
      "metadata": {
        "id": "dHDDjqy7HkoZ"
      }
    },
    {
      "cell_type": "code",
      "source": [
        "# Finding the maximum degree of the data\n",
        "max_degree = int(dataset.map(lambda g: g.a.sum(-1).max(), reduce=max))"
      ],
      "metadata": {
        "id": "7grBYfmeE9y_"
      },
      "execution_count": 12,
      "outputs": []
    },
    {
      "cell_type": "code",
      "source": [
        "max_degree "
      ],
      "metadata": {
        "colab": {
          "base_uri": "https://localhost:8080/"
        },
        "id": "6Fp66pOpFxMW",
        "outputId": "3dce26d4-b617-46e9-f3d1-78d4e4396bf8"
      },
      "execution_count": 13,
      "outputs": [
        {
          "output_type": "execute_result",
          "data": {
            "text/plain": [
              "12"
            ]
          },
          "metadata": {},
          "execution_count": 13
        }
      ]
    },
    {
      "cell_type": "markdown",
      "source": [
        "Augmenting the Dataset's Node Features with the Maximum Degree of any Graph "
      ],
      "metadata": {
        "id": "Wrf2ekfjFy3-"
      }
    },
    {
      "cell_type": "code",
      "source": [
        "dataset.apply(Degree(max_degree))"
      ],
      "metadata": {
        "id": "qF7opsW0GT1k"
      },
      "execution_count": 14,
      "outputs": []
    },
    {
      "cell_type": "code",
      "source": [
        "dataset[0].x"
      ],
      "metadata": {
        "colab": {
          "base_uri": "https://localhost:8080/"
        },
        "id": "P-WHNfZWGZ58",
        "outputId": "82c23d4d-3607-456d-85a6-eaeedcd3f9ad"
      },
      "execution_count": 15,
      "outputs": [
        {
          "output_type": "execute_result",
          "data": {
            "text/plain": [
              "array([[23.,  1.,  0.,  0.,  0.,  0.,  0.,  1.,  0.,  0.,  0.,  0.,  0.,\n",
              "         0.,  0.,  0.,  0.],\n",
              "       [10.,  1.,  0.,  0.,  0.,  0.,  0.,  1.,  0.,  0.,  0.,  0.,  0.,\n",
              "         0.,  0.,  0.,  0.],\n",
              "       [25.,  1.,  0.,  0.,  0.,  0.,  0.,  1.,  0.,  0.,  0.,  0.,  0.,\n",
              "         0.,  0.,  0.,  0.],\n",
              "       [ 7.,  1.,  0.,  0.,  0.,  0.,  0.,  0.,  0.,  1.,  0.,  0.,  0.,\n",
              "         0.,  0.,  0.,  0.],\n",
              "       [12.,  1.,  0.,  0.,  0.,  0.,  0.,  0.,  0.,  0.,  1.,  0.,  0.,\n",
              "         0.,  0.,  0.,  0.],\n",
              "       [11.,  1.,  0.,  0.,  0.,  0.,  0.,  1.,  0.,  0.,  0.,  0.,  0.,\n",
              "         0.,  0.,  0.,  0.],\n",
              "       [ 5.,  1.,  0.,  0.,  0.,  0.,  0.,  1.,  0.,  0.,  0.,  0.,  0.,\n",
              "         0.,  0.,  0.,  0.],\n",
              "       [ 7.,  1.,  0.,  0.,  0.,  0.,  0.,  0.,  1.,  0.,  0.,  0.,  0.,\n",
              "         0.,  0.,  0.,  0.],\n",
              "       [ 9.,  1.,  0.,  0.,  0.,  0.,  0.,  0.,  0.,  1.,  0.,  0.,  0.,\n",
              "         0.,  0.,  0.,  0.],\n",
              "       [ 3.,  1.,  0.,  0.,  0.,  0.,  0.,  0.,  0.,  0.,  1.,  0.,  0.,\n",
              "         0.,  0.,  0.,  0.],\n",
              "       [ 6.,  1.,  0.,  0.,  0.,  0.,  0.,  1.,  0.,  0.,  0.,  0.,  0.,\n",
              "         0.,  0.,  0.,  0.],\n",
              "       [22.,  1.,  0.,  0.,  0.,  0.,  0.,  1.,  0.,  0.,  0.,  0.,  0.,\n",
              "         0.,  0.,  0.,  0.],\n",
              "       [ 8.,  1.,  0.,  0.,  0.,  0.,  0.,  1.,  0.,  0.,  0.,  0.,  0.,\n",
              "         0.,  0.,  0.,  0.],\n",
              "       [26.,  1.,  0.,  0.,  0.,  0.,  0.,  0.,  1.,  0.,  0.,  0.,  0.,\n",
              "         0.,  0.,  0.,  0.],\n",
              "       [ 7.,  1.,  0.,  0.,  0.,  0.,  0.,  0.,  1.,  0.,  0.,  0.,  0.,\n",
              "         0.,  0.,  0.,  0.],\n",
              "       [12.,  1.,  0.,  0.,  0.,  0.,  0.,  1.,  0.,  0.,  0.,  0.,  0.,\n",
              "         0.,  0.,  0.,  0.],\n",
              "       [11.,  1.,  0.,  0.,  0.,  0.,  0.,  0.,  1.,  0.,  0.,  0.,  0.,\n",
              "         0.,  0.,  0.,  0.],\n",
              "       [ 5.,  1.,  0.,  0.,  0.,  0.,  0.,  1.,  0.,  0.,  0.,  0.,  0.,\n",
              "         0.,  0.,  0.,  0.],\n",
              "       [ 7.,  1.,  0.,  0.,  0.,  0.,  0.,  0.,  1.,  0.,  0.,  0.,  0.,\n",
              "         0.,  0.,  0.,  0.],\n",
              "       [ 8.,  1.,  0.,  0.,  0.,  0.,  0.,  0.,  0.,  0.,  0.,  0.,  1.,\n",
              "         0.,  0.,  0.,  0.],\n",
              "       [ 3.,  1.,  0.,  0.,  0.,  0.,  0.,  1.,  0.,  0.,  0.,  0.,  0.,\n",
              "         0.,  0.,  0.,  0.],\n",
              "       [ 6.,  1.,  0.,  0.,  0.,  0.,  0.,  1.,  0.,  0.,  0.,  0.,  0.,\n",
              "         0.,  0.,  0.,  0.],\n",
              "       [ 3.,  0.,  1.,  0.,  0.,  0.,  0.,  0.,  1.,  0.,  0.,  0.,  0.,\n",
              "         0.,  0.,  0.,  0.],\n",
              "       [ 9.,  0.,  1.,  0.,  0.,  0.,  0.,  0.,  0.,  1.,  0.,  0.,  0.,\n",
              "         0.,  0.,  0.,  0.],\n",
              "       [10.,  0.,  1.,  0.,  0.,  0.,  0.,  1.,  0.,  0.,  0.,  0.,  0.,\n",
              "         0.,  0.,  0.,  0.],\n",
              "       [ 7.,  0.,  1.,  0.,  0.,  0.,  0.,  1.,  0.,  0.,  0.,  0.,  0.,\n",
              "         0.,  0.,  0.,  0.],\n",
              "       [10.,  0.,  1.,  0.,  0.,  0.,  0.,  1.,  0.,  0.,  0.,  0.,  0.,\n",
              "         0.,  0.,  0.,  0.],\n",
              "       [ 8.,  0.,  1.,  0.,  0.,  0.,  0.,  1.,  0.,  0.,  0.,  0.,  0.,\n",
              "         0.,  0.,  0.,  0.],\n",
              "       [ 5.,  0.,  1.,  0.,  0.,  0.,  0.,  1.,  0.,  0.,  0.,  0.,  0.,\n",
              "         0.,  0.,  0.,  0.],\n",
              "       [ 4.,  0.,  1.,  0.,  0.,  0.,  0.,  1.,  0.,  0.,  0.,  0.,  0.,\n",
              "         0.,  0.,  0.,  0.],\n",
              "       [ 3.,  0.,  1.,  0.,  0.,  0.,  0.,  1.,  0.,  0.,  0.,  0.,  0.,\n",
              "         0.,  0.,  0.,  0.],\n",
              "       [ 3.,  0.,  1.,  0.,  0.,  0.,  0.,  0.,  0.,  0.,  1.,  0.,  0.,\n",
              "         0.,  0.,  0.,  0.],\n",
              "       [ 3.,  0.,  1.,  0.,  0.,  0.,  0.,  0.,  1.,  0.,  0.,  0.,  0.,\n",
              "         0.,  0.,  0.,  0.],\n",
              "       [ 9.,  0.,  1.,  0.,  0.,  0.,  0.,  0.,  0.,  1.,  0.,  0.,  0.,\n",
              "         0.,  0.,  0.,  0.],\n",
              "       [10.,  0.,  1.,  0.,  0.,  0.,  0.,  0.,  1.,  0.,  0.,  0.,  0.,\n",
              "         0.,  0.,  0.,  0.],\n",
              "       [ 7.,  0.,  1.,  0.,  0.,  0.,  0.,  0.,  1.,  0.,  0.,  0.,  0.,\n",
              "         0.,  0.,  0.,  0.],\n",
              "       [10.,  0.,  1.,  0.,  0.,  0.,  0.,  1.,  0.,  0.,  0.,  0.,  0.,\n",
              "         0.,  0.,  0.,  0.],\n",
              "       [ 8.,  0.,  1.,  0.,  0.,  0.,  0.,  1.,  0.,  0.,  0.,  0.,  0.,\n",
              "         0.,  0.,  0.,  0.],\n",
              "       [ 5.,  0.,  1.,  0.,  0.,  0.,  0.,  0.,  1.,  0.,  0.,  0.,  0.,\n",
              "         0.,  0.,  0.,  0.],\n",
              "       [ 4.,  0.,  1.,  0.,  0.,  0.,  0.,  0.,  1.,  0.,  0.,  0.,  0.,\n",
              "         0.,  0.,  0.,  0.],\n",
              "       [ 3.,  0.,  1.,  0.,  0.,  0.,  0.,  1.,  0.,  0.,  0.,  0.,  0.,\n",
              "         0.,  0.,  0.,  0.],\n",
              "       [ 3.,  0.,  1.,  0.,  0.,  0.,  0.,  0.,  0.,  0.,  1.,  0.,  0.,\n",
              "         0.,  0.,  0.,  0.]])"
            ]
          },
          "metadata": {},
          "execution_count": 15
        }
      ]
    },
    {
      "cell_type": "markdown",
      "source": [
        "Doing Feature preprocessing for Graph Convolutional Layer"
      ],
      "metadata": {
        "id": "xF6a9IVgGelX"
      }
    },
    {
      "cell_type": "code",
      "source": [
        "dataset.apply(GCNFilter())"
      ],
      "metadata": {
        "id": "LM86vR9KG4uV"
      },
      "execution_count": 16,
      "outputs": []
    },
    {
      "cell_type": "markdown",
      "source": [
        "## Creating the GNN"
      ],
      "metadata": {
        "id": "mnIMoDgMG68G"
      }
    },
    {
      "cell_type": "code",
      "source": [
        ""
      ],
      "metadata": {
        "id": "Na980ppRIdGy"
      },
      "execution_count": 16,
      "outputs": []
    },
    {
      "cell_type": "code",
      "source": [
        "class GNN(Model):\n",
        "  def __init__(self, n_hidden, n_labels):\n",
        "    super().__init__()\n",
        "    self.graph_conv = GCNConv(n_hidden)\n",
        "    self.pool = GlobalSumPool()\n",
        "    self.dropout = Dropout(0.5)\n",
        "    self.dense1 = Dense(100,activation='relu')\n",
        "    self.dense2 = Dense(n_labels, 'softmax')\n",
        "  \n",
        "  def call(self, inputs):\n",
        "    model = self.graph_conv(inputs)\n",
        "    #model = self.dropout(model)\n",
        "    model = self.pool(model)\n",
        "    model = self.dense1(model)\n",
        "    model= self.dense2(model)\n",
        "    ### GCN --> Dropout--> Global Sum Pool --> Dense\n",
        "    return model"
      ],
      "metadata": {
        "id": "u8mWZJo2Hs3b"
      },
      "execution_count": 38,
      "outputs": []
    },
    {
      "cell_type": "code",
      "source": [
        "model = GNN(64,dataset.n_labels) # Instantiating the Model"
      ],
      "metadata": {
        "id": "lxoZeHheKumH"
      },
      "execution_count": 39,
      "outputs": []
    },
    {
      "cell_type": "code",
      "source": [
        "model.compile(loss='categorical_crossentropy',optimizer='adam',metrics=['accuracy'])"
      ],
      "metadata": {
        "id": "9eBQtKbdK1TS"
      },
      "execution_count": 40,
      "outputs": []
    },
    {
      "cell_type": "markdown",
      "source": [
        "## Training the GNN "
      ],
      "metadata": {
        "id": "A-QEP-4sK7oP"
      }
    },
    {
      "cell_type": "code",
      "source": [
        "loader = BatchLoader(dataset, batch_size=32)"
      ],
      "metadata": {
        "id": "v5MFN6I3LOj3"
      },
      "execution_count": 41,
      "outputs": []
    },
    {
      "cell_type": "code",
      "source": [
        "model.fit(loader.load(), steps_per_epoch=loader.steps_per_epoch, epochs=10)"
      ],
      "metadata": {
        "colab": {
          "base_uri": "https://localhost:8080/"
        },
        "id": "XobhuJBATR-z",
        "outputId": "d40648d5-143e-452e-8f20-61d3dfca1991"
      },
      "execution_count": 42,
      "outputs": [
        {
          "output_type": "stream",
          "name": "stdout",
          "text": [
            "Epoch 1/10\n",
            "35/35 [==============================] - 1s 24ms/step - loss: 4.9128 - accuracy: 0.5923\n",
            "Epoch 2/10\n",
            "35/35 [==============================] - 1s 23ms/step - loss: 1.1981 - accuracy: 0.6184\n",
            "Epoch 3/10\n",
            "35/35 [==============================] - 1s 23ms/step - loss: 1.4708 - accuracy: 0.6058\n",
            "Epoch 4/10\n",
            "35/35 [==============================] - 1s 24ms/step - loss: 2.1087 - accuracy: 0.6544\n",
            "Epoch 5/10\n",
            "35/35 [==============================] - 1s 24ms/step - loss: 1.4967 - accuracy: 0.6193\n",
            "Epoch 6/10\n",
            "35/35 [==============================] - 1s 25ms/step - loss: 1.3296 - accuracy: 0.6409\n",
            "Epoch 7/10\n",
            "35/35 [==============================] - 1s 24ms/step - loss: 1.4893 - accuracy: 0.6292\n",
            "Epoch 8/10\n",
            "35/35 [==============================] - 1s 22ms/step - loss: 1.2094 - accuracy: 0.6580\n",
            "Epoch 9/10\n",
            "35/35 [==============================] - 1s 23ms/step - loss: 1.1800 - accuracy: 0.6724\n",
            "Epoch 10/10\n",
            "35/35 [==============================] - 1s 22ms/step - loss: 0.8644 - accuracy: 0.6868\n"
          ]
        },
        {
          "output_type": "execute_result",
          "data": {
            "text/plain": [
              "<keras.callbacks.History at 0x7fe2da5ecf90>"
            ]
          },
          "metadata": {},
          "execution_count": 42
        }
      ]
    },
    {
      "cell_type": "code",
      "source": [
        ""
      ],
      "metadata": {
        "id": "XUHj9SHITUNm",
        "outputId": "0b8fb3c5-4b33-4624-8b77-e94fa9caeb1c",
        "colab": {
          "base_uri": "https://localhost:8080/"
        }
      },
      "execution_count": 23,
      "outputs": [
        {
          "output_type": "stream",
          "name": "stdout",
          "text": [
            "Model: \"gnn\"\n",
            "_________________________________________________________________\n",
            " Layer (type)                Output Shape              Param #   \n",
            "=================================================================\n",
            " gcn_conv (GCNConv)          multiple                  576       \n",
            "                                                                 \n",
            " global_sum_pool (GlobalSumP  multiple                 0         \n",
            " ool)                                                            \n",
            "                                                                 \n",
            " dropout (Dropout)           multiple                  0         \n",
            "                                                                 \n",
            " dense (Dense)               multiple                  66        \n",
            "                                                                 \n",
            "=================================================================\n",
            "Total params: 642\n",
            "Trainable params: 642\n",
            "Non-trainable params: 0\n",
            "_________________________________________________________________\n"
          ]
        }
      ]
    },
    {
      "cell_type": "code",
      "source": [
        ""
      ],
      "metadata": {
        "id": "Dfc1fJYeIuMy"
      },
      "execution_count": null,
      "outputs": []
    }
  ]
}