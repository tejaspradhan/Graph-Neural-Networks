{
  "nbformat": 4,
  "nbformat_minor": 0,
  "metadata": {
    "colab": {
      "name": "GNN_Spektral.ipynb",
      "provenance": [],
      "authorship_tag": "ABX9TyNpGweL92WrlYatA7l1J1ax",
      "include_colab_link": true
    },
    "kernelspec": {
      "name": "python3",
      "display_name": "Python 3"
    },
    "language_info": {
      "name": "python"
    }
  },
  "cells": [
    {
      "cell_type": "markdown",
      "metadata": {
        "id": "view-in-github",
        "colab_type": "text"
      },
      "source": [
        "<a href=\"https://colab.research.google.com/github/tejaspradhan/Graph-Neural-Networks/blob/main/code/GNN_Spektral.ipynb\" target=\"_parent\"><img src=\"https://colab.research.google.com/assets/colab-badge.svg\" alt=\"Open In Colab\"/></a>"
      ]
    },
    {
      "cell_type": "markdown",
      "source": [
        "## Installing Spektral"
      ],
      "metadata": {
        "id": "25lmVwYTAyv0"
      }
    },
    {
      "cell_type": "code",
      "source": [
        "!pip install spektral"
      ],
      "metadata": {
        "id": "1UgBBrY1Bcu6"
      },
      "execution_count": null,
      "outputs": []
    },
    {
      "cell_type": "markdown",
      "source": [
        "## Importing Libraries"
      ],
      "metadata": {
        "id": "20pdMdrtBedK"
      }
    },
    {
      "cell_type": "code",
      "source": [
        "import numpy as np\n",
        "from spektral.datasets import TUDataset\n",
        "from spektral.transforms import Degree, GCNFilter\n",
        "from tensorflow.keras.models import Model\n",
        "from tensorflow.keras.layers import Dense, Dropout\n",
        "from spektral.layers import GCNConv, GlobalSumPool\n",
        "from spektral.data import BatchLoader"
      ],
      "metadata": {
        "id": "Sw3fo4lwA1iY"
      },
      "execution_count": 33,
      "outputs": []
    },
    {
      "cell_type": "markdown",
      "source": [
        "## Exploring the Dataset"
      ],
      "metadata": {
        "id": "a49_Edo4ETPm"
      }
    },
    {
      "cell_type": "code",
      "source": [
        "dataset = TUDataset(\"PROTEINS\")"
      ],
      "metadata": {
        "colab": {
          "base_uri": "https://localhost:8080/"
        },
        "id": "0keBPI0JBgrt",
        "outputId": "042a77de-e45a-4050-c114-459752456fa1"
      },
      "execution_count": 5,
      "outputs": [
        {
          "output_type": "stream",
          "name": "stdout",
          "text": [
            "Downloading PROTEINS dataset.\n"
          ]
        },
        {
          "output_type": "stream",
          "name": "stderr",
          "text": [
            "100%|█████████████████████████████████████████| 447k/447k [00:00<00:00, 945kB/s]\n"
          ]
        },
        {
          "output_type": "stream",
          "name": "stdout",
          "text": [
            "Successfully loaded PROTEINS.\n"
          ]
        }
      ]
    },
    {
      "cell_type": "code",
      "source": [
        "dataset\n",
        "# this dataset has 1113 distinct graphs"
      ],
      "metadata": {
        "colab": {
          "base_uri": "https://localhost:8080/"
        },
        "id": "HbmJ3gfsEQyK",
        "outputId": "a78a1bc8-9eb8-4ae1-942a-892ac7c5f232"
      },
      "execution_count": 6,
      "outputs": [
        {
          "output_type": "execute_result",
          "data": {
            "text/plain": [
              "TUDataset(n_graphs=1113)"
            ]
          },
          "metadata": {},
          "execution_count": 6
        }
      ]
    },
    {
      "cell_type": "code",
      "source": [
        "dataset.n_labels"
      ],
      "metadata": {
        "colab": {
          "base_uri": "https://localhost:8080/"
        },
        "id": "ad9R3X1nKoql",
        "outputId": "536e02f7-7aeb-4526-b91b-0ca3ca19cafc"
      },
      "execution_count": 34,
      "outputs": [
        {
          "output_type": "execute_result",
          "data": {
            "text/plain": [
              "2"
            ]
          },
          "metadata": {},
          "execution_count": 34
        }
      ]
    },
    {
      "cell_type": "markdown",
      "source": [
        "Exploring 1 graph"
      ],
      "metadata": {
        "id": "UDWxNJMLEYy5"
      }
    },
    {
      "cell_type": "code",
      "source": [
        "graph = dataset[0]\n",
        "graph"
      ],
      "metadata": {
        "colab": {
          "base_uri": "https://localhost:8080/"
        },
        "id": "BjBzX3vKEf04",
        "outputId": "52164b24-10a6-4161-ee3b-aaafa82c45e1"
      },
      "execution_count": 24,
      "outputs": [
        {
          "output_type": "execute_result",
          "data": {
            "text/plain": [
              "Graph(n_nodes=108, n_node_features=4, n_edge_features=None, n_labels=2)"
            ]
          },
          "metadata": {},
          "execution_count": 24
        }
      ]
    },
    {
      "cell_type": "code",
      "source": [
        ""
      ],
      "metadata": {
        "colab": {
          "base_uri": "https://localhost:8080/"
        },
        "id": "-QNte9INEhjR",
        "outputId": "b5587c28-a220-4c8e-a762-9d1fad96307f"
      },
      "execution_count": 8,
      "outputs": [
        {
          "output_type": "execute_result",
          "data": {
            "text/plain": [
              "Graph(n_nodes=42, n_node_features=4, n_edge_features=None, n_labels=2)"
            ]
          },
          "metadata": {},
          "execution_count": 8
        }
      ]
    },
    {
      "cell_type": "code",
      "source": [
        "# Adjacency Matrix\n",
        "graph.a"
      ],
      "metadata": {
        "colab": {
          "base_uri": "https://localhost:8080/"
        },
        "id": "c_tZFuMiFHkI",
        "outputId": "26bb44f9-a248-448e-aac1-0700638b324f"
      },
      "execution_count": 11,
      "outputs": [
        {
          "output_type": "execute_result",
          "data": {
            "text/plain": [
              "<42x42 sparse matrix of type '<class 'numpy.float64'>'\n",
              "\twith 162 stored elements in Compressed Sparse Row format>"
            ]
          },
          "metadata": {},
          "execution_count": 11
        }
      ]
    },
    {
      "cell_type": "code",
      "source": [
        "# Node Feature Matrix\n",
        "graph.x"
      ],
      "metadata": {
        "colab": {
          "base_uri": "https://localhost:8080/"
        },
        "id": "wlWSyP-sFLfb",
        "outputId": "85379802-5998-44bd-bc85-ddaaf928ed2c"
      },
      "execution_count": 13,
      "outputs": [
        {
          "output_type": "execute_result",
          "data": {
            "text/plain": [
              "array([[23.,  1.,  0.,  0.],\n",
              "       [10.,  1.,  0.,  0.],\n",
              "       [25.,  1.,  0.,  0.],\n",
              "       [ 7.,  1.,  0.,  0.],\n",
              "       [12.,  1.,  0.,  0.],\n",
              "       [11.,  1.,  0.,  0.],\n",
              "       [ 5.,  1.,  0.,  0.],\n",
              "       [ 7.,  1.,  0.,  0.],\n",
              "       [ 9.,  1.,  0.,  0.],\n",
              "       [ 3.,  1.,  0.,  0.],\n",
              "       [ 6.,  1.,  0.,  0.],\n",
              "       [22.,  1.,  0.,  0.],\n",
              "       [ 8.,  1.,  0.,  0.],\n",
              "       [26.,  1.,  0.,  0.],\n",
              "       [ 7.,  1.,  0.,  0.],\n",
              "       [12.,  1.,  0.,  0.],\n",
              "       [11.,  1.,  0.,  0.],\n",
              "       [ 5.,  1.,  0.,  0.],\n",
              "       [ 7.,  1.,  0.,  0.],\n",
              "       [ 8.,  1.,  0.,  0.],\n",
              "       [ 3.,  1.,  0.,  0.],\n",
              "       [ 6.,  1.,  0.,  0.],\n",
              "       [ 3.,  0.,  1.,  0.],\n",
              "       [ 9.,  0.,  1.,  0.],\n",
              "       [10.,  0.,  1.,  0.],\n",
              "       [ 7.,  0.,  1.,  0.],\n",
              "       [10.,  0.,  1.,  0.],\n",
              "       [ 8.,  0.,  1.,  0.],\n",
              "       [ 5.,  0.,  1.,  0.],\n",
              "       [ 4.,  0.,  1.,  0.],\n",
              "       [ 3.,  0.,  1.,  0.],\n",
              "       [ 3.,  0.,  1.,  0.],\n",
              "       [ 3.,  0.,  1.,  0.],\n",
              "       [ 9.,  0.,  1.,  0.],\n",
              "       [10.,  0.,  1.,  0.],\n",
              "       [ 7.,  0.,  1.,  0.],\n",
              "       [10.,  0.,  1.,  0.],\n",
              "       [ 8.,  0.,  1.,  0.],\n",
              "       [ 5.,  0.,  1.,  0.],\n",
              "       [ 4.,  0.,  1.,  0.],\n",
              "       [ 3.,  0.,  1.,  0.],\n",
              "       [ 3.,  0.,  1.,  0.]])"
            ]
          },
          "metadata": {},
          "execution_count": 13
        }
      ]
    },
    {
      "cell_type": "code",
      "source": [
        "# Edge Feature Matrix. No Edge Features for this graph\n",
        "graph.e"
      ],
      "metadata": {
        "id": "QndsRaV_FPba"
      },
      "execution_count": 16,
      "outputs": []
    },
    {
      "cell_type": "code",
      "source": [
        "# Label Matrix\n",
        "graph.y"
      ],
      "metadata": {
        "colab": {
          "base_uri": "https://localhost:8080/"
        },
        "id": "Q7Ck1dOCFUQn",
        "outputId": "1930f31d-ebb0-4d53-a35b-56ef1031cd4e"
      },
      "execution_count": 17,
      "outputs": [
        {
          "output_type": "execute_result",
          "data": {
            "text/plain": [
              "array([1., 0.])"
            ]
          },
          "metadata": {},
          "execution_count": 17
        }
      ]
    },
    {
      "cell_type": "markdown",
      "source": [
        "Datasets also provide methods for applying transforms to each datum:\n",
        "\n",
        "`apply(transform)` - modifies the dataset in-place, by applying the transform to each graph\n",
        "\n",
        "`map(transform)` - returns a list obtained by applying the transform to each graph\n",
        "\n",
        "`filter(function)` - removes from the dataset any graph for which function(graph) is False. This is also an in-place operation."
      ],
      "metadata": {
        "id": "80IKJFHeEkDK"
      }
    },
    {
      "cell_type": "code",
      "source": [
        "dataset.filter(lambda g: g.n_nodes < 500) # removing those graphs from the dataset which have >= 500 nodes\n",
        "dataset "
      ],
      "metadata": {
        "colab": {
          "base_uri": "https://localhost:8080/"
        },
        "id": "uo0W5UXwE4Zw",
        "outputId": "4c6f7c8c-ae82-43be-edd1-6a0a47d71daa"
      },
      "execution_count": 9,
      "outputs": [
        {
          "output_type": "execute_result",
          "data": {
            "text/plain": [
              "TUDataset(n_graphs=1111)"
            ]
          },
          "metadata": {},
          "execution_count": 9
        }
      ]
    },
    {
      "cell_type": "markdown",
      "source": [
        "## Preprocessing the Dataset for the GNN "
      ],
      "metadata": {
        "id": "dHDDjqy7HkoZ"
      }
    },
    {
      "cell_type": "code",
      "source": [
        "# Finding the maximum degree of the data\n",
        "max_degree = int(dataset.map(lambda g: g.a.sum(-1).max(), reduce=max))"
      ],
      "metadata": {
        "id": "7grBYfmeE9y_"
      },
      "execution_count": 26,
      "outputs": []
    },
    {
      "cell_type": "code",
      "source": [
        "max_degree "
      ],
      "metadata": {
        "colab": {
          "base_uri": "https://localhost:8080/"
        },
        "id": "6Fp66pOpFxMW",
        "outputId": "cb6da50b-fb93-45cf-f55c-03f2367af07c"
      },
      "execution_count": 27,
      "outputs": [
        {
          "output_type": "execute_result",
          "data": {
            "text/plain": [
              "12"
            ]
          },
          "metadata": {},
          "execution_count": 27
        }
      ]
    },
    {
      "cell_type": "markdown",
      "source": [
        "Augmenting the Dataset's Node Features with the Maximum Degree of any Graph "
      ],
      "metadata": {
        "id": "Wrf2ekfjFy3-"
      }
    },
    {
      "cell_type": "code",
      "source": [
        "dataset.apply(Degree(max_degree))"
      ],
      "metadata": {
        "id": "qF7opsW0GT1k"
      },
      "execution_count": 31,
      "outputs": []
    },
    {
      "cell_type": "code",
      "source": [
        "dataset[0].x"
      ],
      "metadata": {
        "colab": {
          "base_uri": "https://localhost:8080/"
        },
        "id": "P-WHNfZWGZ58",
        "outputId": "5dc7d09b-4ffd-475e-fa8b-33f1334d856a"
      },
      "execution_count": 30,
      "outputs": [
        {
          "output_type": "execute_result",
          "data": {
            "text/plain": [
              "array([[23.,  1.,  0.,  0.,  0.,  0.,  0.,  1.,  0.,  0.,  0.,  0.,  0.,\n",
              "         0.,  0.,  0.,  0.],\n",
              "       [10.,  1.,  0.,  0.,  0.,  0.,  0.,  1.,  0.,  0.,  0.,  0.,  0.,\n",
              "         0.,  0.,  0.,  0.],\n",
              "       [25.,  1.,  0.,  0.,  0.,  0.,  0.,  1.,  0.,  0.,  0.,  0.,  0.,\n",
              "         0.,  0.,  0.,  0.],\n",
              "       [ 7.,  1.,  0.,  0.,  0.,  0.,  0.,  0.,  0.,  1.,  0.,  0.,  0.,\n",
              "         0.,  0.,  0.,  0.],\n",
              "       [12.,  1.,  0.,  0.,  0.,  0.,  0.,  0.,  0.,  0.,  1.,  0.,  0.,\n",
              "         0.,  0.,  0.,  0.],\n",
              "       [11.,  1.,  0.,  0.,  0.,  0.,  0.,  1.,  0.,  0.,  0.,  0.,  0.,\n",
              "         0.,  0.,  0.,  0.],\n",
              "       [ 5.,  1.,  0.,  0.,  0.,  0.,  0.,  1.,  0.,  0.,  0.,  0.,  0.,\n",
              "         0.,  0.,  0.,  0.],\n",
              "       [ 7.,  1.,  0.,  0.,  0.,  0.,  0.,  0.,  1.,  0.,  0.,  0.,  0.,\n",
              "         0.,  0.,  0.,  0.],\n",
              "       [ 9.,  1.,  0.,  0.,  0.,  0.,  0.,  0.,  0.,  1.,  0.,  0.,  0.,\n",
              "         0.,  0.,  0.,  0.],\n",
              "       [ 3.,  1.,  0.,  0.,  0.,  0.,  0.,  0.,  0.,  0.,  1.,  0.,  0.,\n",
              "         0.,  0.,  0.,  0.],\n",
              "       [ 6.,  1.,  0.,  0.,  0.,  0.,  0.,  1.,  0.,  0.,  0.,  0.,  0.,\n",
              "         0.,  0.,  0.,  0.],\n",
              "       [22.,  1.,  0.,  0.,  0.,  0.,  0.,  1.,  0.,  0.,  0.,  0.,  0.,\n",
              "         0.,  0.,  0.,  0.],\n",
              "       [ 8.,  1.,  0.,  0.,  0.,  0.,  0.,  1.,  0.,  0.,  0.,  0.,  0.,\n",
              "         0.,  0.,  0.,  0.],\n",
              "       [26.,  1.,  0.,  0.,  0.,  0.,  0.,  0.,  1.,  0.,  0.,  0.,  0.,\n",
              "         0.,  0.,  0.,  0.],\n",
              "       [ 7.,  1.,  0.,  0.,  0.,  0.,  0.,  0.,  1.,  0.,  0.,  0.,  0.,\n",
              "         0.,  0.,  0.,  0.],\n",
              "       [12.,  1.,  0.,  0.,  0.,  0.,  0.,  1.,  0.,  0.,  0.,  0.,  0.,\n",
              "         0.,  0.,  0.,  0.],\n",
              "       [11.,  1.,  0.,  0.,  0.,  0.,  0.,  0.,  1.,  0.,  0.,  0.,  0.,\n",
              "         0.,  0.,  0.,  0.],\n",
              "       [ 5.,  1.,  0.,  0.,  0.,  0.,  0.,  1.,  0.,  0.,  0.,  0.,  0.,\n",
              "         0.,  0.,  0.,  0.],\n",
              "       [ 7.,  1.,  0.,  0.,  0.,  0.,  0.,  0.,  1.,  0.,  0.,  0.,  0.,\n",
              "         0.,  0.,  0.,  0.],\n",
              "       [ 8.,  1.,  0.,  0.,  0.,  0.,  0.,  0.,  0.,  0.,  0.,  0.,  1.,\n",
              "         0.,  0.,  0.,  0.],\n",
              "       [ 3.,  1.,  0.,  0.,  0.,  0.,  0.,  1.,  0.,  0.,  0.,  0.,  0.,\n",
              "         0.,  0.,  0.,  0.],\n",
              "       [ 6.,  1.,  0.,  0.,  0.,  0.,  0.,  1.,  0.,  0.,  0.,  0.,  0.,\n",
              "         0.,  0.,  0.,  0.],\n",
              "       [ 3.,  0.,  1.,  0.,  0.,  0.,  0.,  0.,  1.,  0.,  0.,  0.,  0.,\n",
              "         0.,  0.,  0.,  0.],\n",
              "       [ 9.,  0.,  1.,  0.,  0.,  0.,  0.,  0.,  0.,  1.,  0.,  0.,  0.,\n",
              "         0.,  0.,  0.,  0.],\n",
              "       [10.,  0.,  1.,  0.,  0.,  0.,  0.,  1.,  0.,  0.,  0.,  0.,  0.,\n",
              "         0.,  0.,  0.,  0.],\n",
              "       [ 7.,  0.,  1.,  0.,  0.,  0.,  0.,  1.,  0.,  0.,  0.,  0.,  0.,\n",
              "         0.,  0.,  0.,  0.],\n",
              "       [10.,  0.,  1.,  0.,  0.,  0.,  0.,  1.,  0.,  0.,  0.,  0.,  0.,\n",
              "         0.,  0.,  0.,  0.],\n",
              "       [ 8.,  0.,  1.,  0.,  0.,  0.,  0.,  1.,  0.,  0.,  0.,  0.,  0.,\n",
              "         0.,  0.,  0.,  0.],\n",
              "       [ 5.,  0.,  1.,  0.,  0.,  0.,  0.,  1.,  0.,  0.,  0.,  0.,  0.,\n",
              "         0.,  0.,  0.,  0.],\n",
              "       [ 4.,  0.,  1.,  0.,  0.,  0.,  0.,  1.,  0.,  0.,  0.,  0.,  0.,\n",
              "         0.,  0.,  0.,  0.],\n",
              "       [ 3.,  0.,  1.,  0.,  0.,  0.,  0.,  1.,  0.,  0.,  0.,  0.,  0.,\n",
              "         0.,  0.,  0.,  0.],\n",
              "       [ 3.,  0.,  1.,  0.,  0.,  0.,  0.,  0.,  0.,  0.,  1.,  0.,  0.,\n",
              "         0.,  0.,  0.,  0.],\n",
              "       [ 3.,  0.,  1.,  0.,  0.,  0.,  0.,  0.,  1.,  0.,  0.,  0.,  0.,\n",
              "         0.,  0.,  0.,  0.],\n",
              "       [ 9.,  0.,  1.,  0.,  0.,  0.,  0.,  0.,  0.,  1.,  0.,  0.,  0.,\n",
              "         0.,  0.,  0.,  0.],\n",
              "       [10.,  0.,  1.,  0.,  0.,  0.,  0.,  0.,  1.,  0.,  0.,  0.,  0.,\n",
              "         0.,  0.,  0.,  0.],\n",
              "       [ 7.,  0.,  1.,  0.,  0.,  0.,  0.,  0.,  1.,  0.,  0.,  0.,  0.,\n",
              "         0.,  0.,  0.,  0.],\n",
              "       [10.,  0.,  1.,  0.,  0.,  0.,  0.,  1.,  0.,  0.,  0.,  0.,  0.,\n",
              "         0.,  0.,  0.,  0.],\n",
              "       [ 8.,  0.,  1.,  0.,  0.,  0.,  0.,  1.,  0.,  0.,  0.,  0.,  0.,\n",
              "         0.,  0.,  0.,  0.],\n",
              "       [ 5.,  0.,  1.,  0.,  0.,  0.,  0.,  0.,  1.,  0.,  0.,  0.,  0.,\n",
              "         0.,  0.,  0.,  0.],\n",
              "       [ 4.,  0.,  1.,  0.,  0.,  0.,  0.,  0.,  1.,  0.,  0.,  0.,  0.,\n",
              "         0.,  0.,  0.,  0.],\n",
              "       [ 3.,  0.,  1.,  0.,  0.,  0.,  0.,  1.,  0.,  0.,  0.,  0.,  0.,\n",
              "         0.,  0.,  0.,  0.],\n",
              "       [ 3.,  0.,  1.,  0.,  0.,  0.,  0.,  0.,  0.,  0.,  1.,  0.,  0.,\n",
              "         0.,  0.,  0.,  0.]])"
            ]
          },
          "metadata": {},
          "execution_count": 30
        }
      ]
    },
    {
      "cell_type": "markdown",
      "source": [
        "Doing Feature preprocessing for Graph Convolutional Layer"
      ],
      "metadata": {
        "id": "xF6a9IVgGelX"
      }
    },
    {
      "cell_type": "code",
      "source": [
        "dataset.apply(GCNFilter())"
      ],
      "metadata": {
        "id": "LM86vR9KG4uV"
      },
      "execution_count": 32,
      "outputs": []
    },
    {
      "cell_type": "markdown",
      "source": [
        "## Creating the GNN"
      ],
      "metadata": {
        "id": "mnIMoDgMG68G"
      }
    },
    {
      "cell_type": "code",
      "source": [
        "class GNN(Model):\n",
        "  def __init__(self, n_hidden, n_labels):\n",
        "    super().__init__()\n",
        "    self.graph_conv = GCNConv(n_hidden)\n",
        "    self.pool = GlobalSumPool()\n",
        "    self.dropout = Dropout(0.5)\n",
        "    self.dense = Dense(n_labels, 'softmax')\n",
        "  \n",
        "  def call(self, inputs):\n",
        "    model = self.graph_conv(inputs)\n",
        "    model = self.dropout(model)\n",
        "    model = self.pool(model)\n",
        "    model= self.dense(model)\n",
        "    ### GCN --> Dropout--> Global Sum Pool --> Dense\n",
        "    return model"
      ],
      "metadata": {
        "id": "u8mWZJo2Hs3b"
      },
      "execution_count": 38,
      "outputs": []
    },
    {
      "cell_type": "code",
      "source": [
        "model = GNN(32,dataset.n_labels) # Instantiating the Model"
      ],
      "metadata": {
        "id": "lxoZeHheKumH"
      },
      "execution_count": 39,
      "outputs": []
    },
    {
      "cell_type": "code",
      "source": [
        "model.compile(loss='categorical_crossentropy',optimizer='adam',metrics=['accuracy'])"
      ],
      "metadata": {
        "id": "9eBQtKbdK1TS"
      },
      "execution_count": 44,
      "outputs": []
    },
    {
      "cell_type": "markdown",
      "source": [
        "## Training the GNN "
      ],
      "metadata": {
        "id": "A-QEP-4sK7oP"
      }
    },
    {
      "cell_type": "code",
      "source": [
        "loader = BatchLoader(dataset, batch_size=32)"
      ],
      "metadata": {
        "id": "v5MFN6I3LOj3"
      },
      "execution_count": 45,
      "outputs": []
    },
    {
      "cell_type": "code",
      "source": [
        "model.fit(loader.load(), steps_per_epoch=loader.steps_per_epoch, epochs=10)"
      ],
      "metadata": {
        "colab": {
          "base_uri": "https://localhost:8080/"
        },
        "id": "XobhuJBATR-z",
        "outputId": "672575a0-d335-41d8-b1bb-d0e5ba3b5f21"
      },
      "execution_count": 46,
      "outputs": [
        {
          "output_type": "stream",
          "name": "stdout",
          "text": [
            "Epoch 1/10\n",
            "35/35 [==============================] - 2s 35ms/step - loss: 4.0378 - accuracy: 0.6256\n",
            "Epoch 2/10\n",
            "35/35 [==============================] - 1s 35ms/step - loss: 4.3650 - accuracy: 0.6436\n",
            "Epoch 3/10\n",
            "35/35 [==============================] - 1s 31ms/step - loss: 3.7426 - accuracy: 0.6274\n",
            "Epoch 4/10\n",
            "35/35 [==============================] - 1s 31ms/step - loss: 3.7656 - accuracy: 0.6130\n",
            "Epoch 5/10\n",
            "35/35 [==============================] - 1s 24ms/step - loss: 3.7289 - accuracy: 0.6337\n",
            "Epoch 6/10\n",
            "35/35 [==============================] - 1s 24ms/step - loss: 3.8771 - accuracy: 0.6139\n",
            "Epoch 7/10\n",
            "35/35 [==============================] - 1s 26ms/step - loss: 3.5794 - accuracy: 0.6292\n",
            "Epoch 8/10\n",
            "35/35 [==============================] - 1s 24ms/step - loss: 3.0536 - accuracy: 0.6238\n",
            "Epoch 9/10\n",
            "35/35 [==============================] - 1s 24ms/step - loss: 3.0806 - accuracy: 0.6283\n",
            "Epoch 10/10\n",
            "35/35 [==============================] - 1s 25ms/step - loss: 2.9000 - accuracy: 0.6445\n"
          ]
        },
        {
          "output_type": "execute_result",
          "data": {
            "text/plain": [
              "<keras.callbacks.History at 0x7f93c1a0f190>"
            ]
          },
          "metadata": {},
          "execution_count": 46
        }
      ]
    },
    {
      "cell_type": "code",
      "source": [
        ""
      ],
      "metadata": {
        "id": "XUHj9SHITUNm"
      },
      "execution_count": null,
      "outputs": []
    }
  ]
}