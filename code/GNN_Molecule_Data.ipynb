{
  "nbformat": 4,
  "nbformat_minor": 0,
  "metadata": {
    "colab": {
      "name": "GNN-Molecule_Data.ipynb",
      "provenance": [],
      "authorship_tag": "ABX9TyNk1nVC1xJ/8RoyoPsUTxCj",
      "include_colab_link": true
    },
    "kernelspec": {
      "name": "python3",
      "display_name": "Python 3"
    },
    "language_info": {
      "name": "python"
    },
    "accelerator": "GPU"
  },
  "cells": [
    {
      "cell_type": "markdown",
      "metadata": {
        "id": "view-in-github",
        "colab_type": "text"
      },
      "source": [
        "<a href=\"https://colab.research.google.com/github/tejaspradhan/Graph-Neural-Networks/blob/main/code/GNN_Molecule_Data.ipynb\" target=\"_parent\"><img src=\"https://colab.research.google.com/assets/colab-badge.svg\" alt=\"Open In Colab\"/></a>"
      ]
    },
    {
      "cell_type": "markdown",
      "source": [
        "# Predicting Water Solubility of a Molecule \n",
        "The molecule is represented as a graph.\n",
        " \n",
        "This is a graph classification problem"
      ],
      "metadata": {
        "id": "P16sPGvYUAa_"
      }
    },
    {
      "cell_type": "markdown",
      "source": [
        "## Installation of Pytorch and RDKit"
      ],
      "metadata": {
        "id": "JCrcAmri-ULy"
      }
    },
    {
      "cell_type": "code",
      "execution_count": 1,
      "metadata": {
        "id": "4dETM8oG3_kU",
        "outputId": "e04fd078-4680-4398-af05-8730903ae42f",
        "colab": {
          "base_uri": "https://localhost:8080/"
        }
      },
      "outputs": [
        {
          "output_type": "stream",
          "name": "stdout",
          "text": [
            "1.10.0+cu111\n",
            "11.1\n",
            "Python 3.7.12\n",
            "Sun Jan  2 06:20:42 2022       \n",
            "+-----------------------------------------------------------------------------+\n",
            "| NVIDIA-SMI 495.44       Driver Version: 460.32.03    CUDA Version: 11.2     |\n",
            "|-------------------------------+----------------------+----------------------+\n",
            "| GPU  Name        Persistence-M| Bus-Id        Disp.A | Volatile Uncorr. ECC |\n",
            "| Fan  Temp  Perf  Pwr:Usage/Cap|         Memory-Usage | GPU-Util  Compute M. |\n",
            "|                               |                      |               MIG M. |\n",
            "|===============================+======================+======================|\n",
            "|   0  Tesla K80           Off  | 00000000:00:04.0 Off |                    0 |\n",
            "| N/A   49C    P8    27W / 149W |      0MiB / 11441MiB |      0%      Default |\n",
            "|                               |                      |                  N/A |\n",
            "+-------------------------------+----------------------+----------------------+\n",
            "                                                                               \n",
            "+-----------------------------------------------------------------------------+\n",
            "| Processes:                                                                  |\n",
            "|  GPU   GI   CI        PID   Type   Process name                  GPU Memory |\n",
            "|        ID   ID                                                   Usage      |\n",
            "|=============================================================================|\n",
            "|  No running processes found                                                 |\n",
            "+-----------------------------------------------------------------------------+\n"
          ]
        }
      ],
      "source": [
        "# Check pytorch version and make sure you use a GPU Kernel\n",
        "!python -c \"import torch; print(torch.__version__)\"\n",
        "!python -c \"import torch; print(torch.version.cuda)\"\n",
        "!python --version\n",
        "!nvidia-smi"
      ]
    },
    {
      "cell_type": "code",
      "source": [
        "#@title\n",
        "# Install rdkit\n",
        "import sys\n",
        "import os\n",
        "import requests\n",
        "import subprocess\n",
        "import shutil\n",
        "from logging import getLogger, StreamHandler, INFO\n",
        " \n",
        " \n",
        "logger = getLogger(__name__)\n",
        "logger.addHandler(StreamHandler())\n",
        "logger.setLevel(INFO)\n",
        " \n",
        " \n",
        "def install(\n",
        "        chunk_size=4096,\n",
        "        file_name=\"Miniconda3-latest-Linux-x86_64.sh\",\n",
        "        url_base=\"https://repo.continuum.io/miniconda/\",\n",
        "        conda_path=os.path.expanduser(os.path.join(\"~\", \"miniconda\")),\n",
        "        rdkit_version=None,\n",
        "        add_python_path=True,\n",
        "        force=False):\n",
        "    \"\"\"install rdkit from miniconda\n",
        "    ```\n",
        "    import rdkit_installer\n",
        "    rdkit_installer.install()\n",
        "    ```\n",
        "    \"\"\"\n",
        " \n",
        "    python_path = os.path.join(\n",
        "        conda_path,\n",
        "        \"lib\",\n",
        "        \"python{0}.{1}\".format(*sys.version_info),\n",
        "        \"site-packages\",\n",
        "    )\n",
        " \n",
        "    if add_python_path and python_path not in sys.path:\n",
        "        logger.info(\"add {} to PYTHONPATH\".format(python_path))\n",
        "        sys.path.append(python_path)\n",
        " \n",
        "    if os.path.isdir(os.path.join(python_path, \"rdkit\")):\n",
        "        logger.info(\"rdkit is already installed\")\n",
        "        if not force:\n",
        "            return\n",
        " \n",
        "        logger.info(\"force re-install\")\n",
        " \n",
        "    url = url_base + file_name\n",
        "    python_version = \"{0}.{1}.{2}\".format(*sys.version_info)\n",
        " \n",
        "    logger.info(\"python version: {}\".format(python_version))\n",
        " \n",
        "    if os.path.isdir(conda_path):\n",
        "        logger.warning(\"remove current miniconda\")\n",
        "        shutil.rmtree(conda_path)\n",
        "    elif os.path.isfile(conda_path):\n",
        "        logger.warning(\"remove {}\".format(conda_path))\n",
        "        os.remove(conda_path)\n",
        " \n",
        "    logger.info('fetching installer from {}'.format(url))\n",
        "    res = requests.get(url, stream=True)\n",
        "    res.raise_for_status()\n",
        "    with open(file_name, 'wb') as f:\n",
        "        for chunk in res.iter_content(chunk_size):\n",
        "            f.write(chunk)\n",
        "    logger.info('done')\n",
        " \n",
        "    logger.info('installing miniconda to {}'.format(conda_path))\n",
        "    subprocess.check_call([\"bash\", file_name, \"-b\", \"-p\", conda_path])\n",
        "    logger.info('done')\n",
        " \n",
        "    logger.info(\"installing rdkit\")\n",
        "    subprocess.check_call([\n",
        "        os.path.join(conda_path, \"bin\", \"conda\"),\n",
        "        \"install\",\n",
        "        \"--yes\",\n",
        "        \"-c\", \"rdkit\",\n",
        "        \"python==3.7.3\",\n",
        "        \"rdkit\" if rdkit_version is None else \"rdkit=={}\".format(rdkit_version)])\n",
        "    logger.info(\"done\")\n",
        " \n",
        "    import rdkit\n",
        "    logger.info(\"rdkit-{} installation finished!\".format(rdkit.__version__))\n",
        " \n",
        " \n",
        "if __name__ == \"__main__\":\n",
        "    install()"
      ],
      "metadata": {
        "id": "zRzvnzwZ-M80",
        "outputId": "4345fb17-9f3c-4f4e-d830-7869258bdfa0",
        "colab": {
          "base_uri": "https://localhost:8080/"
        }
      },
      "execution_count": 2,
      "outputs": [
        {
          "output_type": "stream",
          "name": "stderr",
          "text": [
            "add /root/miniconda/lib/python3.7/site-packages to PYTHONPATH\n",
            "rdkit is already installed\n"
          ]
        }
      ]
    },
    {
      "cell_type": "code",
      "source": [
        "! pip install -q torch-scatter -f https://pytorch-geometric.com/whl/torch-1.10.0+cu111.html\n",
        "! pip install -q torch-sparse -f https://pytorch-geometric.com/whl/torch-1.10.0+cu111.html\n",
        "! pip install -q torch-cluster -f https://pytorch-geometric.com/whl/torch-1.10.0+cu111.html\n",
        "! pip install -q torch-geometric"
      ],
      "metadata": {
        "id": "rfdaS-CmGHY7"
      },
      "execution_count": 3,
      "outputs": []
    },
    {
      "cell_type": "code",
      "source": [
        "import rdkit\n",
        "from torch_geometric.datasets import MoleculeNet\n",
        "import numpy as np"
      ],
      "metadata": {
        "id": "eoGq0uScItNC"
      },
      "execution_count": 4,
      "outputs": []
    },
    {
      "cell_type": "markdown",
      "source": [
        "## Exploring the Dataset"
      ],
      "metadata": {
        "id": "tUPX0aNm-Tdj"
      }
    },
    {
      "cell_type": "code",
      "source": [
        "data = MoleculeNet(root=\".\", name=\"ESOL\")\n",
        "data"
      ],
      "metadata": {
        "id": "39n4vHz3_ku_",
        "outputId": "2d7494dc-7a9e-45c8-9f72-7ca164df0b11",
        "colab": {
          "base_uri": "https://localhost:8080/"
        }
      },
      "execution_count": 5,
      "outputs": [
        {
          "output_type": "execute_result",
          "data": {
            "text/plain": [
              "ESOL(1128)"
            ]
          },
          "metadata": {},
          "execution_count": 5
        }
      ]
    },
    {
      "cell_type": "code",
      "source": [
        "len(data)"
      ],
      "metadata": {
        "id": "rgUjukwS4roC",
        "outputId": "7c5138de-7346-4c25-dce6-42873928f36f",
        "colab": {
          "base_uri": "https://localhost:8080/"
        }
      },
      "execution_count": 6,
      "outputs": [
        {
          "output_type": "execute_result",
          "data": {
            "text/plain": [
              "1128"
            ]
          },
          "metadata": {},
          "execution_count": 6
        }
      ]
    },
    {
      "cell_type": "code",
      "source": [
        "# number of features in the graph\n",
        "data.num_features"
      ],
      "metadata": {
        "id": "PbgXzkysNwsE",
        "outputId": "1e7dbc9f-2631-40e1-e531-608b331b2c22",
        "colab": {
          "base_uri": "https://localhost:8080/"
        }
      },
      "execution_count": 7,
      "outputs": [
        {
          "output_type": "execute_result",
          "data": {
            "text/plain": [
              "9"
            ]
          },
          "metadata": {},
          "execution_count": 7
        }
      ]
    },
    {
      "cell_type": "code",
      "source": [
        "# Target classes\n",
        "data.num_classes"
      ],
      "metadata": {
        "id": "YaEri93pO8zy",
        "outputId": "67519da4-d383-4462-8ace-173d5ab61010",
        "colab": {
          "base_uri": "https://localhost:8080/"
        }
      },
      "execution_count": 8,
      "outputs": [
        {
          "output_type": "execute_result",
          "data": {
            "text/plain": [
              "734"
            ]
          },
          "metadata": {},
          "execution_count": 8
        }
      ]
    },
    {
      "cell_type": "code",
      "source": [
        "data[0]"
      ],
      "metadata": {
        "id": "csacvX79PCSI",
        "outputId": "4e6be65e-824c-4c0e-ccdc-1d3801df3bd2",
        "colab": {
          "base_uri": "https://localhost:8080/"
        }
      },
      "execution_count": 9,
      "outputs": [
        {
          "output_type": "execute_result",
          "data": {
            "text/plain": [
              "Data(x=[32, 9], edge_index=[2, 68], edge_attr=[68, 3], y=[1, 1], smiles='OCC3OC(OCC2OC(OC(C#N)c1ccccc1)C(O)C(O)C2O)C(O)C(O)C3O ')"
            ]
          },
          "metadata": {},
          "execution_count": 9
        }
      ]
    },
    {
      "cell_type": "code",
      "source": [
        "data[0].x.shape # matrix of 32x9 --> 32 nodes and 9 features of each node"
      ],
      "metadata": {
        "id": "IhyfxnNNPL1O",
        "outputId": "ee14d0ee-7b13-493c-9b04-03d664bf769e",
        "colab": {
          "base_uri": "https://localhost:8080/"
        }
      },
      "execution_count": 10,
      "outputs": [
        {
          "output_type": "execute_result",
          "data": {
            "text/plain": [
              "torch.Size([32, 9])"
            ]
          },
          "metadata": {},
          "execution_count": 10
        }
      ]
    },
    {
      "cell_type": "code",
      "source": [
        "data[0].y # 1 target variable. Regression problem or Graph level prediction problem "
      ],
      "metadata": {
        "id": "seJNsv_9PZgb",
        "outputId": "3b7304ad-3647-4eb6-a8c6-231240e024d7",
        "colab": {
          "base_uri": "https://localhost:8080/"
        }
      },
      "execution_count": 11,
      "outputs": [
        {
          "output_type": "execute_result",
          "data": {
            "text/plain": [
              "tensor([[-0.7700]])"
            ]
          },
          "metadata": {},
          "execution_count": 11
        }
      ]
    },
    {
      "cell_type": "code",
      "source": [
        "data[0].smiles"
      ],
      "metadata": {
        "id": "fkbwnt35Pbiu",
        "outputId": "7116a8f7-a7da-4990-bc0c-e0cabceffdb2",
        "colab": {
          "base_uri": "https://localhost:8080/",
          "height": 35
        }
      },
      "execution_count": 12,
      "outputs": [
        {
          "output_type": "execute_result",
          "data": {
            "application/vnd.google.colaboratory.intrinsic+json": {
              "type": "string"
            },
            "text/plain": [
              "'OCC3OC(OCC2OC(OC(C#N)c1ccccc1)C(O)C(O)C2O)C(O)C(O)C3O '"
            ]
          },
          "metadata": {},
          "execution_count": 12
        }
      ]
    },
    {
      "cell_type": "code",
      "source": [
        "print(data[0].edge_index.t().shape) # 68 edges "
      ],
      "metadata": {
        "id": "S3goC0bB3j-H",
        "outputId": "07e5c424-7207-407e-faf6-82d41443796c",
        "colab": {
          "base_uri": "https://localhost:8080/"
        }
      },
      "execution_count": 13,
      "outputs": [
        {
          "output_type": "stream",
          "name": "stdout",
          "text": [
            "torch.Size([68, 2])\n"
          ]
        }
      ]
    },
    {
      "cell_type": "markdown",
      "source": [
        "**Visualising the Molecule Data**"
      ],
      "metadata": {
        "id": "ANNmeDWX5Nb1"
      }
    },
    {
      "cell_type": "code",
      "source": [
        "from rdkit import Chem\n",
        "from rdkit.Chem.Draw import IPythonConsole"
      ],
      "metadata": {
        "id": "PX2cK6i93909"
      },
      "execution_count": 14,
      "outputs": []
    },
    {
      "cell_type": "code",
      "source": [
        "index = np.random.randint(0,len(data))\n",
        "molecule = Chem.MolFromSmiles(data[index][\"smiles\"])\n",
        "molecule"
      ],
      "metadata": {
        "id": "P6QrbQwg46_y",
        "outputId": "c69744ee-3cee-4e6a-a376-f0479f7fe3df",
        "colab": {
          "base_uri": "https://localhost:8080/",
          "height": 167
        }
      },
      "execution_count": 15,
      "outputs": [
        {
          "output_type": "execute_result",
          "data": {
            "image/png": "[encoded data removed]",
            "text/plain": [
              "<rdkit.Chem.rdchem.Mol at 0x7f44dd713620>"
            ]
          },
          "metadata": {},
          "execution_count": 15
        }
      ]
    },
    {
      "cell_type": "markdown",
      "source": [
        "## Implementing the Graph Neural Network"
      ],
      "metadata": {
        "id": "u9RSNdDH5LoV"
      }
    },
    {
      "cell_type": "code",
      "source": [
        "# importing libraries specific to the GNN \n",
        "import torch\n",
        "from torch.nn import Linear\n",
        "from torch import tanh \n",
        "from torch_geometric.nn import GCNConv, TopKPooling\n",
        "from torch_geometric.nn import global_mean_pool ,global_max_pool"
      ],
      "metadata": {
        "id": "-jIeKH445Z0K"
      },
      "execution_count": 28,
      "outputs": []
    },
    {
      "cell_type": "code",
      "source": [
        "class GNN(torch.nn.Module):\n",
        "  def __init__(self):\n",
        "    # calling parent class\n",
        "    super(GNN,self).__init__()\n",
        "    torch.manual_seed(42)\n",
        "    \n",
        "    # defining GNN layers\n",
        "    self.conv0 = GCNConv(data.num_features,64)\n",
        "    self.conv1 = GCNConv(64,64)\n",
        "    self.conv2 = GCNConv(64,64)\n",
        "    self.conv3 = GCNConv(64,64)\n",
        "    self.out = Linear(128,1)\n",
        "\n",
        "  def forward(self,node_features, edge_index,batch_index):\n",
        "    hidden = self.conv0(node_features,edge_index)\n",
        "    hidden = tanh(hidden)\n",
        "    hidden = self.conv1(hidden, edge_index)\n",
        "    hidden = self.conv2(hidden, edge_index)\n",
        "    hidden = tanh(hidden)\n",
        "    hidden = self.conv3(hidden, edge_index)\n",
        "    hidden = tanh(hidden)\n",
        "    # Here we are doing a concatenation of Global mean pooling and Global average pooling which results into a vector of size 128 (64+64)\n",
        "    hidden = torch.cat([global_mean_pool(hidden, batch_index), \n",
        "                            global_max_pool(hidden, batch_index)], dim=1)\n",
        "    out = self.out(hidden)\n",
        "    return out, hidden"
      ],
      "metadata": {
        "id": "Xci6LXtEVRR1"
      },
      "execution_count": 17,
      "outputs": []
    },
    {
      "cell_type": "code",
      "source": [
        "model = GNN()"
      ],
      "metadata": {
        "id": "PQmjDMSRZQfR"
      },
      "execution_count": 18,
      "outputs": []
    },
    {
      "cell_type": "code",
      "source": [
        "print(model)"
      ],
      "metadata": {
        "id": "1G6mKIG4ZR6X",
        "outputId": "4d69aac6-c4a3-4e1c-cd3d-8b3f22bb19b2",
        "colab": {
          "base_uri": "https://localhost:8080/"
        }
      },
      "execution_count": 19,
      "outputs": [
        {
          "output_type": "stream",
          "name": "stdout",
          "text": [
            "GNN(\n",
            "  (conv0): GCNConv(9, 64)\n",
            "  (conv1): GCNConv(64, 64)\n",
            "  (conv2): GCNConv(64, 64)\n",
            "  (conv3): GCNConv(64, 64)\n",
            "  (out): Linear(in_features=128, out_features=1, bias=True)\n",
            ")\n"
          ]
        }
      ]
    },
    {
      "cell_type": "markdown",
      "source": [
        "## Training the GNN"
      ],
      "metadata": {
        "id": "OwTy81INZSha"
      }
    },
    {
      "cell_type": "code",
      "source": [
        "from torch_geometric.loader import DataLoader\n",
        "L = torch.nn.MSELoss()\n",
        "optimizer = torch.optim.Adam(model.parameters(), lr=0.001)  \n",
        "\n",
        "# Use GPU for training\n",
        "device = torch.device(\"cuda:0\" if torch.cuda.is_available() else \"cpu\")\n",
        "model = model.to(device)"
      ],
      "metadata": {
        "id": "HKtAL0-lZk23"
      },
      "execution_count": 20,
      "outputs": []
    },
    {
      "cell_type": "code",
      "source": [
        "# Splitting into training and testing\n",
        "train_loader = DataLoader(data[:int(len(data) * 0.7)], \n",
        "                    batch_size=64, shuffle=True)\n",
        "test_loader = DataLoader(data[int(len(data) * 0.7):], \n",
        "                         batch_size=64, shuffle=True)"
      ],
      "metadata": {
        "id": "bpRpZucfaZ1C"
      },
      "execution_count": 21,
      "outputs": []
    },
    {
      "cell_type": "code",
      "source": [
        "## Writing the function for one complete forward and backward pass\n",
        "def train(data):\n",
        "  for batch in train_loader:\n",
        "    batch.to(device)  \n",
        "    # Reset gradients\n",
        "    optimizer.zero_grad() \n",
        "    # Passing the node features and the connection info\n",
        "    pred, embedding = model(batch.x.float(), batch.edge_index, batch.batch) \n",
        "    # Calculating the loss and gradients\n",
        "    loss = torch.sqrt(L(pred, batch.y)) # root mean squared error       \n",
        "    loss.backward()  \n",
        "    # Update using the gradients\n",
        "    optimizer.step()   \n",
        "  return loss"
      ],
      "metadata": {
        "id": "AcCtq7wFamsa"
      },
      "execution_count": 22,
      "outputs": []
    },
    {
      "cell_type": "code",
      "source": [
        "loss_vals = []\n",
        "for epoch in range(1000):\n",
        "  loss_value = train(data)\n",
        "  loss_vals.append(loss_value)\n",
        "  if(epoch%100==0):\n",
        "    print(\"Epoch: \",epoch, \"Loss: \",loss_value.item())"
      ],
      "metadata": {
        "id": "fnLy-fDpbLh1",
        "outputId": "3f935f95-25a0-4c89-d0e7-8217fafedae3",
        "colab": {
          "base_uri": "https://localhost:8080/"
        }
      },
      "execution_count": 24,
      "outputs": [
        {
          "output_type": "stream",
          "name": "stderr",
          "text": [
            "/usr/local/lib/python3.7/dist-packages/torch/nn/functional.py:1795: UserWarning: nn.functional.tanh is deprecated. Use torch.tanh instead.\n",
            "  warnings.warn(\"nn.functional.tanh is deprecated. Use torch.tanh instead.\")\n"
          ]
        },
        {
          "output_type": "stream",
          "name": "stdout",
          "text": [
            "Epoch:  0 Loss:  0.907365620136261\n",
            "Epoch:  100 Loss:  0.7040682435035706\n",
            "Epoch:  200 Loss:  0.4362868666648865\n",
            "Epoch:  300 Loss:  0.7023819088935852\n",
            "Epoch:  400 Loss:  0.40068602561950684\n",
            "Epoch:  500 Loss:  0.28143152594566345\n",
            "Epoch:  600 Loss:  0.37635189294815063\n",
            "Epoch:  700 Loss:  0.2479272186756134\n",
            "Epoch:  800 Loss:  0.46949735283851624\n",
            "Epoch:  900 Loss:  0.3084854781627655\n"
          ]
        }
      ]
    },
    {
      "cell_type": "code",
      "source": [
        "import matplotlib.pyplot as plt \n",
        "plt.plot(range(1000),loss_vals)"
      ],
      "metadata": {
        "id": "SiP9OsnBb3gS",
        "outputId": "8a9a7624-6a86-47f4-e3d9-88f28bfbb347",
        "colab": {
          "base_uri": "https://localhost:8080/",
          "height": 282
        }
      },
      "execution_count": 25,
      "outputs": [
        {
          "output_type": "execute_result",
          "data": {
            "text/plain": [
              "[<matplotlib.lines.Line2D at 0x7f44dbcf7790>]"
            ]
          },
          "metadata": {},
          "execution_count": 25
        },
        {
          "output_type": "display_data",
          "data": {
            "image/png": "[encoded data removed]",
            "text/plain": [
              "<Figure size 432x288 with 1 Axes>"
            ]
          },
          "metadata": {
            "needs_background": "light"
          }
        }
      ]
    },
    {
      "cell_type": "code",
      "source": [
        "test_losses = []\n",
        "with torch.no_grad():\n",
        "  for batch in test_loader:\n",
        "    batch.to(device)  \n",
        "    pred,embedding = model(batch.x.float(),batch.edge_index,batch.batch)\n",
        "    loss = torch.sqrt(L(pred,batch.y))\n",
        "    print(loss.item())\n",
        "    test_losses.append(loss)\n"
      ],
      "metadata": {
        "id": "u9YmU3_fc6Ai",
        "outputId": "8f2ae008-2a6f-4ca4-9f38-0212defb14f0",
        "colab": {
          "base_uri": "https://localhost:8080/"
        }
      },
      "execution_count": 29,
      "outputs": [
        {
          "output_type": "stream",
          "name": "stdout",
          "text": [
            "0.8828230500221252\n",
            "0.8833389282226562\n",
            "0.7648510932922363\n",
            "1.0542010068893433\n",
            "0.9714773297309875\n",
            "0.5583273768424988\n"
          ]
        }
      ]
    },
    {
      "cell_type": "code",
      "source": [
        "print(\"Mean Test Loss\",torch.mean(torch.tensor(test_losses)).item())"
      ],
      "metadata": {
        "id": "qG3T-8ZJebQ5",
        "outputId": "a2a5910d-3694-4c53-ebfa-9659ed639b48",
        "colab": {
          "base_uri": "https://localhost:8080/"
        }
      },
      "execution_count": 34,
      "outputs": [
        {
          "output_type": "stream",
          "name": "stdout",
          "text": [
            "Mean Test Loss 0.8525031208992004\n"
          ]
        }
      ]
    },
    {
      "cell_type": "code",
      "source": [
        ""
      ],
      "metadata": {
        "id": "oz50C5m3esz0"
      },
      "execution_count": null,
      "outputs": []
    }
  ]
}