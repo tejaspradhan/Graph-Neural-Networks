{
  "nbformat": 4,
  "nbformat_minor": 0,
  "metadata": {
    "colab": {
      "name": "Google_EA_TextGCN.ipynb",
      "provenance": [],
      "collapsed_sections": [],
      "authorship_tag": "ABX9TyOwNzx/RfBdcNlzqhfE0kGA",
      "include_colab_link": true
    },
    "kernelspec": {
      "name": "python3",
      "display_name": "Python 3"
    },
    "language_info": {
      "name": "python"
    }
  },
  "cells": [
    {
      "cell_type": "markdown",
      "metadata": {
        "id": "view-in-github",
        "colab_type": "text"
      },
      "source": [
        "<a href=\"https://colab.research.google.com/github/tejaspradhan/Graph-Neural-Networks/blob/main/emotion-analysis-gnn/EA_Tweets_Dataset_2.ipynb\" target=\"_parent\"><img src=\"https://colab.research.google.com/assets/colab-badge.svg\" alt=\"Open In Colab\"/></a>"
      ]
    },
    {
      "cell_type": "code",
      "source": [
        "! pip install -U tf_geometric"
      ],
      "metadata": {
        "colab": {
          "base_uri": "https://localhost:8080/"
        },
        "id": "PzJIxwh0wUL0",
        "outputId": "d525e060-b4d2-498d-eea9-f8de01b84323"
      },
      "execution_count": 1,
      "outputs": [
        {
          "output_type": "stream",
          "name": "stdout",
          "text": [
            "Looking in indexes: https://pypi.org/simple, https://us-python.pkg.dev/colab-wheels/public/simple/\n",
            "Collecting tf_geometric\n",
            "  Downloading tf_geometric-0.0.85.tar.gz (57 kB)\n",
            "\u001b[K     |████████████████████████████████| 57 kB 2.8 MB/s \n",
            "\u001b[?25hCollecting tf_sparse>=0.0.12\n",
            "  Downloading tf_sparse-0.0.12.tar.gz (9.4 kB)\n",
            "Requirement already satisfied: numpy>=1.17.4 in /usr/local/lib/python3.7/dist-packages (from tf_geometric) (1.21.6)\n",
            "Requirement already satisfied: networkx>=2.1 in /usr/local/lib/python3.7/dist-packages (from tf_geometric) (2.6.3)\n",
            "Requirement already satisfied: scipy>=1.1.0 in /usr/local/lib/python3.7/dist-packages (from tf_geometric) (1.4.1)\n",
            "Requirement already satisfied: scikit-learn>=0.22 in /usr/local/lib/python3.7/dist-packages (from tf_geometric) (1.0.2)\n",
            "Collecting ogb_lite>=0.0.3\n",
            "  Downloading ogb_lite-0.0.3.tar.gz (25 kB)\n",
            "Requirement already satisfied: tqdm in /usr/local/lib/python3.7/dist-packages (from tf_geometric) (4.64.0)\n",
            "Requirement already satisfied: pandas>=0.24.0 in /usr/local/lib/python3.7/dist-packages (from ogb_lite>=0.0.3->tf_geometric) (1.3.5)\n",
            "Requirement already satisfied: six>=1.12.0 in /usr/local/lib/python3.7/dist-packages (from ogb_lite>=0.0.3->tf_geometric) (1.15.0)\n",
            "Requirement already satisfied: urllib3>=1.24.0 in /usr/local/lib/python3.7/dist-packages (from ogb_lite>=0.0.3->tf_geometric) (1.24.3)\n",
            "Collecting outdated>=0.2.0\n",
            "  Downloading outdated-0.2.1-py3-none-any.whl (7.5 kB)\n",
            "Collecting littleutils\n",
            "  Downloading littleutils-0.2.2.tar.gz (6.6 kB)\n",
            "Requirement already satisfied: requests in /usr/local/lib/python3.7/dist-packages (from outdated>=0.2.0->ogb_lite>=0.0.3->tf_geometric) (2.23.0)\n",
            "Requirement already satisfied: python-dateutil>=2.7.3 in /usr/local/lib/python3.7/dist-packages (from pandas>=0.24.0->ogb_lite>=0.0.3->tf_geometric) (2.8.2)\n",
            "Requirement already satisfied: pytz>=2017.3 in /usr/local/lib/python3.7/dist-packages (from pandas>=0.24.0->ogb_lite>=0.0.3->tf_geometric) (2022.1)\n",
            "Requirement already satisfied: joblib>=0.11 in /usr/local/lib/python3.7/dist-packages (from scikit-learn>=0.22->tf_geometric) (1.1.0)\n",
            "Requirement already satisfied: threadpoolctl>=2.0.0 in /usr/local/lib/python3.7/dist-packages (from scikit-learn>=0.22->tf_geometric) (3.1.0)\n",
            "Requirement already satisfied: chardet<4,>=3.0.2 in /usr/local/lib/python3.7/dist-packages (from requests->outdated>=0.2.0->ogb_lite>=0.0.3->tf_geometric) (3.0.4)\n",
            "Requirement already satisfied: certifi>=2017.4.17 in /usr/local/lib/python3.7/dist-packages (from requests->outdated>=0.2.0->ogb_lite>=0.0.3->tf_geometric) (2022.6.15)\n",
            "Requirement already satisfied: idna<3,>=2.5 in /usr/local/lib/python3.7/dist-packages (from requests->outdated>=0.2.0->ogb_lite>=0.0.3->tf_geometric) (2.10)\n",
            "Building wheels for collected packages: tf-geometric, ogb-lite, tf-sparse, littleutils\n",
            "  Building wheel for tf-geometric (setup.py) ... \u001b[?25l\u001b[?25hdone\n",
            "  Created wheel for tf-geometric: filename=tf_geometric-0.0.85-py3-none-any.whl size=83363 sha256=d70d88d315afba7a1c3087238b1855db147ed8aa49a0c68f7d3f92e78098de80\n",
            "  Stored in directory: /root/.cache/pip/wheels/69/52/e3/73712d9cc745cef103f1c8af7227b2cd6d85afc872d683c777\n",
            "  Building wheel for ogb-lite (setup.py) ... \u001b[?25l\u001b[?25hdone\n",
            "  Created wheel for ogb-lite: filename=ogb_lite-0.0.3-py3-none-any.whl size=33524 sha256=747cce7807dc4ef6d92c687882d5be9020fec04d1561e9f70ca2a01d3a3c006d\n",
            "  Stored in directory: /root/.cache/pip/wheels/bb/98/b1/5d034ba69940a93aa9b8e05f6e2f630f47b045209bc3cfa210\n",
            "  Building wheel for tf-sparse (setup.py) ... \u001b[?25l\u001b[?25hdone\n",
            "  Created wheel for tf-sparse: filename=tf_sparse-0.0.12-py3-none-any.whl size=8620 sha256=a842eb7e04570756bbacbe9499ab47831df09f69d6f4a503b1e3c487b412912f\n",
            "  Stored in directory: /root/.cache/pip/wheels/2e/41/8f/1e133789167b6af81bb69db1407b7cd05f1d68061f581d8142\n",
            "  Building wheel for littleutils (setup.py) ... \u001b[?25l\u001b[?25hdone\n",
            "  Created wheel for littleutils: filename=littleutils-0.2.2-py3-none-any.whl size=7048 sha256=30436d8fa0bbbdf9fdcd445f0efd312afeae0b6eb72df9804019c8aee52b9fd8\n",
            "  Stored in directory: /root/.cache/pip/wheels/d6/64/cd/32819b511a488e4993f2fab909a95330289c3f4e0f6ef4676d\n",
            "Successfully built tf-geometric ogb-lite tf-sparse littleutils\n",
            "Installing collected packages: littleutils, outdated, tf-sparse, ogb-lite, tf-geometric\n",
            "Successfully installed littleutils-0.2.2 ogb-lite-0.0.3 outdated-0.2.1 tf-geometric-0.0.85 tf-sparse-0.0.12\n"
          ]
        }
      ]
    },
    {
      "cell_type": "code",
      "source": [
        "! pip install kaggle"
      ],
      "metadata": {
        "colab": {
          "base_uri": "https://localhost:8080/"
        },
        "id": "yKEXnFYoJOUb",
        "outputId": "554544ed-4444-4e0a-a7a5-9f938f6915ae"
      },
      "execution_count": 2,
      "outputs": [
        {
          "output_type": "stream",
          "name": "stdout",
          "text": [
            "Looking in indexes: https://pypi.org/simple, https://us-python.pkg.dev/colab-wheels/public/simple/\n",
            "Requirement already satisfied: kaggle in /usr/local/lib/python3.7/dist-packages (1.5.12)\n",
            "Requirement already satisfied: python-slugify in /usr/local/lib/python3.7/dist-packages (from kaggle) (6.1.2)\n",
            "Requirement already satisfied: six>=1.10 in /usr/local/lib/python3.7/dist-packages (from kaggle) (1.15.0)\n",
            "Requirement already satisfied: tqdm in /usr/local/lib/python3.7/dist-packages (from kaggle) (4.64.0)\n",
            "Requirement already satisfied: certifi in /usr/local/lib/python3.7/dist-packages (from kaggle) (2022.6.15)\n",
            "Requirement already satisfied: requests in /usr/local/lib/python3.7/dist-packages (from kaggle) (2.23.0)\n",
            "Requirement already satisfied: urllib3 in /usr/local/lib/python3.7/dist-packages (from kaggle) (1.24.3)\n",
            "Requirement already satisfied: python-dateutil in /usr/local/lib/python3.7/dist-packages (from kaggle) (2.8.2)\n",
            "Requirement already satisfied: text-unidecode>=1.3 in /usr/local/lib/python3.7/dist-packages (from python-slugify->kaggle) (1.3)\n",
            "Requirement already satisfied: chardet<4,>=3.0.2 in /usr/local/lib/python3.7/dist-packages (from requests->kaggle) (3.0.4)\n",
            "Requirement already satisfied: idna<3,>=2.5 in /usr/local/lib/python3.7/dist-packages (from requests->kaggle) (2.10)\n"
          ]
        }
      ]
    },
    {
      "cell_type": "code",
      "execution_count": 3,
      "metadata": {
        "colab": {
          "base_uri": "https://localhost:8080/"
        },
        "id": "x-JFG2OuhHrz",
        "outputId": "35c2c4ad-9f9c-4d48-9bc1-33e4f714ef5a"
      },
      "outputs": [
        {
          "output_type": "stream",
          "name": "stderr",
          "text": [
            "[nltk_data] Downloading package stopwords to /root/nltk_data...\n",
            "[nltk_data]   Unzipping corpora/stopwords.zip.\n"
          ]
        }
      ],
      "source": [
        "import os\n",
        "from tf_geometric.utils import tf_utils\n",
        "\n",
        "os.environ[\"CUDA_VISIBLE_DEVICES\"] = \"1\"\n",
        "import numpy as np\n",
        "import pandas as pd\n",
        "from collections import Counter\n",
        "import matplotlib.pyplot as plt\n",
        "\n",
        "import nltk\n",
        "import string\n",
        "from nltk.corpus import stopwords\n",
        "from nltk.stem.wordnet import WordNetLemmatizer\n",
        "# # In case of any corpus are missing \n",
        "# download all-nltk\n",
        "nltk.download('stopwords')\n",
        "stop_words = stopwords.words(\"english\")\n",
        "\n",
        "from tqdm import tqdm\n",
        "\n",
        "from sklearn.model_selection import train_test_split\n",
        "from tensorflow.keras.preprocessing.text import Tokenizer\n",
        "from tensorflow import keras\n",
        "import tensorflow as tf\n",
        "import tf_geometric as tfg\n",
        "import pickle\n",
        "import re\n",
        "import seaborn as sns"
      ]
    },
    {
      "cell_type": "markdown",
      "source": [
        "## Downloading and Exploring Data"
      ],
      "metadata": {
        "id": "JiKYFfvIK36F"
      }
    },
    {
      "cell_type": "code",
      "source": [
        "!rm -r ~/.kaggle\n",
        "!mkdir ~/.kaggle\n",
        "!mv ./kaggle.json ~/.kaggle/\n",
        "!chmod 600 ~/.kaggle/kaggle.json"
      ],
      "metadata": {
        "colab": {
          "base_uri": "https://localhost:8080/"
        },
        "id": "Ls38cMEXJL76",
        "outputId": "c97fb8de-4e82-4ae9-a456-2060ced9657d"
      },
      "execution_count": 4,
      "outputs": [
        {
          "output_type": "stream",
          "name": "stdout",
          "text": [
            "rm: cannot remove '/root/.kaggle': No such file or directory\n"
          ]
        }
      ]
    },
    {
      "cell_type": "code",
      "source": [
        "!kaggle datasets download -d subhajournal/tweet-sentiment-and-emotion-analysis"
      ],
      "metadata": {
        "colab": {
          "base_uri": "https://localhost:8080/"
        },
        "id": "usdv07I_KpzI",
        "outputId": "c05f5e4e-caab-49eb-a7e3-ef0a751d4fc0"
      },
      "execution_count": 5,
      "outputs": [
        {
          "output_type": "stream",
          "name": "stdout",
          "text": [
            "Downloading tweet-sentiment-and-emotion-analysis.zip to /content\n",
            "\r  0% 0.00/269k [00:00<?, ?B/s]\n",
            "\r100% 269k/269k [00:00<00:00, 52.3MB/s]\n"
          ]
        }
      ]
    },
    {
      "cell_type": "code",
      "source": [
        "!unzip /content/tweet-sentiment-and-emotion-analysis.zip"
      ],
      "metadata": {
        "colab": {
          "base_uri": "https://localhost:8080/"
        },
        "id": "uJcQc8DjKuWU",
        "outputId": "8f8e87fd-71f0-455b-92ef-27f7a64ac6e3"
      },
      "execution_count": 7,
      "outputs": [
        {
          "output_type": "stream",
          "name": "stdout",
          "text": [
            "Archive:  /content/tweet-sentiment-and-emotion-analysis.zip\n",
            "  inflating: all_tweets.csv          \n"
          ]
        }
      ]
    },
    {
      "cell_type": "code",
      "source": [
        "data = pd.read_csv('/content/all_tweets.csv')"
      ],
      "metadata": {
        "id": "JOlPotx4K2wa"
      },
      "execution_count": 8,
      "outputs": []
    },
    {
      "cell_type": "code",
      "source": [
        "data.shape"
      ],
      "metadata": {
        "colab": {
          "base_uri": "https://localhost:8080/"
        },
        "id": "s-U0sL1BMBU8",
        "outputId": "1fb8a031-9efc-48e6-e4e7-49d4a6d54d2c"
      },
      "execution_count": 9,
      "outputs": [
        {
          "output_type": "execute_result",
          "data": {
            "text/plain": [
              "(6032, 5)"
            ]
          },
          "metadata": {},
          "execution_count": 9
        }
      ]
    },
    {
      "cell_type": "code",
      "source": [
        "data.head()"
      ],
      "metadata": {
        "colab": {
          "base_uri": "https://localhost:8080/",
          "height": 206
        },
        "id": "546Xr1ZSyITZ",
        "outputId": "4b06f011-3b52-4f0a-e086-76b1695eb5ae"
      },
      "execution_count": 10,
      "outputs": [
        {
          "output_type": "execute_result",
          "data": {
            "text/plain": [
              "   Unnamed: 0 sentiment                                               text  \\\n",
              "0           0  positive  RT @SchudioTv: Want to know more about #autism...   \n",
              "1           1  negative  We blame ourselves and feel worse. Start with ...   \n",
              "2           2  positive  RT @PsychiatristCNS: 130,000 patient years and...   \n",
              "3           3   neutral  RT @SkypeTherapist: See a therapist online ove...   \n",
              "4           4  positive  RT @PsychiatristCNS: 130,000 patient years and...   \n",
              "\n",
              "              user    label  \n",
              "0  beyondbehaviour  anxiety  \n",
              "1         cherie7c  anxiety  \n",
              "2        ThinkNeha  anxiety  \n",
              "3    FrankCoulson7  anxiety  \n",
              "4        Phcourtet  anxiety  "
            ],
            "text/html": [
              "\n",
              "  <div id=\"df-291db027-9170-40e3-948e-ca91f741c4bf\">\n",
              "    <div class=\"colab-df-container\">\n",
              "      <div>\n",
              "<style scoped>\n",
              "    .dataframe tbody tr th:only-of-type {\n",
              "        vertical-align: middle;\n",
              "    }\n",
              "\n",
              "    .dataframe tbody tr th {\n",
              "        vertical-align: top;\n",
              "    }\n",
              "\n",
              "    .dataframe thead th {\n",
              "        text-align: right;\n",
              "    }\n",
              "</style>\n",
              "<table border=\"1\" class=\"dataframe\">\n",
              "  <thead>\n",
              "    <tr style=\"text-align: right;\">\n",
              "      <th></th>\n",
              "      <th>Unnamed: 0</th>\n",
              "      <th>sentiment</th>\n",
              "      <th>text</th>\n",
              "      <th>user</th>\n",
              "      <th>label</th>\n",
              "    </tr>\n",
              "  </thead>\n",
              "  <tbody>\n",
              "    <tr>\n",
              "      <th>0</th>\n",
              "      <td>0</td>\n",
              "      <td>positive</td>\n",
              "      <td>RT @SchudioTv: Want to know more about #autism...</td>\n",
              "      <td>beyondbehaviour</td>\n",
              "      <td>anxiety</td>\n",
              "    </tr>\n",
              "    <tr>\n",
              "      <th>1</th>\n",
              "      <td>1</td>\n",
              "      <td>negative</td>\n",
              "      <td>We blame ourselves and feel worse. Start with ...</td>\n",
              "      <td>cherie7c</td>\n",
              "      <td>anxiety</td>\n",
              "    </tr>\n",
              "    <tr>\n",
              "      <th>2</th>\n",
              "      <td>2</td>\n",
              "      <td>positive</td>\n",
              "      <td>RT @PsychiatristCNS: 130,000 patient years and...</td>\n",
              "      <td>ThinkNeha</td>\n",
              "      <td>anxiety</td>\n",
              "    </tr>\n",
              "    <tr>\n",
              "      <th>3</th>\n",
              "      <td>3</td>\n",
              "      <td>neutral</td>\n",
              "      <td>RT @SkypeTherapist: See a therapist online ove...</td>\n",
              "      <td>FrankCoulson7</td>\n",
              "      <td>anxiety</td>\n",
              "    </tr>\n",
              "    <tr>\n",
              "      <th>4</th>\n",
              "      <td>4</td>\n",
              "      <td>positive</td>\n",
              "      <td>RT @PsychiatristCNS: 130,000 patient years and...</td>\n",
              "      <td>Phcourtet</td>\n",
              "      <td>anxiety</td>\n",
              "    </tr>\n",
              "  </tbody>\n",
              "</table>\n",
              "</div>\n",
              "      <button class=\"colab-df-convert\" onclick=\"convertToInteractive('df-291db027-9170-40e3-948e-ca91f741c4bf')\"\n",
              "              title=\"Convert this dataframe to an interactive table.\"\n",
              "              style=\"display:none;\">\n",
              "        \n",
              "  <svg xmlns=\"http://www.w3.org/2000/svg\" height=\"24px\"viewBox=\"0 0 24 24\"\n",
              "       width=\"24px\">\n",
              "    <path d=\"M0 0h24v24H0V0z\" fill=\"none\"/>\n",
              "    <path d=\"M18.56 5.44l.94 2.06.94-2.06 2.06-.94-2.06-.94-.94-2.06-.94 2.06-2.06.94zm-11 1L8.5 8.5l.94-2.06 2.06-.94-2.06-.94L8.5 2.5l-.94 2.06-2.06.94zm10 10l.94 2.06.94-2.06 2.06-.94-2.06-.94-.94-2.06-.94 2.06-2.06.94z\"/><path d=\"M17.41 7.96l-1.37-1.37c-.4-.4-.92-.59-1.43-.59-.52 0-1.04.2-1.43.59L10.3 9.45l-7.72 7.72c-.78.78-.78 2.05 0 2.83L4 21.41c.39.39.9.59 1.41.59.51 0 1.02-.2 1.41-.59l7.78-7.78 2.81-2.81c.8-.78.8-2.07 0-2.86zM5.41 20L4 18.59l7.72-7.72 1.47 1.35L5.41 20z\"/>\n",
              "  </svg>\n",
              "      </button>\n",
              "      \n",
              "  <style>\n",
              "    .colab-df-container {\n",
              "      display:flex;\n",
              "      flex-wrap:wrap;\n",
              "      gap: 12px;\n",
              "    }\n",
              "\n",
              "    .colab-df-convert {\n",
              "      background-color: #E8F0FE;\n",
              "      border: none;\n",
              "      border-radius: 50%;\n",
              "      cursor: pointer;\n",
              "      display: none;\n",
              "      fill: #1967D2;\n",
              "      height: 32px;\n",
              "      padding: 0 0 0 0;\n",
              "      width: 32px;\n",
              "    }\n",
              "\n",
              "    .colab-df-convert:hover {\n",
              "      background-color: #E2EBFA;\n",
              "      box-shadow: 0px 1px 2px rgba(60, 64, 67, 0.3), 0px 1px 3px 1px rgba(60, 64, 67, 0.15);\n",
              "      fill: #174EA6;\n",
              "    }\n",
              "\n",
              "    [theme=dark] .colab-df-convert {\n",
              "      background-color: #3B4455;\n",
              "      fill: #D2E3FC;\n",
              "    }\n",
              "\n",
              "    [theme=dark] .colab-df-convert:hover {\n",
              "      background-color: #434B5C;\n",
              "      box-shadow: 0px 1px 3px 1px rgba(0, 0, 0, 0.15);\n",
              "      filter: drop-shadow(0px 1px 2px rgba(0, 0, 0, 0.3));\n",
              "      fill: #FFFFFF;\n",
              "    }\n",
              "  </style>\n",
              "\n",
              "      <script>\n",
              "        const buttonEl =\n",
              "          document.querySelector('#df-291db027-9170-40e3-948e-ca91f741c4bf button.colab-df-convert');\n",
              "        buttonEl.style.display =\n",
              "          google.colab.kernel.accessAllowed ? 'block' : 'none';\n",
              "\n",
              "        async function convertToInteractive(key) {\n",
              "          const element = document.querySelector('#df-291db027-9170-40e3-948e-ca91f741c4bf');\n",
              "          const dataTable =\n",
              "            await google.colab.kernel.invokeFunction('convertToInteractive',\n",
              "                                                     [key], {});\n",
              "          if (!dataTable) return;\n",
              "\n",
              "          const docLinkHtml = 'Like what you see? Visit the ' +\n",
              "            '<a target=\"_blank\" href=https://colab.research.google.com/notebooks/data_table.ipynb>data table notebook</a>'\n",
              "            + ' to learn more about interactive tables.';\n",
              "          element.innerHTML = '';\n",
              "          dataTable['output_type'] = 'display_data';\n",
              "          await google.colab.output.renderOutput(dataTable, element);\n",
              "          const docLink = document.createElement('div');\n",
              "          docLink.innerHTML = docLinkHtml;\n",
              "          element.appendChild(docLink);\n",
              "        }\n",
              "      </script>\n",
              "    </div>\n",
              "  </div>\n",
              "  "
            ]
          },
          "metadata": {},
          "execution_count": 10
        }
      ]
    },
    {
      "cell_type": "code",
      "source": [
        "data.isna().sum()"
      ],
      "metadata": {
        "colab": {
          "base_uri": "https://localhost:8080/"
        },
        "id": "2ZAAvxvhMf3u",
        "outputId": "b363e181-168f-41a6-e6c7-c0bf1d65b16e"
      },
      "execution_count": 11,
      "outputs": [
        {
          "output_type": "execute_result",
          "data": {
            "text/plain": [
              "Unnamed: 0    0\n",
              "sentiment     0\n",
              "text          0\n",
              "user          0\n",
              "label         0\n",
              "dtype: int64"
            ]
          },
          "metadata": {},
          "execution_count": 11
        }
      ]
    },
    {
      "cell_type": "code",
      "source": [
        "data.columns"
      ],
      "metadata": {
        "colab": {
          "base_uri": "https://localhost:8080/"
        },
        "id": "diVglgLMMpfC",
        "outputId": "8b78be91-642b-4343-b946-244654d2888d"
      },
      "execution_count": 12,
      "outputs": [
        {
          "output_type": "execute_result",
          "data": {
            "text/plain": [
              "Index(['Unnamed: 0', 'sentiment', 'text', 'user', 'label'], dtype='object')"
            ]
          },
          "metadata": {},
          "execution_count": 12
        }
      ]
    },
    {
      "cell_type": "code",
      "source": [
        "data.drop(['Unnamed: 0','user'],axis=1,inplace=True)"
      ],
      "metadata": {
        "id": "_jXoHEupyT-F"
      },
      "execution_count": 13,
      "outputs": []
    },
    {
      "cell_type": "code",
      "source": [
        "data.head()"
      ],
      "metadata": {
        "colab": {
          "base_uri": "https://localhost:8080/",
          "height": 206
        },
        "id": "TpqklvqQyalO",
        "outputId": "1c3de686-8751-4141-d658-9d4bb7730963"
      },
      "execution_count": 14,
      "outputs": [
        {
          "output_type": "execute_result",
          "data": {
            "text/plain": [
              "  sentiment                                               text    label\n",
              "0  positive  RT @SchudioTv: Want to know more about #autism...  anxiety\n",
              "1  negative  We blame ourselves and feel worse. Start with ...  anxiety\n",
              "2  positive  RT @PsychiatristCNS: 130,000 patient years and...  anxiety\n",
              "3   neutral  RT @SkypeTherapist: See a therapist online ove...  anxiety\n",
              "4  positive  RT @PsychiatristCNS: 130,000 patient years and...  anxiety"
            ],
            "text/html": [
              "\n",
              "  <div id=\"df-8975f3d9-95ee-4f3e-8a5c-97e3132ff81e\">\n",
              "    <div class=\"colab-df-container\">\n",
              "      <div>\n",
              "<style scoped>\n",
              "    .dataframe tbody tr th:only-of-type {\n",
              "        vertical-align: middle;\n",
              "    }\n",
              "\n",
              "    .dataframe tbody tr th {\n",
              "        vertical-align: top;\n",
              "    }\n",
              "\n",
              "    .dataframe thead th {\n",
              "        text-align: right;\n",
              "    }\n",
              "</style>\n",
              "<table border=\"1\" class=\"dataframe\">\n",
              "  <thead>\n",
              "    <tr style=\"text-align: right;\">\n",
              "      <th></th>\n",
              "      <th>sentiment</th>\n",
              "      <th>text</th>\n",
              "      <th>label</th>\n",
              "    </tr>\n",
              "  </thead>\n",
              "  <tbody>\n",
              "    <tr>\n",
              "      <th>0</th>\n",
              "      <td>positive</td>\n",
              "      <td>RT @SchudioTv: Want to know more about #autism...</td>\n",
              "      <td>anxiety</td>\n",
              "    </tr>\n",
              "    <tr>\n",
              "      <th>1</th>\n",
              "      <td>negative</td>\n",
              "      <td>We blame ourselves and feel worse. Start with ...</td>\n",
              "      <td>anxiety</td>\n",
              "    </tr>\n",
              "    <tr>\n",
              "      <th>2</th>\n",
              "      <td>positive</td>\n",
              "      <td>RT @PsychiatristCNS: 130,000 patient years and...</td>\n",
              "      <td>anxiety</td>\n",
              "    </tr>\n",
              "    <tr>\n",
              "      <th>3</th>\n",
              "      <td>neutral</td>\n",
              "      <td>RT @SkypeTherapist: See a therapist online ove...</td>\n",
              "      <td>anxiety</td>\n",
              "    </tr>\n",
              "    <tr>\n",
              "      <th>4</th>\n",
              "      <td>positive</td>\n",
              "      <td>RT @PsychiatristCNS: 130,000 patient years and...</td>\n",
              "      <td>anxiety</td>\n",
              "    </tr>\n",
              "  </tbody>\n",
              "</table>\n",
              "</div>\n",
              "      <button class=\"colab-df-convert\" onclick=\"convertToInteractive('df-8975f3d9-95ee-4f3e-8a5c-97e3132ff81e')\"\n",
              "              title=\"Convert this dataframe to an interactive table.\"\n",
              "              style=\"display:none;\">\n",
              "        \n",
              "  <svg xmlns=\"http://www.w3.org/2000/svg\" height=\"24px\"viewBox=\"0 0 24 24\"\n",
              "       width=\"24px\">\n",
              "    <path d=\"M0 0h24v24H0V0z\" fill=\"none\"/>\n",
              "    <path d=\"M18.56 5.44l.94 2.06.94-2.06 2.06-.94-2.06-.94-.94-2.06-.94 2.06-2.06.94zm-11 1L8.5 8.5l.94-2.06 2.06-.94-2.06-.94L8.5 2.5l-.94 2.06-2.06.94zm10 10l.94 2.06.94-2.06 2.06-.94-2.06-.94-.94-2.06-.94 2.06-2.06.94z\"/><path d=\"M17.41 7.96l-1.37-1.37c-.4-.4-.92-.59-1.43-.59-.52 0-1.04.2-1.43.59L10.3 9.45l-7.72 7.72c-.78.78-.78 2.05 0 2.83L4 21.41c.39.39.9.59 1.41.59.51 0 1.02-.2 1.41-.59l7.78-7.78 2.81-2.81c.8-.78.8-2.07 0-2.86zM5.41 20L4 18.59l7.72-7.72 1.47 1.35L5.41 20z\"/>\n",
              "  </svg>\n",
              "      </button>\n",
              "      \n",
              "  <style>\n",
              "    .colab-df-container {\n",
              "      display:flex;\n",
              "      flex-wrap:wrap;\n",
              "      gap: 12px;\n",
              "    }\n",
              "\n",
              "    .colab-df-convert {\n",
              "      background-color: #E8F0FE;\n",
              "      border: none;\n",
              "      border-radius: 50%;\n",
              "      cursor: pointer;\n",
              "      display: none;\n",
              "      fill: #1967D2;\n",
              "      height: 32px;\n",
              "      padding: 0 0 0 0;\n",
              "      width: 32px;\n",
              "    }\n",
              "\n",
              "    .colab-df-convert:hover {\n",
              "      background-color: #E2EBFA;\n",
              "      box-shadow: 0px 1px 2px rgba(60, 64, 67, 0.3), 0px 1px 3px 1px rgba(60, 64, 67, 0.15);\n",
              "      fill: #174EA6;\n",
              "    }\n",
              "\n",
              "    [theme=dark] .colab-df-convert {\n",
              "      background-color: #3B4455;\n",
              "      fill: #D2E3FC;\n",
              "    }\n",
              "\n",
              "    [theme=dark] .colab-df-convert:hover {\n",
              "      background-color: #434B5C;\n",
              "      box-shadow: 0px 1px 3px 1px rgba(0, 0, 0, 0.15);\n",
              "      filter: drop-shadow(0px 1px 2px rgba(0, 0, 0, 0.3));\n",
              "      fill: #FFFFFF;\n",
              "    }\n",
              "  </style>\n",
              "\n",
              "      <script>\n",
              "        const buttonEl =\n",
              "          document.querySelector('#df-8975f3d9-95ee-4f3e-8a5c-97e3132ff81e button.colab-df-convert');\n",
              "        buttonEl.style.display =\n",
              "          google.colab.kernel.accessAllowed ? 'block' : 'none';\n",
              "\n",
              "        async function convertToInteractive(key) {\n",
              "          const element = document.querySelector('#df-8975f3d9-95ee-4f3e-8a5c-97e3132ff81e');\n",
              "          const dataTable =\n",
              "            await google.colab.kernel.invokeFunction('convertToInteractive',\n",
              "                                                     [key], {});\n",
              "          if (!dataTable) return;\n",
              "\n",
              "          const docLinkHtml = 'Like what you see? Visit the ' +\n",
              "            '<a target=\"_blank\" href=https://colab.research.google.com/notebooks/data_table.ipynb>data table notebook</a>'\n",
              "            + ' to learn more about interactive tables.';\n",
              "          element.innerHTML = '';\n",
              "          dataTable['output_type'] = 'display_data';\n",
              "          await google.colab.output.renderOutput(dataTable, element);\n",
              "          const docLink = document.createElement('div');\n",
              "          docLink.innerHTML = docLinkHtml;\n",
              "          element.appendChild(docLink);\n",
              "        }\n",
              "      </script>\n",
              "    </div>\n",
              "  </div>\n",
              "  "
            ]
          },
          "metadata": {},
          "execution_count": 14
        }
      ]
    },
    {
      "cell_type": "code",
      "source": [
        "set(data['label']). # 4 unique emotions "
      ],
      "metadata": {
        "colab": {
          "base_uri": "https://localhost:8080/"
        },
        "id": "2aeWZtNzycV6",
        "outputId": "26f56cc6-d8ae-449a-9a5b-f27abfd0aeb0"
      },
      "execution_count": 15,
      "outputs": [
        {
          "output_type": "execute_result",
          "data": {
            "text/plain": [
              "{'anxiety', 'depression', 'happy', 'stress'}"
            ]
          },
          "metadata": {},
          "execution_count": 15
        }
      ]
    },
    {
      "cell_type": "code",
      "source": [
        "sns.countplot(x='label',data=data)"
      ],
      "metadata": {
        "colab": {
          "base_uri": "https://localhost:8080/",
          "height": 297
        },
        "id": "GihZKypyzBar",
        "outputId": "ec44804b-dbc7-4324-809d-327cf9123830"
      },
      "execution_count": 34,
      "outputs": [
        {
          "output_type": "execute_result",
          "data": {
            "text/plain": [
              "<matplotlib.axes._subplots.AxesSubplot at 0x7fd9b6c59310>"
            ]
          },
          "metadata": {},
          "execution_count": 34
        },
        {
          "output_type": "display_data",
          "data": {
            "text/plain": [
              "<Figure size 432x288 with 1 Axes>"
            ],
            "image/png": "[encoded data removed]"
          },
          "metadata": {
            "needs_background": "light"
          }
        }
      ]
    },
    {
      "cell_type": "markdown",
      "source": [
        "## Data Preprocessing"
      ],
      "metadata": {
        "id": "pJog0K7EK0f2"
      }
    },
    {
      "cell_type": "code",
      "source": [
        "def clean_text(x):\n",
        "  x = x.lower()\n",
        "  x = ' '.join([word for word in x.split(' ') if word not in stop_words])\n",
        "  x = x.encode('ascii', 'ignore').decode()\n",
        "  x = re.sub(r'https*\\S+', ' ', x)\n",
        "  x = re.sub(r'@\\S+', ' ', x)\n",
        "  x = re.sub(r'#\\S+', ' ', x)\n",
        "  x = re.sub(r'\\'\\w+', '', x)\n",
        "  x = re.sub('[%s]' % re.escape(string.punctuation), ' ', x)\n",
        "  x = re.sub(r'\\w*\\d+\\w*', '', x)\n",
        "  x = re.sub(r'\\s{2,}', ' ', x)\n",
        "  x = re.sub('rt','',x)\n",
        "  return x"
      ],
      "metadata": {
        "id": "xzBeg0N7ufRD"
      },
      "execution_count": 21,
      "outputs": []
    },
    {
      "cell_type": "code",
      "source": [
        "data['text'] = data['text'].apply(clean_text)"
      ],
      "metadata": {
        "id": "teHPnGjZwkM9"
      },
      "execution_count": 22,
      "outputs": []
    },
    {
      "cell_type": "code",
      "source": [
        "data['text'][0]"
      ],
      "metadata": {
        "colab": {
          "base_uri": "https://localhost:8080/",
          "height": 36
        },
        "id": "xon0WblFyrZ-",
        "outputId": "6ceb1f61-cc5a-4713-f841-2f35d98f3b88"
      },
      "execution_count": 24,
      "outputs": [
        {
          "output_type": "execute_result",
          "data": {
            "text/plain": [
              "' want know watch sho clip n nclick enrol '"
            ],
            "application/vnd.google.colaboratory.intrinsic+json": {
              "type": "string"
            }
          },
          "metadata": {},
          "execution_count": 24
        }
      ]
    },
    {
      "cell_type": "code",
      "source": [
        "texts = data['text']\n",
        "print(texts.shape)\n",
        "labels = data['label']\n",
        "print(labels.shape)"
      ],
      "metadata": {
        "colab": {
          "base_uri": "https://localhost:8080/"
        },
        "id": "dzBgupHXMmr2",
        "outputId": "64279d48-91e3-4dc0-8508-cf738eb5fb03"
      },
      "execution_count": 35,
      "outputs": [
        {
          "output_type": "stream",
          "name": "stdout",
          "text": [
            "(6032,)\n",
            "(6032,)\n"
          ]
        }
      ]
    },
    {
      "cell_type": "code",
      "source": [
        "train_texts,test_texts,train_labels,test_labels = train_test_split(texts,labels)"
      ],
      "metadata": {
        "id": "1d19dWDaNGYA"
      },
      "execution_count": 36,
      "outputs": []
    },
    {
      "cell_type": "code",
      "source": [
        "print(train_texts.shape)\n",
        "print(test_texts.shape)\n",
        "print(train_labels.shape)\n",
        "print(test_labels.shape)\n"
      ],
      "metadata": {
        "colab": {
          "base_uri": "https://localhost:8080/"
        },
        "id": "-kAII58fNSHy",
        "outputId": "dc728531-8ea4-4a47-f31a-76ab8874dd8a"
      },
      "execution_count": 37,
      "outputs": [
        {
          "output_type": "stream",
          "name": "stdout",
          "text": [
            "(4524,)\n",
            "(1508,)\n",
            "(4524,)\n",
            "(1508,)\n"
          ]
        }
      ]
    },
    {
      "cell_type": "markdown",
      "source": [
        "#### Label Encoding"
      ],
      "metadata": {
        "id": "SM1XAs2Uz1Uz"
      }
    },
    {
      "cell_type": "code",
      "source": [
        "from sklearn.preprocessing import LabelEncoder\n",
        "encoder =LabelEncoder()"
      ],
      "metadata": {
        "id": "hVuvo4A4z7BM"
      },
      "execution_count": 42,
      "outputs": []
    },
    {
      "cell_type": "code",
      "source": [
        "train_labels= encoder.fit_transform(train_labels)\n",
        "test_labels = encoder.transform(test_labels)"
      ],
      "metadata": {
        "id": "IJUfPVKJ0HYq"
      },
      "execution_count": 43,
      "outputs": []
    },
    {
      "cell_type": "code",
      "source": [
        "sns.countplot(x=train_labels)"
      ],
      "metadata": {
        "colab": {
          "base_uri": "https://localhost:8080/",
          "height": 283
        },
        "id": "0O5Gg_sp0hpa",
        "outputId": "d0fef31d-f99a-4402-909f-c5840686a953"
      },
      "execution_count": 48,
      "outputs": [
        {
          "output_type": "execute_result",
          "data": {
            "text/plain": [
              "<matplotlib.axes._subplots.AxesSubplot at 0x7fd9b6693090>"
            ]
          },
          "metadata": {},
          "execution_count": 48
        },
        {
          "output_type": "display_data",
          "data": {
            "text/plain": [
              "<Figure size 432x288 with 1 Axes>"
            ],
            "image/png": "[encoded data removed]"
          },
          "metadata": {
            "needs_background": "light"
          }
        }
      ]
    },
    {
      "cell_type": "code",
      "source": [
        "tokenizer = Tokenizer()\n",
        "tokenizer.fit_on_texts(train_texts)\n",
        "\n",
        "train_sequences = tokenizer.texts_to_sequences(train_texts)\n",
        "test_sequences = tokenizer.texts_to_sequences(test_texts)"
      ],
      "metadata": {
        "id": "WDNpmoBew_kK"
      },
      "execution_count": 49,
      "outputs": []
    },
    {
      "cell_type": "code",
      "source": [
        "class PMIModel(object):\n",
        "\n",
        "    def __init__(self):\n",
        "        self.word_counter = None\n",
        "        self.pair_counter = None\n",
        "\n",
        "    def get_pair_id(self, word0, word1):\n",
        "        pair_id = tuple(sorted([word0, word1]))\n",
        "        return pair_id\n",
        "\n",
        "    def fit(self, sequences, window_size):\n",
        "\n",
        "        self.word_counter = Counter()\n",
        "        self.pair_counter = Counter()\n",
        "        num_windows = 0\n",
        "        for sequence in tqdm(sequences):\n",
        "            for offset in range(len(sequence) - window_size):\n",
        "                window = sequence[offset:offset + window_size]\n",
        "                num_windows += 1\n",
        "                for i, word0 in enumerate(window):\n",
        "                    self.word_counter[word0] += 1\n",
        "                    for j, word1 in enumerate(window[i + 1:]):\n",
        "                        pair_id = self.get_pair_id(word0, word1)\n",
        "                        self.pair_counter[pair_id] += 1\n",
        "\n",
        "        for word, count in self.word_counter.items():\n",
        "            self.word_counter[word] = count / num_windows\n",
        "        for pair_id, count in self.pair_counter.items():\n",
        "            self.pair_counter[pair_id] = count / num_windows\n",
        "\n",
        "    def transform(self, word0, word1):\n",
        "        prob_a = self.word_counter[word0]\n",
        "        prob_b = self.word_counter[word1]\n",
        "        pair_id = self.get_pair_id(word0, word1)\n",
        "        prob_pair = self.pair_counter[pair_id]\n",
        "\n",
        "        if prob_a == 0 or prob_b == 0 or prob_pair == 0:\n",
        "           return 0\n",
        "\n",
        "        pmi = np.log(prob_pair / (prob_a * prob_b))\n",
        "        # print(word0, word1, pmi)\n",
        "        pmi = np.maximum(pmi, 0.0)\n",
        "        # print(pmi)\n",
        "        return pmi"
      ],
      "metadata": {
        "id": "JwYNvLtkxEjV"
      },
      "execution_count": 50,
      "outputs": []
    },
    {
      "cell_type": "code",
      "source": [
        "def build_word_graph(num_words, pmi_model, embedding_size):\n",
        "    x = tf.Variable(tf.random.truncated_normal([num_words, embedding_size], stddev=1 / np.sqrt(embedding_size)),\n",
        "                    dtype=tf.float32)\n",
        "    edges = []\n",
        "    edge_weight = []\n",
        "    for (word0, word1) in pmi_model.pair_counter.keys():\n",
        "        pmi = pmi_model.transform(word0, word1)\n",
        "        if pmi > 0:\n",
        "            edges.append([word0, word1])\n",
        "            edge_weight.append(pmi)\n",
        "            edges.append([word1, word0])\n",
        "            edge_weight.append(pmi)\n",
        "    edge_index = np.array(edges).T\n",
        "    return tfg.Graph(x=x, edge_index=edge_index, edge_weight=edge_weight)"
      ],
      "metadata": {
        "id": "2vRdqgoTxMTn"
      },
      "execution_count": 51,
      "outputs": []
    },
    {
      "cell_type": "code",
      "source": [
        "def build_combined_graph(word_graph, sequences, embedding_size):\n",
        "    num_words = word_graph.num_nodes\n",
        "    x = tf.zeros([len(sequences), embedding_size], dtype=tf.float32)\n",
        "    edges = []\n",
        "    edge_weight = []\n",
        "    for i, sequence in enumerate(sequences):\n",
        "        doc_node_index = num_words + i\n",
        "        for word in sequence:\n",
        "            edges.append([doc_node_index, word])  # only directed edge\n",
        "            edge_weight.append(1.0)  # use BOW instaead of TF-IDF\n",
        "\n",
        "    edge_index = np.array(edges).T\n",
        "    x = tf.concat([word_graph.x, x], axis=0)\n",
        "    edge_index = np.concatenate([word_graph.edge_index, edge_index], axis=1)\n",
        "    edge_weight = np.concatenate([word_graph.edge_weight, edge_weight], axis=0)\n",
        "    return tfg.Graph(x=x, edge_index=edge_index, edge_weight=edge_weight)"
      ],
      "metadata": {
        "id": "UEfvLkGXxP6Z"
      },
      "execution_count": 52,
      "outputs": []
    },
    {
      "cell_type": "code",
      "source": [
        "pmi_cache_path = \"cached_pmi_model.p\"\n",
        "if os.path.exists(pmi_cache_path):\n",
        "    with open(pmi_cache_path, \"rb\") as f:\n",
        "        pmi_model = pickle.load(f)\n",
        "else:\n",
        "    pmi_model = PMIModel()\n",
        "    pmi_model.fit(train_sequences, window_size=6)\n",
        "    with open(pmi_cache_path, \"wb\") as f:\n",
        "        pickle.dump(pmi_model, f)\n",
        "\n",
        "embedding_size = 150\n",
        "num_words = len(tokenizer.word_index) + 1\n",
        "word_graph = build_word_graph(num_words, pmi_model, embedding_size)\n",
        "train_combined_graph = build_combined_graph(word_graph, train_sequences, embedding_size)\n",
        "test_combined_graph = build_combined_graph(word_graph, test_sequences, embedding_size)\n",
        "\n",
        "print(word_graph)\n",
        "print(train_combined_graph)\n",
        "print(test_combined_graph)\n",
        "\n",
        "num_classes =4"
      ],
      "metadata": {
        "colab": {
          "base_uri": "https://localhost:8080/"
        },
        "id": "_fIc6lSbxRiD",
        "outputId": "6ca3400d-4953-4850-e4bb-dac4686dad0e"
      },
      "execution_count": 53,
      "outputs": [
        {
          "output_type": "stream",
          "name": "stderr",
          "text": [
            "100%|██████████| 4524/4524 [00:00<00:00, 4780.32it/s]\n"
          ]
        },
        {
          "output_type": "stream",
          "name": "stdout",
          "text": [
            "Graph Shape: x => (6125, 150)\tedge_index => (2, 68444)\ty => None\n",
            "Graph Shape: x => (10649, 150)\tedge_index => (2, 101797)\ty => None\n",
            "Graph Shape: x => (7633, 150)\tedge_index => (2, 78611)\ty => None\n"
          ]
        }
      ]
    },
    {
      "cell_type": "code",
      "source": [
        "class GCNModel(tf.keras.Model):\n",
        "\n",
        "    def __init__(self, *args, **kwargs):\n",
        "        super().__init__(*args, **kwargs)\n",
        "        self.gcn0 = tfg.layers.GCN(100, activation=tf.nn.relu)\n",
        "        self.gcn1 = tfg.layers.GCN(50, activation=tf.nn.relu)\n",
        "        self.gcn2 = tfg.layers.GCN(num_classes)\n",
        "        self.dropout = keras.layers.Dropout(0.5)\n",
        "\n",
        "    def call(self, inputs, training=None, mask=None, cache=None):\n",
        "        x, edge_index, edge_weight = inputs\n",
        "        h = self.gcn0([x, edge_index, edge_weight], cache=cache)\n",
        "        h = self.dropout(h, training=training)\n",
        "        h = self.gcn1([h, edge_index, edge_weight], cache=cache)\n",
        "        h = self.gcn2([h, edge_index, edge_weight], cache=cache)\n",
        "        return h"
      ],
      "metadata": {
        "id": "5Exhk4q3xXDk"
      },
      "execution_count": 54,
      "outputs": []
    },
    {
      "cell_type": "code",
      "source": [
        "model = GCNModel()\n",
        "model.gcn0.cache_normed_edge(train_combined_graph)\n",
        "model.gcn0.cache_normed_edge(test_combined_graph)"
      ],
      "metadata": {
        "colab": {
          "base_uri": "https://localhost:8080/"
        },
        "id": "yWHfw_AFxqFK",
        "outputId": "316299d0-380f-4d83-fe64-26a2fff08582"
      },
      "execution_count": 55,
      "outputs": [
        {
          "output_type": "stream",
          "name": "stderr",
          "text": [
            "/usr/local/lib/python3.7/dist-packages/tf_geometric/layers/conv/gcn.py:79: DeprecationWarning: 'GCN.cache_normed_edge(graph, override)' is deprecated, use 'GCN.build_cache_for_graph(graph, override)' instead\n",
            "  warnings.warn(\"'GCN.cache_normed_edge(graph, override)' is deprecated, use 'GCN.build_cache_for_graph(graph, override)' instead\", DeprecationWarning)\n",
            "/usr/local/lib/python3.7/dist-packages/tf_geometric/layers/conv/gcn.py:79: DeprecationWarning: 'GCN.cache_normed_edge(graph, override)' is deprecated, use 'GCN.build_cache_for_graph(graph, override)' instead\n",
            "  warnings.warn(\"'GCN.cache_normed_edge(graph, override)' is deprecated, use 'GCN.build_cache_for_graph(graph, override)' instead\", DeprecationWarning)\n"
          ]
        }
      ]
    },
    {
      "cell_type": "code",
      "source": [
        "@tf_utils.function\n",
        "def forward(graph, training=False):\n",
        "    logits = model([graph.x, graph.edge_index, graph.edge_weight], cache=graph.cache, training=training)\n",
        "    logits = logits[num_words:]\n",
        "    return logits"
      ],
      "metadata": {
        "id": "K4rY7fvZxtLb"
      },
      "execution_count": 56,
      "outputs": []
    },
    {
      "cell_type": "code",
      "source": [
        "def compute_loss(logits, labels):\n",
        "    losses = tf.nn.softmax_cross_entropy_with_logits(\n",
        "        logits=logits,\n",
        "        labels=tf.one_hot(labels,depth=num_classes)\n",
        "    )\n",
        "    mean_loss = tf.reduce_mean(losses)\n",
        "    return mean_loss"
      ],
      "metadata": {
        "id": "Bn1E6l5oxvO4"
      },
      "execution_count": 57,
      "outputs": []
    },
    {
      "cell_type": "code",
      "source": [
        "optimizer = tf.keras.optimizers.Adam(learning_rate=0.05)"
      ],
      "metadata": {
        "id": "tdMHK5bexxHD"
      },
      "execution_count": 58,
      "outputs": []
    },
    {
      "cell_type": "code",
      "source": [
        "train_losses, train_accs, test_losses, test_accs= [],[],[],[]\n",
        "for step in range(5000):\n",
        "    with tf.GradientTape() as tape:\n",
        "        logits = forward(train_combined_graph, training=True)\n",
        "        # print(\"logits\" ,logits[0],\"Shape\",logits[0].shape)\n",
        "        mean_loss = compute_loss(logits, train_labels)\n",
        "\n",
        "    vars = tape.watched_variables()\n",
        "    grads = tape.gradient(mean_loss, vars)\n",
        "    optimizer.apply_gradients(zip(grads, vars))\n",
        "\n",
        "    if step % 10 == 0:\n",
        "        # train accuracytf.one_hot(labels, depth=num_classes)\n",
        "        preds = tf.argmax(logits, axis=-1)\n",
        "        corrects = tf.cast(tf.equal(preds, train_labels), tf.float32)\n",
        "        train_accuracy = tf.reduce_mean(corrects)\n",
        "        train_accs.append(train_accuracy)\n",
        "        train_losses.append(mean_loss)\n",
        "\n",
        "        logits = forward(test_combined_graph)\n",
        "        test_loss = compute_loss(logits, test_labels)\n",
        "        preds = tf.argmax(logits, axis=-1)\n",
        "        corrects = tf.cast(tf.equal(preds, test_labels), tf.float32)\n",
        "        accuracy = tf.reduce_mean(corrects)\n",
        "        test_accs.append(accuracy)\n",
        "        test_losses.append(test_loss)\n",
        "        print(\"step = {}\\tloss = {}\\ttrain_accuracy = {}\\ttest_accuracy = {}\".format(step, mean_loss, train_accuracy,accuracy))"
      ],
      "metadata": {
        "colab": {
          "base_uri": "https://localhost:8080/"
        },
        "id": "Y9aRgLo1x0Hz",
        "outputId": "06f909d4-31b1-4380-a974-d232ffe154c7"
      },
      "execution_count": 61,
      "outputs": [
        {
          "output_type": "stream",
          "name": "stdout",
          "text": [
            "step = 0\tloss = 1.3243070840835571\ttrain_accuracy = 0.44319185614585876\ttest_accuracy = 0.3812997341156006\n",
            "step = 10\tloss = 1.2105227708816528\ttrain_accuracy = 0.4593280255794525\ttest_accuracy = 0.4714854061603546\n",
            "step = 20\tloss = 1.0710643529891968\ttrain_accuracy = 0.5072944164276123\ttest_accuracy = 0.49602121114730835\n",
            "step = 30\tloss = 0.9815978407859802\ttrain_accuracy = 0.5386825799942017\ttest_accuracy = 0.511273205280304\n",
            "step = 40\tloss = 0.8995745778083801\ttrain_accuracy = 0.6127321124076843\ttest_accuracy = 0.568965494632721\n",
            "step = 50\tloss = 0.8152523040771484\ttrain_accuracy = 0.6363837122917175\ttest_accuracy = 0.5557029247283936\n",
            "step = 60\tloss = 0.7911531925201416\ttrain_accuracy = 0.6564986705780029\ttest_accuracy = 0.5809018611907959\n",
            "step = 70\tloss = 0.7235138416290283\ttrain_accuracy = 0.6772767305374146\ttest_accuracy = 0.6034482717514038\n",
            "step = 80\tloss = 0.717804491519928\ttrain_accuracy = 0.7011494040489197\ttest_accuracy = 0.6193633675575256\n",
            "step = 90\tloss = 0.6982749700546265\ttrain_accuracy = 0.7144120335578918\ttest_accuracy = 0.6299734711647034\n",
            "step = 100\tloss = 0.6341209411621094\ttrain_accuracy = 0.7343059182167053\ttest_accuracy = 0.6259946823120117\n",
            "step = 110\tloss = 0.6022630333900452\ttrain_accuracy = 0.7420424222946167\ttest_accuracy = 0.645225465297699\n",
            "step = 120\tloss = 0.6794071793556213\ttrain_accuracy = 0.7062334418296814\ttest_accuracy = 0.6346153616905212\n",
            "step = 130\tloss = 0.5972563028335571\ttrain_accuracy = 0.7522104382514954\ttest_accuracy = 0.662466824054718\n",
            "step = 140\tloss = 0.5872218012809753\ttrain_accuracy = 0.7575154900550842\ttest_accuracy = 0.6558355689048767\n",
            "step = 150\tloss = 0.5403581857681274\ttrain_accuracy = 0.7798408269882202\ttest_accuracy = 0.674403190612793\n",
            "step = 160\tloss = 0.5420137643814087\ttrain_accuracy = 0.7820512652397156\ttest_accuracy = 0.6777188181877136\n",
            "step = 170\tloss = 0.524345874786377\ttrain_accuracy = 0.789787769317627\ttest_accuracy = 0.6777188181877136\n",
            "step = 180\tloss = 0.5106573700904846\ttrain_accuracy = 0.7917771935462952\ttest_accuracy = 0.6783819794654846\n",
            "step = 190\tloss = 0.533017635345459\ttrain_accuracy = 0.7855879664421082\ttest_accuracy = 0.6750662922859192\n",
            "step = 200\tloss = 0.5104186534881592\ttrain_accuracy = 0.7984085083007812\ttest_accuracy = 0.6830238699913025\n",
            "step = 210\tloss = 0.49300384521484375\ttrain_accuracy = 0.7995136976242065\ttest_accuracy = 0.6830238699913025\n",
            "step = 220\tloss = 0.4903634488582611\ttrain_accuracy = 0.7946507334709167\ttest_accuracy = 0.6823607683181763\n",
            "step = 230\tloss = 0.4884113669395447\ttrain_accuracy = 0.7957559823989868\ttest_accuracy = 0.6989389657974243\n",
            "step = 240\tloss = 0.5039717555046082\ttrain_accuracy = 0.8032714128494263\ttest_accuracy = 0.691644549369812\n",
            "step = 250\tloss = 0.5252408981323242\ttrain_accuracy = 0.7749779224395752\ttest_accuracy = 0.6770557165145874\n",
            "step = 260\tloss = 0.5010536313056946\ttrain_accuracy = 0.7953138947486877\ttest_accuracy = 0.6863394975662231\n",
            "step = 270\tloss = 0.4678158462047577\ttrain_accuracy = 0.8143236041069031\ttest_accuracy = 0.7049071788787842\n",
            "step = 280\tloss = 0.4653868079185486\ttrain_accuracy = 0.8085764646530151\ttest_accuracy = 0.710212230682373\n",
            "step = 290\tloss = 0.4626385569572449\ttrain_accuracy = 0.8147656917572021\ttest_accuracy = 0.6996021270751953\n",
            "step = 300\tloss = 0.44243302941322327\ttrain_accuracy = 0.8196286559104919\ttest_accuracy = 0.7141909599304199\n",
            "step = 310\tloss = 0.42886194586753845\ttrain_accuracy = 0.8238284587860107\ttest_accuracy = 0.6976127028465271\n",
            "step = 320\tloss = 0.42183759808540344\ttrain_accuracy = 0.831122875213623\ttest_accuracy = 0.7055702805519104\n",
            "step = 330\tloss = 0.40214139223098755\ttrain_accuracy = 0.8293545246124268\ttest_accuracy = 0.7108753323554993\n",
            "step = 340\tloss = 0.4236719608306885\ttrain_accuracy = 0.8275862336158752\ttest_accuracy = 0.7128646969795227\n",
            "step = 350\tloss = 0.47473016381263733\ttrain_accuracy = 0.8344385623931885\ttest_accuracy = 0.7161803841590881\n",
            "step = 360\tloss = 0.4142749011516571\ttrain_accuracy = 0.8271441459655762\ttest_accuracy = 0.7128646969795227\n",
            "step = 370\tloss = 0.4348112940788269\ttrain_accuracy = 0.8185234069824219\ttest_accuracy = 0.6976127028465271\n",
            "step = 380\tloss = 0.45146098732948303\ttrain_accuracy = 0.8216180205345154\ttest_accuracy = 0.7002652287483215\n",
            "step = 390\tloss = 0.4472532272338867\ttrain_accuracy = 0.8171971440315247\ttest_accuracy = 0.7009283900260925\n",
            "step = 400\tloss = 0.5037438869476318\ttrain_accuracy = 0.7957559823989868\ttest_accuracy = 0.7075597047805786\n",
            "step = 410\tloss = 0.47012999653816223\ttrain_accuracy = 0.8008399605751038\ttest_accuracy = 0.7042440176010132\n",
            "step = 420\tloss = 0.42790940403938293\ttrain_accuracy = 0.8264809846878052\ttest_accuracy = 0.7228116989135742\n",
            "step = 430\tloss = 0.48088109493255615\ttrain_accuracy = 0.8176392316818237\ttest_accuracy = 0.7181697487831116\n",
            "step = 440\tloss = 0.48845091462135315\ttrain_accuracy = 0.8087975382804871\ttest_accuracy = 0.6876657605171204\n",
            "step = 450\tloss = 0.472736120223999\ttrain_accuracy = 0.8043766617774963\ttest_accuracy = 0.7221485376358032\n",
            "step = 460\tloss = 0.42722731828689575\ttrain_accuracy = 0.8171971440315247\ttest_accuracy = 0.721485435962677\n",
            "step = 470\tloss = 0.43490520119667053\ttrain_accuracy = 0.8152077794075012\ttest_accuracy = 0.6876657605171204\n",
            "step = 480\tloss = 0.43948423862457275\ttrain_accuracy = 0.8034924864768982\ttest_accuracy = 0.7194960117340088\n",
            "step = 490\tloss = 0.46455439925193787\ttrain_accuracy = 0.8147656917572021\ttest_accuracy = 0.7168434858322144\n",
            "step = 500\tloss = 0.4005142152309418\ttrain_accuracy = 0.8348806500434875\ttest_accuracy = 0.7161803841590881\n",
            "step = 510\tloss = 0.43846774101257324\ttrain_accuracy = 0.8324491381645203\ttest_accuracy = 0.7248010635375977\n",
            "step = 520\tloss = 0.3778882622718811\ttrain_accuracy = 0.8395225405693054\ttest_accuracy = 0.7294429540634155\n",
            "step = 530\tloss = 0.4175039231777191\ttrain_accuracy = 0.8260388970375061\ttest_accuracy = 0.7393898963928223\n",
            "step = 540\tloss = 0.3802839517593384\ttrain_accuracy = 0.8439434170722961\ttest_accuracy = 0.7301061153411865\n",
            "step = 550\tloss = 0.3841831684112549\ttrain_accuracy = 0.8386383652687073\ttest_accuracy = 0.738726794719696\n",
            "step = 560\tloss = 0.38853874802589417\ttrain_accuracy = 0.8381962776184082\ttest_accuracy = 0.7420424222946167\n",
            "step = 570\tloss = 0.37317410111427307\ttrain_accuracy = 0.8381962776184082\ttest_accuracy = 0.7155172228813171\n",
            "step = 580\tloss = 0.36445900797843933\ttrain_accuracy = 0.8364279270172119\ttest_accuracy = 0.7513262629508972\n",
            "step = 590\tloss = 0.353803426027298\ttrain_accuracy = 0.8457117676734924\ttest_accuracy = 0.7413793206214905\n",
            "step = 600\tloss = 0.38850775361061096\ttrain_accuracy = 0.8417329788208008\ttest_accuracy = 0.7480106353759766\n",
            "step = 610\tloss = 0.3582575023174286\ttrain_accuracy = 0.8457117676734924\ttest_accuracy = 0.7446949481964111\n",
            "step = 620\tloss = 0.3723921775817871\ttrain_accuracy = 0.8479222059249878\ttest_accuracy = 0.7539787888526917\n",
            "step = 630\tloss = 0.3339155912399292\ttrain_accuracy = 0.854774534702301\ttest_accuracy = 0.7506631016731262\n",
            "step = 640\tloss = 0.3485354781150818\ttrain_accuracy = 0.8457117676734924\ttest_accuracy = 0.7506631016731262\n",
            "step = 650\tloss = 0.3407394289970398\ttrain_accuracy = 0.848585307598114\ttest_accuracy = 0.761273205280304\n",
            "step = 660\tloss = 0.3337819576263428\ttrain_accuracy = 0.8583112359046936\ttest_accuracy = 0.7586206793785095\n",
            "step = 670\tloss = 0.33100271224975586\ttrain_accuracy = 0.854995608329773\ttest_accuracy = 0.7513262629508972\n",
            "step = 680\tloss = 0.3301999866962433\ttrain_accuracy = 0.8545535206794739\ttest_accuracy = 0.7579575777053833\n",
            "step = 690\tloss = 0.33549022674560547\ttrain_accuracy = 0.854332447052002\ttest_accuracy = 0.7519893646240234\n",
            "step = 700\tloss = 0.32076770067214966\ttrain_accuracy = 0.8616268634796143\ttest_accuracy = 0.7539787888526917\n",
            "step = 710\tloss = 0.32682186365127563\ttrain_accuracy = 0.8638373017311096\ttest_accuracy = 0.7625994682312012\n",
            "step = 720\tloss = 0.34078851342201233\ttrain_accuracy = 0.854332447052002\ttest_accuracy = 0.7440318465232849\n",
            "step = 730\tloss = 0.3416982591152191\ttrain_accuracy = 0.8532272577285767\ttest_accuracy = 0.7506631016731262\n",
            "step = 740\tloss = 0.33205315470695496\ttrain_accuracy = 0.8600795865058899\ttest_accuracy = 0.7553050518035889\n",
            "step = 750\tloss = 0.3326460123062134\ttrain_accuracy = 0.860963761806488\ttest_accuracy = 0.7480106353759766\n",
            "step = 760\tloss = 0.31454068422317505\ttrain_accuracy = 0.8633952140808105\ttest_accuracy = 0.7546418905258179\n",
            "step = 770\tloss = 0.31717756390571594\ttrain_accuracy = 0.8645004630088806\ttest_accuracy = 0.7606101036071777\n",
            "step = 780\tloss = 0.3083615005016327\ttrain_accuracy = 0.8611847758293152\ttest_accuracy = 0.761936366558075\n",
            "step = 790\tloss = 0.31820762157440186\ttrain_accuracy = 0.8651635646820068\ttest_accuracy = 0.732758641242981\n",
            "step = 800\tloss = 0.33487263321876526\ttrain_accuracy = 0.8596374988555908\ttest_accuracy = 0.7579575777053833\n",
            "step = 810\tloss = 0.3025691509246826\ttrain_accuracy = 0.8640583753585815\ttest_accuracy = 0.7599469423294067\n",
            "step = 820\tloss = 0.3022116720676422\ttrain_accuracy = 0.8616268634796143\ttest_accuracy = 0.7632625699043274\n",
            "step = 830\tloss = 0.31534796953201294\ttrain_accuracy = 0.8569849729537964\ttest_accuracy = 0.7665782570838928\n",
            "step = 840\tloss = 0.3182052671909332\ttrain_accuracy = 0.8620689511299133\ttest_accuracy = 0.7592838406562805\n",
            "step = 850\tloss = 0.30047038197517395\ttrain_accuracy = 0.8673740029335022\ttest_accuracy = 0.7553050518035889\n",
            "step = 860\tloss = 0.3268483877182007\ttrain_accuracy = 0.8538903594017029\ttest_accuracy = 0.7659150958061218\n",
            "step = 870\tloss = 0.31796562671661377\ttrain_accuracy = 0.860963761806488\ttest_accuracy = 0.7639257311820984\n",
            "step = 880\tloss = 0.3064068853855133\ttrain_accuracy = 0.8673740029335022\ttest_accuracy = 0.7473474740982056\n",
            "step = 890\tloss = 0.31363344192504883\ttrain_accuracy = 0.866047739982605\ttest_accuracy = 0.7566313147544861\n",
            "step = 900\tloss = 0.3264279365539551\ttrain_accuracy = 0.8600795865058899\ttest_accuracy = 0.7632625699043274\n",
            "step = 910\tloss = 0.3197738230228424\ttrain_accuracy = 0.8516799211502075\ttest_accuracy = 0.7625994682312012\n",
            "step = 920\tloss = 0.3541911542415619\ttrain_accuracy = 0.860963761806488\ttest_accuracy = 0.7526525259017944\n",
            "step = 930\tloss = 0.3490455448627472\ttrain_accuracy = 0.8525640964508057\ttest_accuracy = 0.7606101036071777\n",
            "step = 940\tloss = 0.335048109292984\ttrain_accuracy = 0.8525640964508057\ttest_accuracy = 0.7433686852455139\n",
            "step = 950\tloss = 0.3283385932445526\ttrain_accuracy = 0.8552166223526001\ttest_accuracy = 0.7486737370491028\n",
            "step = 960\tloss = 0.3167222738265991\ttrain_accuracy = 0.8636162877082825\ttest_accuracy = 0.7705570459365845\n",
            "step = 970\tloss = 0.32757869362831116\ttrain_accuracy = 0.8627321124076843\ttest_accuracy = 0.7599469423294067\n",
            "step = 980\tloss = 0.30352655053138733\ttrain_accuracy = 0.8629531264305115\ttest_accuracy = 0.7579575777053833\n",
            "step = 990\tloss = 0.304133802652359\ttrain_accuracy = 0.8658267259597778\ttest_accuracy = 0.76790452003479\n"
          ]
        }
      ]
    },
    {
      "cell_type": "code",
      "source": [
        "plt.plot(range(len(train_losses)),train_losses)\n",
        "plt.title(\"Training Losses for first 1000 Epochs\")\n",
        "plt.show()"
      ],
      "metadata": {
        "colab": {
          "base_uri": "https://localhost:8080/",
          "height": 281
        },
        "id": "svBUufa7x5AC",
        "outputId": "62cf0945-e9b8-473b-cca5-bcd3985c9316"
      },
      "execution_count": null,
      "outputs": [
        {
          "output_type": "display_data",
          "data": {
            "text/plain": [
              "<Figure size 432x288 with 1 Axes>"
            ],
            "image/png": "[encoded data removed]"
          },
          "metadata": {
            "needs_background": "light"
          }
        }
      ]
    },
    {
      "cell_type": "code",
      "source": [
        "plt.plot(range(len(test_losses)),test_losses)\n",
        "plt.title(\"Testing Losses for first 1000 Epochs\")\n",
        "plt.show()"
      ],
      "metadata": {
        "colab": {
          "base_uri": "https://localhost:8080/",
          "height": 281
        },
        "id": "804LKJxTeL_L",
        "outputId": "debe72d2-6be2-4e3d-c682-6e27264bc55e"
      },
      "execution_count": null,
      "outputs": [
        {
          "output_type": "display_data",
          "data": {
            "text/plain": [
              "<Figure size 432x288 with 1 Axes>"
            ],
            "image/png": "[encoded data removed]"
          },
          "metadata": {
            "needs_background": "light"
          }
        }
      ]
    },
    {
      "cell_type": "code",
      "source": [
        ""
      ],
      "metadata": {
        "id": "RKgKVHFIjNBo"
      },
      "execution_count": null,
      "outputs": []
    }
  ]
}