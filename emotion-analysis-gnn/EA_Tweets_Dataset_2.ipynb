{
  "nbformat": 4,
  "nbformat_minor": 0,
  "metadata": {
    "colab": {
      "name": "Google_EA_TextGCN.ipynb",
      "provenance": [],
      "collapsed_sections": [],
      "authorship_tag": "ABX9TyMYAXZBgzhxDobzyu6rozEk",
      "include_colab_link": true
    },
    "kernelspec": {
      "name": "python3",
      "display_name": "Python 3"
    },
    "language_info": {
      "name": "python"
    }
  },
  "cells": [
    {
      "cell_type": "markdown",
      "metadata": {
        "id": "view-in-github",
        "colab_type": "text"
      },
      "source": [
        "<a href=\"https://colab.research.google.com/github/tejaspradhan/Graph-Neural-Networks/blob/main/emotion-analysis-gnn/EA_Tweets_Dataset_2.ipynb\" target=\"_parent\"><img src=\"https://colab.research.google.com/assets/colab-badge.svg\" alt=\"Open In Colab\"/></a>"
      ]
    },
    {
      "cell_type": "code",
      "source": [
        "! pip install -U tf_geometric"
      ],
      "metadata": {
        "colab": {
          "base_uri": "https://localhost:8080/"
        },
        "id": "PzJIxwh0wUL0",
        "outputId": "92fe4430-c59e-4674-b336-6f3456189f9e"
      },
      "execution_count": 1,
      "outputs": [
        {
          "output_type": "stream",
          "name": "stdout",
          "text": [
            "Looking in indexes: https://pypi.org/simple, https://us-python.pkg.dev/colab-wheels/public/simple/\n",
            "Requirement already satisfied: tf_geometric in /usr/local/lib/python3.7/dist-packages (0.0.85)\n",
            "Requirement already satisfied: scipy>=1.1.0 in /usr/local/lib/python3.7/dist-packages (from tf_geometric) (1.4.1)\n",
            "Requirement already satisfied: networkx>=2.1 in /usr/local/lib/python3.7/dist-packages (from tf_geometric) (2.6.3)\n",
            "Requirement already satisfied: tf-sparse>=0.0.12 in /usr/local/lib/python3.7/dist-packages (from tf_geometric) (0.0.12)\n",
            "Requirement already satisfied: ogb-lite>=0.0.3 in /usr/local/lib/python3.7/dist-packages (from tf_geometric) (0.0.3)\n",
            "Requirement already satisfied: tqdm in /usr/local/lib/python3.7/dist-packages (from tf_geometric) (4.64.0)\n",
            "Requirement already satisfied: numpy>=1.17.4 in /usr/local/lib/python3.7/dist-packages (from tf_geometric) (1.21.6)\n",
            "Requirement already satisfied: scikit-learn>=0.22 in /usr/local/lib/python3.7/dist-packages (from tf_geometric) (1.0.2)\n",
            "Requirement already satisfied: pandas>=0.24.0 in /usr/local/lib/python3.7/dist-packages (from ogb-lite>=0.0.3->tf_geometric) (1.3.5)\n",
            "Requirement already satisfied: outdated>=0.2.0 in /usr/local/lib/python3.7/dist-packages (from ogb-lite>=0.0.3->tf_geometric) (0.2.1)\n",
            "Requirement already satisfied: six>=1.12.0 in /usr/local/lib/python3.7/dist-packages (from ogb-lite>=0.0.3->tf_geometric) (1.15.0)\n",
            "Requirement already satisfied: urllib3>=1.24.0 in /usr/local/lib/python3.7/dist-packages (from ogb-lite>=0.0.3->tf_geometric) (1.24.3)\n",
            "Requirement already satisfied: requests in /usr/local/lib/python3.7/dist-packages (from outdated>=0.2.0->ogb-lite>=0.0.3->tf_geometric) (2.23.0)\n",
            "Requirement already satisfied: littleutils in /usr/local/lib/python3.7/dist-packages (from outdated>=0.2.0->ogb-lite>=0.0.3->tf_geometric) (0.2.2)\n",
            "Requirement already satisfied: pytz>=2017.3 in /usr/local/lib/python3.7/dist-packages (from pandas>=0.24.0->ogb-lite>=0.0.3->tf_geometric) (2022.1)\n",
            "Requirement already satisfied: python-dateutil>=2.7.3 in /usr/local/lib/python3.7/dist-packages (from pandas>=0.24.0->ogb-lite>=0.0.3->tf_geometric) (2.8.2)\n",
            "Requirement already satisfied: joblib>=0.11 in /usr/local/lib/python3.7/dist-packages (from scikit-learn>=0.22->tf_geometric) (1.1.0)\n",
            "Requirement already satisfied: threadpoolctl>=2.0.0 in /usr/local/lib/python3.7/dist-packages (from scikit-learn>=0.22->tf_geometric) (3.1.0)\n",
            "Requirement already satisfied: certifi>=2017.4.17 in /usr/local/lib/python3.7/dist-packages (from requests->outdated>=0.2.0->ogb-lite>=0.0.3->tf_geometric) (2022.6.15)\n",
            "Requirement already satisfied: chardet<4,>=3.0.2 in /usr/local/lib/python3.7/dist-packages (from requests->outdated>=0.2.0->ogb-lite>=0.0.3->tf_geometric) (3.0.4)\n",
            "Requirement already satisfied: idna<3,>=2.5 in /usr/local/lib/python3.7/dist-packages (from requests->outdated>=0.2.0->ogb-lite>=0.0.3->tf_geometric) (2.10)\n"
          ]
        }
      ]
    },
    {
      "cell_type": "code",
      "source": [
        "! pip install kaggle"
      ],
      "metadata": {
        "colab": {
          "base_uri": "https://localhost:8080/"
        },
        "id": "yKEXnFYoJOUb",
        "outputId": "a469c3fc-3d3c-42a3-a65c-0552915ae871"
      },
      "execution_count": 2,
      "outputs": [
        {
          "output_type": "stream",
          "name": "stdout",
          "text": [
            "Looking in indexes: https://pypi.org/simple, https://us-python.pkg.dev/colab-wheels/public/simple/\n",
            "Requirement already satisfied: kaggle in /usr/local/lib/python3.7/dist-packages (1.5.12)\n",
            "Requirement already satisfied: six>=1.10 in /usr/local/lib/python3.7/dist-packages (from kaggle) (1.15.0)\n",
            "Requirement already satisfied: urllib3 in /usr/local/lib/python3.7/dist-packages (from kaggle) (1.24.3)\n",
            "Requirement already satisfied: requests in /usr/local/lib/python3.7/dist-packages (from kaggle) (2.23.0)\n",
            "Requirement already satisfied: python-dateutil in /usr/local/lib/python3.7/dist-packages (from kaggle) (2.8.2)\n",
            "Requirement already satisfied: python-slugify in /usr/local/lib/python3.7/dist-packages (from kaggle) (6.1.2)\n",
            "Requirement already satisfied: tqdm in /usr/local/lib/python3.7/dist-packages (from kaggle) (4.64.0)\n",
            "Requirement already satisfied: certifi in /usr/local/lib/python3.7/dist-packages (from kaggle) (2022.6.15)\n",
            "Requirement already satisfied: text-unidecode>=1.3 in /usr/local/lib/python3.7/dist-packages (from python-slugify->kaggle) (1.3)\n",
            "Requirement already satisfied: idna<3,>=2.5 in /usr/local/lib/python3.7/dist-packages (from requests->kaggle) (2.10)\n",
            "Requirement already satisfied: chardet<4,>=3.0.2 in /usr/local/lib/python3.7/dist-packages (from requests->kaggle) (3.0.4)\n"
          ]
        }
      ]
    },
    {
      "cell_type": "code",
      "execution_count": 2,
      "metadata": {
        "colab": {
          "base_uri": "https://localhost:8080/"
        },
        "id": "x-JFG2OuhHrz",
        "outputId": "49d90564-2a9e-4225-a197-b0536ef71d53"
      },
      "outputs": [
        {
          "output_type": "stream",
          "name": "stderr",
          "text": [
            "/usr/local/lib/python3.7/dist-packages/scipy/fft/__init__.py:97: DeprecationWarning: The module numpy.dual is deprecated.  Instead of using dual, use the functions directly from numpy or scipy.\n",
            "  from numpy.dual import register_func\n",
            "/usr/local/lib/python3.7/dist-packages/scipy/sparse/sputils.py:17: DeprecationWarning: `np.typeDict` is a deprecated alias for `np.sctypeDict`.\n",
            "  supported_dtypes = [np.typeDict[x] for x in supported_dtypes]\n",
            "/usr/local/lib/python3.7/dist-packages/scipy/sparse/sputils.py:17: DeprecationWarning: `np.typeDict` is a deprecated alias for `np.sctypeDict`.\n",
            "  supported_dtypes = [np.typeDict[x] for x in supported_dtypes]\n",
            "/usr/local/lib/python3.7/dist-packages/scipy/sparse/sputils.py:17: DeprecationWarning: `np.typeDict` is a deprecated alias for `np.sctypeDict`.\n",
            "  supported_dtypes = [np.typeDict[x] for x in supported_dtypes]\n",
            "/usr/local/lib/python3.7/dist-packages/scipy/sparse/sputils.py:17: DeprecationWarning: `np.typeDict` is a deprecated alias for `np.sctypeDict`.\n",
            "  supported_dtypes = [np.typeDict[x] for x in supported_dtypes]\n",
            "/usr/local/lib/python3.7/dist-packages/scipy/sparse/sputils.py:17: DeprecationWarning: `np.typeDict` is a deprecated alias for `np.sctypeDict`.\n",
            "  supported_dtypes = [np.typeDict[x] for x in supported_dtypes]\n",
            "/usr/local/lib/python3.7/dist-packages/scipy/sparse/sputils.py:17: DeprecationWarning: `np.typeDict` is a deprecated alias for `np.sctypeDict`.\n",
            "  supported_dtypes = [np.typeDict[x] for x in supported_dtypes]\n",
            "/usr/local/lib/python3.7/dist-packages/scipy/sparse/sputils.py:17: DeprecationWarning: `np.typeDict` is a deprecated alias for `np.sctypeDict`.\n",
            "  supported_dtypes = [np.typeDict[x] for x in supported_dtypes]\n",
            "/usr/local/lib/python3.7/dist-packages/scipy/sparse/sputils.py:17: DeprecationWarning: `np.typeDict` is a deprecated alias for `np.sctypeDict`.\n",
            "  supported_dtypes = [np.typeDict[x] for x in supported_dtypes]\n",
            "/usr/local/lib/python3.7/dist-packages/scipy/sparse/sputils.py:17: DeprecationWarning: `np.typeDict` is a deprecated alias for `np.sctypeDict`.\n",
            "  supported_dtypes = [np.typeDict[x] for x in supported_dtypes]\n",
            "/usr/local/lib/python3.7/dist-packages/scipy/sparse/sputils.py:17: DeprecationWarning: `np.typeDict` is a deprecated alias for `np.sctypeDict`.\n",
            "  supported_dtypes = [np.typeDict[x] for x in supported_dtypes]\n",
            "/usr/local/lib/python3.7/dist-packages/scipy/sparse/sputils.py:17: DeprecationWarning: `np.typeDict` is a deprecated alias for `np.sctypeDict`.\n",
            "  supported_dtypes = [np.typeDict[x] for x in supported_dtypes]\n",
            "/usr/local/lib/python3.7/dist-packages/scipy/sparse/sputils.py:17: DeprecationWarning: `np.typeDict` is a deprecated alias for `np.sctypeDict`.\n",
            "  supported_dtypes = [np.typeDict[x] for x in supported_dtypes]\n",
            "/usr/local/lib/python3.7/dist-packages/scipy/sparse/sputils.py:17: DeprecationWarning: `np.typeDict` is a deprecated alias for `np.sctypeDict`.\n",
            "  supported_dtypes = [np.typeDict[x] for x in supported_dtypes]\n",
            "/usr/local/lib/python3.7/dist-packages/scipy/sparse/sputils.py:17: DeprecationWarning: `np.typeDict` is a deprecated alias for `np.sctypeDict`.\n",
            "  supported_dtypes = [np.typeDict[x] for x in supported_dtypes]\n",
            "/usr/local/lib/python3.7/dist-packages/scipy/sparse/sputils.py:17: DeprecationWarning: `np.typeDict` is a deprecated alias for `np.sctypeDict`.\n",
            "  supported_dtypes = [np.typeDict[x] for x in supported_dtypes]\n",
            "/usr/local/lib/python3.7/dist-packages/scipy/special/orthogonal.py:81: DeprecationWarning: `np.int` is a deprecated alias for the builtin `int`. To silence this warning, use `int` by itself. Doing this will not modify any behavior and is safe. When replacing `np.int`, you may wish to use e.g. `np.int64` or `np.int32` to specify the precision. If you wish to review your current use, check the release note link for additional information.\n",
            "Deprecated in NumPy 1.20; for more details and guidance: https://numpy.org/devdocs/release/1.20.0-notes.html#deprecations\n",
            "  from numpy import (exp, inf, pi, sqrt, floor, sin, cos, around, int,\n",
            "/usr/local/lib/python3.7/dist-packages/scipy/special/orthogonal.py:81: DeprecationWarning: `np.int` is a deprecated alias for the builtin `int`. To silence this warning, use `int` by itself. Doing this will not modify any behavior and is safe. When replacing `np.int`, you may wish to use e.g. `np.int64` or `np.int32` to specify the precision. If you wish to review your current use, check the release note link for additional information.\n",
            "Deprecated in NumPy 1.20; for more details and guidance: https://numpy.org/devdocs/release/1.20.0-notes.html#deprecations\n",
            "  from numpy import (exp, inf, pi, sqrt, floor, sin, cos, around, int,\n",
            "/usr/local/lib/python3.7/dist-packages/scipy/io/matlab/mio5.py:98: DeprecationWarning: `np.bool` is a deprecated alias for the builtin `bool`. To silence this warning, use `bool` by itself. Doing this will not modify any behavior and is safe. If you specifically wanted the numpy scalar type, use `np.bool_` here.\n",
            "Deprecated in NumPy 1.20; for more details and guidance: https://numpy.org/devdocs/release/1.20.0-notes.html#deprecations\n",
            "  from .mio5_utils import VarReader5\n",
            "[nltk_data] Downloading package stopwords to /root/nltk_data...\n",
            "[nltk_data]   Package stopwords is already up-to-date!\n"
          ]
        }
      ],
      "source": [
        "import os\n",
        "from tf_geometric.utils import tf_utils\n",
        "\n",
        "os.environ[\"CUDA_VISIBLE_DEVICES\"] = \"1\"\n",
        "import numpy as np\n",
        "import pandas as pd\n",
        "from collections import Counter\n",
        "import matplotlib.pyplot as plt\n",
        "\n",
        "import nltk\n",
        "import string\n",
        "from nltk.corpus import stopwords\n",
        "from nltk.stem.wordnet import WordNetLemmatizer\n",
        "# # In case of any corpus are missing \n",
        "# download all-nltk\n",
        "nltk.download('stopwords')\n",
        "stop_words = stopwords.words(\"english\")\n",
        "\n",
        "from tqdm import tqdm\n",
        "\n",
        "from sklearn.model_selection import train_test_split\n",
        "from tensorflow.keras.preprocessing.text import Tokenizer\n",
        "from tensorflow import keras\n",
        "import tensorflow as tf\n",
        "import tf_geometric as tfg\n",
        "import pickle\n",
        "import re\n",
        "import seaborn as sns"
      ]
    },
    {
      "cell_type": "markdown",
      "source": [
        "## Downloading and Exploring Data"
      ],
      "metadata": {
        "id": "JiKYFfvIK36F"
      }
    },
    {
      "cell_type": "code",
      "source": [
        "!rm -r ~/.kaggle\n",
        "!mkdir ~/.kaggle\n",
        "!mv ./kaggle.json ~/.kaggle/\n",
        "!chmod 600 ~/.kaggle/kaggle.json"
      ],
      "metadata": {
        "colab": {
          "base_uri": "https://localhost:8080/"
        },
        "id": "Ls38cMEXJL76",
        "outputId": "4f5bf530-0687-4782-bbef-67387ad5053a"
      },
      "execution_count": 4,
      "outputs": [
        {
          "output_type": "stream",
          "name": "stdout",
          "text": [
            "rm: cannot remove '/root/.kaggle': No such file or directory\n"
          ]
        }
      ]
    },
    {
      "cell_type": "code",
      "source": [
        "!kaggle datasets download -d subhajournal/tweet-sentiment-and-emotion-analysis"
      ],
      "metadata": {
        "colab": {
          "base_uri": "https://localhost:8080/"
        },
        "id": "usdv07I_KpzI",
        "outputId": "f894a19b-223d-4b05-9460-2485fd526d32"
      },
      "execution_count": 5,
      "outputs": [
        {
          "output_type": "stream",
          "name": "stdout",
          "text": [
            "Downloading tweet-sentiment-and-emotion-analysis.zip to /content\n",
            "\r  0% 0.00/269k [00:00<?, ?B/s]\n",
            "\r100% 269k/269k [00:00<00:00, 74.8MB/s]\n"
          ]
        }
      ]
    },
    {
      "cell_type": "code",
      "source": [
        "!unzip /content/tweet-sentiment-and-emotion-analysis.zip"
      ],
      "metadata": {
        "colab": {
          "base_uri": "https://localhost:8080/"
        },
        "id": "uJcQc8DjKuWU",
        "outputId": "b00ce6f4-130e-428f-c2e1-24a50ab1f060"
      },
      "execution_count": 6,
      "outputs": [
        {
          "output_type": "stream",
          "name": "stdout",
          "text": [
            "Archive:  /content/tweet-sentiment-and-emotion-analysis.zip\n",
            "  inflating: all_tweets.csv          \n"
          ]
        }
      ]
    },
    {
      "cell_type": "code",
      "source": [
        "data = pd.read_csv('/content/all_tweets.csv')"
      ],
      "metadata": {
        "id": "JOlPotx4K2wa"
      },
      "execution_count": 3,
      "outputs": []
    },
    {
      "cell_type": "code",
      "source": [
        "data.shape"
      ],
      "metadata": {
        "colab": {
          "base_uri": "https://localhost:8080/"
        },
        "id": "s-U0sL1BMBU8",
        "outputId": "9159ce76-78c1-4725-efaf-7b83fbaa8fe0"
      },
      "execution_count": 4,
      "outputs": [
        {
          "output_type": "execute_result",
          "data": {
            "text/plain": [
              "(6032, 5)"
            ]
          },
          "metadata": {},
          "execution_count": 4
        }
      ]
    },
    {
      "cell_type": "code",
      "source": [
        "data.head()"
      ],
      "metadata": {
        "colab": {
          "base_uri": "https://localhost:8080/",
          "height": 206
        },
        "id": "546Xr1ZSyITZ",
        "outputId": "efa4dd2a-0fe4-47a8-d844-3fb9a7dd23ba"
      },
      "execution_count": 5,
      "outputs": [
        {
          "output_type": "execute_result",
          "data": {
            "text/plain": [
              "   Unnamed: 0 sentiment                                               text  \\\n",
              "0           0  positive  RT @SchudioTv: Want to know more about #autism...   \n",
              "1           1  negative  We blame ourselves and feel worse. Start with ...   \n",
              "2           2  positive  RT @PsychiatristCNS: 130,000 patient years and...   \n",
              "3           3   neutral  RT @SkypeTherapist: See a therapist online ove...   \n",
              "4           4  positive  RT @PsychiatristCNS: 130,000 patient years and...   \n",
              "\n",
              "              user    label  \n",
              "0  beyondbehaviour  anxiety  \n",
              "1         cherie7c  anxiety  \n",
              "2        ThinkNeha  anxiety  \n",
              "3    FrankCoulson7  anxiety  \n",
              "4        Phcourtet  anxiety  "
            ],
            "text/html": [
              "\n",
              "  <div id=\"df-ab4c1d22-95c5-44a3-98d7-5fca85deb32d\">\n",
              "    <div class=\"colab-df-container\">\n",
              "      <div>\n",
              "<style scoped>\n",
              "    .dataframe tbody tr th:only-of-type {\n",
              "        vertical-align: middle;\n",
              "    }\n",
              "\n",
              "    .dataframe tbody tr th {\n",
              "        vertical-align: top;\n",
              "    }\n",
              "\n",
              "    .dataframe thead th {\n",
              "        text-align: right;\n",
              "    }\n",
              "</style>\n",
              "<table border=\"1\" class=\"dataframe\">\n",
              "  <thead>\n",
              "    <tr style=\"text-align: right;\">\n",
              "      <th></th>\n",
              "      <th>Unnamed: 0</th>\n",
              "      <th>sentiment</th>\n",
              "      <th>text</th>\n",
              "      <th>user</th>\n",
              "      <th>label</th>\n",
              "    </tr>\n",
              "  </thead>\n",
              "  <tbody>\n",
              "    <tr>\n",
              "      <th>0</th>\n",
              "      <td>0</td>\n",
              "      <td>positive</td>\n",
              "      <td>RT @SchudioTv: Want to know more about #autism...</td>\n",
              "      <td>beyondbehaviour</td>\n",
              "      <td>anxiety</td>\n",
              "    </tr>\n",
              "    <tr>\n",
              "      <th>1</th>\n",
              "      <td>1</td>\n",
              "      <td>negative</td>\n",
              "      <td>We blame ourselves and feel worse. Start with ...</td>\n",
              "      <td>cherie7c</td>\n",
              "      <td>anxiety</td>\n",
              "    </tr>\n",
              "    <tr>\n",
              "      <th>2</th>\n",
              "      <td>2</td>\n",
              "      <td>positive</td>\n",
              "      <td>RT @PsychiatristCNS: 130,000 patient years and...</td>\n",
              "      <td>ThinkNeha</td>\n",
              "      <td>anxiety</td>\n",
              "    </tr>\n",
              "    <tr>\n",
              "      <th>3</th>\n",
              "      <td>3</td>\n",
              "      <td>neutral</td>\n",
              "      <td>RT @SkypeTherapist: See a therapist online ove...</td>\n",
              "      <td>FrankCoulson7</td>\n",
              "      <td>anxiety</td>\n",
              "    </tr>\n",
              "    <tr>\n",
              "      <th>4</th>\n",
              "      <td>4</td>\n",
              "      <td>positive</td>\n",
              "      <td>RT @PsychiatristCNS: 130,000 patient years and...</td>\n",
              "      <td>Phcourtet</td>\n",
              "      <td>anxiety</td>\n",
              "    </tr>\n",
              "  </tbody>\n",
              "</table>\n",
              "</div>\n",
              "      <button class=\"colab-df-convert\" onclick=\"convertToInteractive('df-ab4c1d22-95c5-44a3-98d7-5fca85deb32d')\"\n",
              "              title=\"Convert this dataframe to an interactive table.\"\n",
              "              style=\"display:none;\">\n",
              "        \n",
              "  <svg xmlns=\"http://www.w3.org/2000/svg\" height=\"24px\"viewBox=\"0 0 24 24\"\n",
              "       width=\"24px\">\n",
              "    <path d=\"M0 0h24v24H0V0z\" fill=\"none\"/>\n",
              "    <path d=\"M18.56 5.44l.94 2.06.94-2.06 2.06-.94-2.06-.94-.94-2.06-.94 2.06-2.06.94zm-11 1L8.5 8.5l.94-2.06 2.06-.94-2.06-.94L8.5 2.5l-.94 2.06-2.06.94zm10 10l.94 2.06.94-2.06 2.06-.94-2.06-.94-.94-2.06-.94 2.06-2.06.94z\"/><path d=\"M17.41 7.96l-1.37-1.37c-.4-.4-.92-.59-1.43-.59-.52 0-1.04.2-1.43.59L10.3 9.45l-7.72 7.72c-.78.78-.78 2.05 0 2.83L4 21.41c.39.39.9.59 1.41.59.51 0 1.02-.2 1.41-.59l7.78-7.78 2.81-2.81c.8-.78.8-2.07 0-2.86zM5.41 20L4 18.59l7.72-7.72 1.47 1.35L5.41 20z\"/>\n",
              "  </svg>\n",
              "      </button>\n",
              "      \n",
              "  <style>\n",
              "    .colab-df-container {\n",
              "      display:flex;\n",
              "      flex-wrap:wrap;\n",
              "      gap: 12px;\n",
              "    }\n",
              "\n",
              "    .colab-df-convert {\n",
              "      background-color: #E8F0FE;\n",
              "      border: none;\n",
              "      border-radius: 50%;\n",
              "      cursor: pointer;\n",
              "      display: none;\n",
              "      fill: #1967D2;\n",
              "      height: 32px;\n",
              "      padding: 0 0 0 0;\n",
              "      width: 32px;\n",
              "    }\n",
              "\n",
              "    .colab-df-convert:hover {\n",
              "      background-color: #E2EBFA;\n",
              "      box-shadow: 0px 1px 2px rgba(60, 64, 67, 0.3), 0px 1px 3px 1px rgba(60, 64, 67, 0.15);\n",
              "      fill: #174EA6;\n",
              "    }\n",
              "\n",
              "    [theme=dark] .colab-df-convert {\n",
              "      background-color: #3B4455;\n",
              "      fill: #D2E3FC;\n",
              "    }\n",
              "\n",
              "    [theme=dark] .colab-df-convert:hover {\n",
              "      background-color: #434B5C;\n",
              "      box-shadow: 0px 1px 3px 1px rgba(0, 0, 0, 0.15);\n",
              "      filter: drop-shadow(0px 1px 2px rgba(0, 0, 0, 0.3));\n",
              "      fill: #FFFFFF;\n",
              "    }\n",
              "  </style>\n",
              "\n",
              "      <script>\n",
              "        const buttonEl =\n",
              "          document.querySelector('#df-ab4c1d22-95c5-44a3-98d7-5fca85deb32d button.colab-df-convert');\n",
              "        buttonEl.style.display =\n",
              "          google.colab.kernel.accessAllowed ? 'block' : 'none';\n",
              "\n",
              "        async function convertToInteractive(key) {\n",
              "          const element = document.querySelector('#df-ab4c1d22-95c5-44a3-98d7-5fca85deb32d');\n",
              "          const dataTable =\n",
              "            await google.colab.kernel.invokeFunction('convertToInteractive',\n",
              "                                                     [key], {});\n",
              "          if (!dataTable) return;\n",
              "\n",
              "          const docLinkHtml = 'Like what you see? Visit the ' +\n",
              "            '<a target=\"_blank\" href=https://colab.research.google.com/notebooks/data_table.ipynb>data table notebook</a>'\n",
              "            + ' to learn more about interactive tables.';\n",
              "          element.innerHTML = '';\n",
              "          dataTable['output_type'] = 'display_data';\n",
              "          await google.colab.output.renderOutput(dataTable, element);\n",
              "          const docLink = document.createElement('div');\n",
              "          docLink.innerHTML = docLinkHtml;\n",
              "          element.appendChild(docLink);\n",
              "        }\n",
              "      </script>\n",
              "    </div>\n",
              "  </div>\n",
              "  "
            ]
          },
          "metadata": {},
          "execution_count": 5
        }
      ]
    },
    {
      "cell_type": "code",
      "source": [
        "data.isna().sum()"
      ],
      "metadata": {
        "colab": {
          "base_uri": "https://localhost:8080/"
        },
        "id": "2ZAAvxvhMf3u",
        "outputId": "aeedfd1d-ac48-4663-9687-21f9fa41e4f6"
      },
      "execution_count": 6,
      "outputs": [
        {
          "output_type": "execute_result",
          "data": {
            "text/plain": [
              "Unnamed: 0    0\n",
              "sentiment     0\n",
              "text          0\n",
              "user          0\n",
              "label         0\n",
              "dtype: int64"
            ]
          },
          "metadata": {},
          "execution_count": 6
        }
      ]
    },
    {
      "cell_type": "code",
      "source": [
        "data.columns"
      ],
      "metadata": {
        "colab": {
          "base_uri": "https://localhost:8080/"
        },
        "id": "diVglgLMMpfC",
        "outputId": "e2dad288-18b4-4bf7-98d0-75f805d91859"
      },
      "execution_count": 7,
      "outputs": [
        {
          "output_type": "execute_result",
          "data": {
            "text/plain": [
              "Index(['Unnamed: 0', 'sentiment', 'text', 'user', 'label'], dtype='object')"
            ]
          },
          "metadata": {},
          "execution_count": 7
        }
      ]
    },
    {
      "cell_type": "code",
      "source": [
        "data.drop(['Unnamed: 0','user'],axis=1,inplace=True)"
      ],
      "metadata": {
        "id": "_jXoHEupyT-F"
      },
      "execution_count": 8,
      "outputs": []
    },
    {
      "cell_type": "code",
      "source": [
        "data.head()"
      ],
      "metadata": {
        "colab": {
          "base_uri": "https://localhost:8080/",
          "height": 206
        },
        "id": "TpqklvqQyalO",
        "outputId": "f83550f7-37ab-444d-b52e-62c43080ba3d"
      },
      "execution_count": 9,
      "outputs": [
        {
          "output_type": "execute_result",
          "data": {
            "text/plain": [
              "  sentiment                                               text    label\n",
              "0  positive  RT @SchudioTv: Want to know more about #autism...  anxiety\n",
              "1  negative  We blame ourselves and feel worse. Start with ...  anxiety\n",
              "2  positive  RT @PsychiatristCNS: 130,000 patient years and...  anxiety\n",
              "3   neutral  RT @SkypeTherapist: See a therapist online ove...  anxiety\n",
              "4  positive  RT @PsychiatristCNS: 130,000 patient years and...  anxiety"
            ],
            "text/html": [
              "\n",
              "  <div id=\"df-eb31df76-721d-488b-beb2-b7e554c079a5\">\n",
              "    <div class=\"colab-df-container\">\n",
              "      <div>\n",
              "<style scoped>\n",
              "    .dataframe tbody tr th:only-of-type {\n",
              "        vertical-align: middle;\n",
              "    }\n",
              "\n",
              "    .dataframe tbody tr th {\n",
              "        vertical-align: top;\n",
              "    }\n",
              "\n",
              "    .dataframe thead th {\n",
              "        text-align: right;\n",
              "    }\n",
              "</style>\n",
              "<table border=\"1\" class=\"dataframe\">\n",
              "  <thead>\n",
              "    <tr style=\"text-align: right;\">\n",
              "      <th></th>\n",
              "      <th>sentiment</th>\n",
              "      <th>text</th>\n",
              "      <th>label</th>\n",
              "    </tr>\n",
              "  </thead>\n",
              "  <tbody>\n",
              "    <tr>\n",
              "      <th>0</th>\n",
              "      <td>positive</td>\n",
              "      <td>RT @SchudioTv: Want to know more about #autism...</td>\n",
              "      <td>anxiety</td>\n",
              "    </tr>\n",
              "    <tr>\n",
              "      <th>1</th>\n",
              "      <td>negative</td>\n",
              "      <td>We blame ourselves and feel worse. Start with ...</td>\n",
              "      <td>anxiety</td>\n",
              "    </tr>\n",
              "    <tr>\n",
              "      <th>2</th>\n",
              "      <td>positive</td>\n",
              "      <td>RT @PsychiatristCNS: 130,000 patient years and...</td>\n",
              "      <td>anxiety</td>\n",
              "    </tr>\n",
              "    <tr>\n",
              "      <th>3</th>\n",
              "      <td>neutral</td>\n",
              "      <td>RT @SkypeTherapist: See a therapist online ove...</td>\n",
              "      <td>anxiety</td>\n",
              "    </tr>\n",
              "    <tr>\n",
              "      <th>4</th>\n",
              "      <td>positive</td>\n",
              "      <td>RT @PsychiatristCNS: 130,000 patient years and...</td>\n",
              "      <td>anxiety</td>\n",
              "    </tr>\n",
              "  </tbody>\n",
              "</table>\n",
              "</div>\n",
              "      <button class=\"colab-df-convert\" onclick=\"convertToInteractive('df-eb31df76-721d-488b-beb2-b7e554c079a5')\"\n",
              "              title=\"Convert this dataframe to an interactive table.\"\n",
              "              style=\"display:none;\">\n",
              "        \n",
              "  <svg xmlns=\"http://www.w3.org/2000/svg\" height=\"24px\"viewBox=\"0 0 24 24\"\n",
              "       width=\"24px\">\n",
              "    <path d=\"M0 0h24v24H0V0z\" fill=\"none\"/>\n",
              "    <path d=\"M18.56 5.44l.94 2.06.94-2.06 2.06-.94-2.06-.94-.94-2.06-.94 2.06-2.06.94zm-11 1L8.5 8.5l.94-2.06 2.06-.94-2.06-.94L8.5 2.5l-.94 2.06-2.06.94zm10 10l.94 2.06.94-2.06 2.06-.94-2.06-.94-.94-2.06-.94 2.06-2.06.94z\"/><path d=\"M17.41 7.96l-1.37-1.37c-.4-.4-.92-.59-1.43-.59-.52 0-1.04.2-1.43.59L10.3 9.45l-7.72 7.72c-.78.78-.78 2.05 0 2.83L4 21.41c.39.39.9.59 1.41.59.51 0 1.02-.2 1.41-.59l7.78-7.78 2.81-2.81c.8-.78.8-2.07 0-2.86zM5.41 20L4 18.59l7.72-7.72 1.47 1.35L5.41 20z\"/>\n",
              "  </svg>\n",
              "      </button>\n",
              "      \n",
              "  <style>\n",
              "    .colab-df-container {\n",
              "      display:flex;\n",
              "      flex-wrap:wrap;\n",
              "      gap: 12px;\n",
              "    }\n",
              "\n",
              "    .colab-df-convert {\n",
              "      background-color: #E8F0FE;\n",
              "      border: none;\n",
              "      border-radius: 50%;\n",
              "      cursor: pointer;\n",
              "      display: none;\n",
              "      fill: #1967D2;\n",
              "      height: 32px;\n",
              "      padding: 0 0 0 0;\n",
              "      width: 32px;\n",
              "    }\n",
              "\n",
              "    .colab-df-convert:hover {\n",
              "      background-color: #E2EBFA;\n",
              "      box-shadow: 0px 1px 2px rgba(60, 64, 67, 0.3), 0px 1px 3px 1px rgba(60, 64, 67, 0.15);\n",
              "      fill: #174EA6;\n",
              "    }\n",
              "\n",
              "    [theme=dark] .colab-df-convert {\n",
              "      background-color: #3B4455;\n",
              "      fill: #D2E3FC;\n",
              "    }\n",
              "\n",
              "    [theme=dark] .colab-df-convert:hover {\n",
              "      background-color: #434B5C;\n",
              "      box-shadow: 0px 1px 3px 1px rgba(0, 0, 0, 0.15);\n",
              "      filter: drop-shadow(0px 1px 2px rgba(0, 0, 0, 0.3));\n",
              "      fill: #FFFFFF;\n",
              "    }\n",
              "  </style>\n",
              "\n",
              "      <script>\n",
              "        const buttonEl =\n",
              "          document.querySelector('#df-eb31df76-721d-488b-beb2-b7e554c079a5 button.colab-df-convert');\n",
              "        buttonEl.style.display =\n",
              "          google.colab.kernel.accessAllowed ? 'block' : 'none';\n",
              "\n",
              "        async function convertToInteractive(key) {\n",
              "          const element = document.querySelector('#df-eb31df76-721d-488b-beb2-b7e554c079a5');\n",
              "          const dataTable =\n",
              "            await google.colab.kernel.invokeFunction('convertToInteractive',\n",
              "                                                     [key], {});\n",
              "          if (!dataTable) return;\n",
              "\n",
              "          const docLinkHtml = 'Like what you see? Visit the ' +\n",
              "            '<a target=\"_blank\" href=https://colab.research.google.com/notebooks/data_table.ipynb>data table notebook</a>'\n",
              "            + ' to learn more about interactive tables.';\n",
              "          element.innerHTML = '';\n",
              "          dataTable['output_type'] = 'display_data';\n",
              "          await google.colab.output.renderOutput(dataTable, element);\n",
              "          const docLink = document.createElement('div');\n",
              "          docLink.innerHTML = docLinkHtml;\n",
              "          element.appendChild(docLink);\n",
              "        }\n",
              "      </script>\n",
              "    </div>\n",
              "  </div>\n",
              "  "
            ]
          },
          "metadata": {},
          "execution_count": 9
        }
      ]
    },
    {
      "cell_type": "code",
      "source": [
        "set(data['label']) # 4 unique emotions "
      ],
      "metadata": {
        "colab": {
          "base_uri": "https://localhost:8080/"
        },
        "id": "2aeWZtNzycV6",
        "outputId": "dd698d97-bbfb-415b-895b-1dfa56982ccf"
      },
      "execution_count": 10,
      "outputs": [
        {
          "output_type": "execute_result",
          "data": {
            "text/plain": [
              "{'anxiety', 'depression', 'happy', 'stress'}"
            ]
          },
          "metadata": {},
          "execution_count": 10
        }
      ]
    },
    {
      "cell_type": "code",
      "source": [
        "sns.countplot(x='label',data=data)"
      ],
      "metadata": {
        "colab": {
          "base_uri": "https://localhost:8080/",
          "height": 297
        },
        "id": "GihZKypyzBar",
        "outputId": "da2b29da-9b18-4218-c5fa-7b43a0446c77"
      },
      "execution_count": 11,
      "outputs": [
        {
          "output_type": "execute_result",
          "data": {
            "text/plain": [
              "<matplotlib.axes._subplots.AxesSubplot at 0x7fe9c7517fd0>"
            ]
          },
          "metadata": {},
          "execution_count": 11
        },
        {
          "output_type": "display_data",
          "data": {
            "text/plain": [
              "<Figure size 432x288 with 1 Axes>"
            ],
            "image/png": "[encoded data removed]"
          },
          "metadata": {
            "needs_background": "light"
          }
        }
      ]
    },
    {
      "cell_type": "markdown",
      "source": [
        "## Data Preprocessing"
      ],
      "metadata": {
        "id": "pJog0K7EK0f2"
      }
    },
    {
      "cell_type": "code",
      "source": [
        "def clean_text(x):\n",
        "  x = x.lower()\n",
        "  x = ' '.join([word for word in x.split(' ') if word not in stop_words])\n",
        "  x = x.encode('ascii', 'ignore').decode()\n",
        "  x = re.sub(r'https*\\S+', ' ', x)\n",
        "  x = re.sub(r'@\\S+', ' ', x)\n",
        "  x = re.sub(r'#\\S+', ' ', x)\n",
        "  x = re.sub(r'\\'\\w+', '', x)\n",
        "  x = re.sub('[%s]' % re.escape(string.punctuation), ' ', x)\n",
        "  x = re.sub(r'\\w*\\d+\\w*', '', x)\n",
        "  x = re.sub(r'\\s{2,}', ' ', x)\n",
        "  x = re.sub('rt','',x)\n",
        "  return x"
      ],
      "metadata": {
        "id": "xzBeg0N7ufRD"
      },
      "execution_count": 12,
      "outputs": []
    },
    {
      "cell_type": "code",
      "source": [
        "data['text'] = data['text'].apply(clean_text)"
      ],
      "metadata": {
        "id": "teHPnGjZwkM9"
      },
      "execution_count": 13,
      "outputs": []
    },
    {
      "cell_type": "code",
      "source": [
        "data['text'][0]"
      ],
      "metadata": {
        "colab": {
          "base_uri": "https://localhost:8080/",
          "height": 36
        },
        "id": "xon0WblFyrZ-",
        "outputId": "c795e21d-8fed-4aa5-b161-4078ba07a411"
      },
      "execution_count": 14,
      "outputs": [
        {
          "output_type": "execute_result",
          "data": {
            "text/plain": [
              "' want know watch sho clip below n nclick enrol '"
            ],
            "application/vnd.google.colaboratory.intrinsic+json": {
              "type": "string"
            }
          },
          "metadata": {},
          "execution_count": 14
        }
      ]
    },
    {
      "cell_type": "code",
      "source": [
        "texts = data['text']\n",
        "print(texts.shape)\n",
        "labels = data['label']\n",
        "print(labels.shape)"
      ],
      "metadata": {
        "colab": {
          "base_uri": "https://localhost:8080/"
        },
        "id": "dzBgupHXMmr2",
        "outputId": "4be25962-4dc5-472b-ebe0-8656d41c8f63"
      },
      "execution_count": 15,
      "outputs": [
        {
          "output_type": "stream",
          "name": "stdout",
          "text": [
            "(6032,)\n",
            "(6032,)\n"
          ]
        }
      ]
    },
    {
      "cell_type": "code",
      "source": [
        "train_texts,test_texts,train_labels,test_labels = train_test_split(texts,labels)"
      ],
      "metadata": {
        "id": "1d19dWDaNGYA"
      },
      "execution_count": 16,
      "outputs": []
    },
    {
      "cell_type": "code",
      "source": [
        "print(train_texts.shape)\n",
        "print(test_texts.shape)\n",
        "print(train_labels.shape)\n",
        "print(test_labels.shape)\n"
      ],
      "metadata": {
        "colab": {
          "base_uri": "https://localhost:8080/"
        },
        "id": "-kAII58fNSHy",
        "outputId": "91c19bb7-bdfc-4765-818f-ffbe95867ee6"
      },
      "execution_count": 17,
      "outputs": [
        {
          "output_type": "stream",
          "name": "stdout",
          "text": [
            "(4524,)\n",
            "(1508,)\n",
            "(4524,)\n",
            "(1508,)\n"
          ]
        }
      ]
    },
    {
      "cell_type": "markdown",
      "source": [
        "#### Label Encoding"
      ],
      "metadata": {
        "id": "SM1XAs2Uz1Uz"
      }
    },
    {
      "cell_type": "code",
      "source": [
        "from sklearn.preprocessing import LabelEncoder\n",
        "encoder =LabelEncoder()"
      ],
      "metadata": {
        "id": "hVuvo4A4z7BM"
      },
      "execution_count": 18,
      "outputs": []
    },
    {
      "cell_type": "code",
      "source": [
        "train_labels= encoder.fit_transform(train_labels)\n",
        "test_labels = encoder.transform(test_labels)"
      ],
      "metadata": {
        "id": "IJUfPVKJ0HYq"
      },
      "execution_count": 19,
      "outputs": []
    },
    {
      "cell_type": "code",
      "source": [
        "sns.countplot(x=train_labels)"
      ],
      "metadata": {
        "colab": {
          "base_uri": "https://localhost:8080/",
          "height": 283
        },
        "id": "0O5Gg_sp0hpa",
        "outputId": "a84ca1f2-7539-4f6f-d176-7553ec2d2470"
      },
      "execution_count": 20,
      "outputs": [
        {
          "output_type": "execute_result",
          "data": {
            "text/plain": [
              "<matplotlib.axes._subplots.AxesSubplot at 0x7fe9bd921350>"
            ]
          },
          "metadata": {},
          "execution_count": 20
        },
        {
          "output_type": "display_data",
          "data": {
            "text/plain": [
              "<Figure size 432x288 with 1 Axes>"
            ],
            "image/png": "[encoded data removed]"
          },
          "metadata": {
            "needs_background": "light"
          }
        }
      ]
    },
    {
      "cell_type": "code",
      "source": [
        "tokenizer = Tokenizer()\n",
        "tokenizer.fit_on_texts(train_texts)\n",
        "\n",
        "train_sequences = tokenizer.texts_to_sequences(train_texts)\n",
        "test_sequences = tokenizer.texts_to_sequences(test_texts)"
      ],
      "metadata": {
        "id": "WDNpmoBew_kK"
      },
      "execution_count": 21,
      "outputs": []
    },
    {
      "cell_type": "code",
      "source": [
        "class PMIModel(object):\n",
        "\n",
        "    def __init__(self):\n",
        "        self.word_counter = None\n",
        "        self.pair_counter = None\n",
        "\n",
        "    def get_pair_id(self, word0, word1):\n",
        "        pair_id = tuple(sorted([word0, word1]))\n",
        "        return pair_id\n",
        "\n",
        "    def fit(self, sequences, window_size):\n",
        "\n",
        "        self.word_counter = Counter()\n",
        "        self.pair_counter = Counter()\n",
        "        num_windows = 0\n",
        "        for sequence in tqdm(sequences):\n",
        "            for offset in range(len(sequence) - window_size):\n",
        "                window = sequence[offset:offset + window_size]\n",
        "                num_windows += 1\n",
        "                for i, word0 in enumerate(window):\n",
        "                    self.word_counter[word0] += 1\n",
        "                    for j, word1 in enumerate(window[i + 1:]):\n",
        "                        pair_id = self.get_pair_id(word0, word1)\n",
        "                        self.pair_counter[pair_id] += 1\n",
        "\n",
        "        for word, count in self.word_counter.items():\n",
        "            self.word_counter[word] = count / num_windows\n",
        "        for pair_id, count in self.pair_counter.items():\n",
        "            self.pair_counter[pair_id] = count / num_windows\n",
        "\n",
        "    def transform(self, word0, word1):\n",
        "        prob_a = self.word_counter[word0]\n",
        "        prob_b = self.word_counter[word1]\n",
        "        pair_id = self.get_pair_id(word0, word1)\n",
        "        prob_pair = self.pair_counter[pair_id]\n",
        "\n",
        "        if prob_a == 0 or prob_b == 0 or prob_pair == 0:\n",
        "           return 0\n",
        "\n",
        "        pmi = np.log(prob_pair / (prob_a * prob_b))\n",
        "        # print(word0, word1, pmi)\n",
        "        pmi = np.maximum(pmi, 0.0)\n",
        "        # print(pmi)\n",
        "        return pmi"
      ],
      "metadata": {
        "id": "JwYNvLtkxEjV"
      },
      "execution_count": 22,
      "outputs": []
    },
    {
      "cell_type": "code",
      "source": [
        "def build_word_graph(num_words, pmi_model, embedding_size):\n",
        "    x = tf.Variable(tf.random.truncated_normal([num_words, embedding_size], stddev=1 / np.sqrt(embedding_size)),\n",
        "                    dtype=tf.float32)\n",
        "    edges = []\n",
        "    edge_weight = []\n",
        "    for (word0, word1) in pmi_model.pair_counter.keys():\n",
        "        pmi = pmi_model.transform(word0, word1)\n",
        "        if pmi > 0:\n",
        "            edges.append([word0, word1])\n",
        "            edge_weight.append(pmi)\n",
        "            edges.append([word1, word0])\n",
        "            edge_weight.append(pmi)\n",
        "    edge_index = np.array(edges).T\n",
        "    return tfg.Graph(x=x, edge_index=edge_index, edge_weight=edge_weight)"
      ],
      "metadata": {
        "id": "2vRdqgoTxMTn"
      },
      "execution_count": 23,
      "outputs": []
    },
    {
      "cell_type": "code",
      "source": [
        "def build_combined_graph(word_graph, sequences, embedding_size):\n",
        "    num_words = word_graph.num_nodes\n",
        "    x = tf.zeros([len(sequences), embedding_size], dtype=tf.float32)\n",
        "    edges = []\n",
        "    edge_weight = []\n",
        "    for i, sequence in enumerate(sequences):\n",
        "        doc_node_index = num_words + i\n",
        "        for word in sequence:\n",
        "            edges.append([doc_node_index, word])  # only directed edge\n",
        "            edge_weight.append(1.0)  # use BOW instaead of TF-IDF\n",
        "\n",
        "    edge_index = np.array(edges).T\n",
        "    x = tf.concat([word_graph.x, x], axis=0)\n",
        "    edge_index = np.concatenate([word_graph.edge_index, edge_index], axis=1)\n",
        "    edge_weight = np.concatenate([word_graph.edge_weight, edge_weight], axis=0)\n",
        "    return tfg.Graph(x=x, edge_index=edge_index, edge_weight=edge_weight)"
      ],
      "metadata": {
        "id": "UEfvLkGXxP6Z"
      },
      "execution_count": 24,
      "outputs": []
    },
    {
      "cell_type": "code",
      "source": [
        "pmi_cache_path = \"cached_pmi_model.p\"\n",
        "if os.path.exists(pmi_cache_path):\n",
        "    with open(pmi_cache_path, \"rb\") as f:\n",
        "        pmi_model = pickle.load(f)\n",
        "else:\n",
        "    pmi_model = PMIModel()\n",
        "    pmi_model.fit(train_sequences, window_size=6)\n",
        "    with open(pmi_cache_path, \"wb\") as f:\n",
        "        pickle.dump(pmi_model, f)\n",
        "\n",
        "embedding_size = 150\n",
        "num_words = len(tokenizer.word_index) + 1\n",
        "word_graph = build_word_graph(num_words, pmi_model, embedding_size)\n",
        "train_combined_graph = build_combined_graph(word_graph, train_sequences, embedding_size)\n",
        "test_combined_graph = build_combined_graph(word_graph, test_sequences, embedding_size)\n",
        "\n",
        "print(word_graph)\n",
        "print(train_combined_graph)\n",
        "print(test_combined_graph)\n",
        "\n",
        "num_classes =4"
      ],
      "metadata": {
        "colab": {
          "base_uri": "https://localhost:8080/"
        },
        "id": "_fIc6lSbxRiD",
        "outputId": "8a214d64-7981-4dae-f0b6-0f02e86fa564"
      },
      "execution_count": 25,
      "outputs": [
        {
          "output_type": "stream",
          "name": "stdout",
          "text": [
            "Graph Shape: x => (6300, 150)\tedge_index => (2, 75644)\ty => None\n",
            "Graph Shape: x => (10824, 150)\tedge_index => (2, 110593)\ty => None\n",
            "Graph Shape: x => (7808, 150)\tedge_index => (2, 86206)\ty => None\n"
          ]
        }
      ]
    },
    {
      "cell_type": "code",
      "source": [
        "class GCNModel(tf.keras.Model):\n",
        "\n",
        "    def __init__(self, *args, **kwargs):\n",
        "        super().__init__(*args, **kwargs)\n",
        "        self.gcn0 = tfg.layers.GCN(150, activation=tf.nn.relu)\n",
        "        self.gcn1 = tfg.layers.GCN(100, activation=tf.nn.relu)\n",
        "        self.gcn2 = tfg.layers.GCN(50, activation=tf.nn.relu)\n",
        "        self.gcn3 = tfg.layers.GCN(num_classes)\n",
        "        self.dropout = keras.layers.Dropout(0.5)\n",
        "\n",
        "    def call(self, inputs, training=None, mask=None, cache=None):\n",
        "        x, edge_index, edge_weight = inputs\n",
        "        h = self.gcn0([x, edge_index, edge_weight], cache=cache)\n",
        "        h = self.gcn1([h, edge_index, edge_weight], cache=cache)\n",
        "        h = self.dropout(h, training=training)\n",
        "        h = self.gcn2([h, edge_index, edge_weight], cache=cache)\n",
        "        h = self.gcn3([h, edge_index, edge_weight], cache=cache)\n",
        "        return h"
      ],
      "metadata": {
        "id": "5Exhk4q3xXDk"
      },
      "execution_count": 26,
      "outputs": []
    },
    {
      "cell_type": "code",
      "source": [
        "model = GCNModel()\n",
        "model.gcn0.cache_normed_edge(train_combined_graph)\n",
        "model.gcn0.cache_normed_edge(test_combined_graph)"
      ],
      "metadata": {
        "colab": {
          "base_uri": "https://localhost:8080/"
        },
        "id": "yWHfw_AFxqFK",
        "outputId": "5ae2d580-8ddb-4856-e806-3cc2a71927e6"
      },
      "execution_count": 27,
      "outputs": [
        {
          "output_type": "stream",
          "name": "stderr",
          "text": [
            "/usr/local/lib/python3.7/dist-packages/tf_geometric/layers/conv/gcn.py:79: DeprecationWarning: 'GCN.cache_normed_edge(graph, override)' is deprecated, use 'GCN.build_cache_for_graph(graph, override)' instead\n",
            "  warnings.warn(\"'GCN.cache_normed_edge(graph, override)' is deprecated, use 'GCN.build_cache_for_graph(graph, override)' instead\", DeprecationWarning)\n",
            "/usr/local/lib/python3.7/dist-packages/tf_geometric/layers/conv/gcn.py:79: DeprecationWarning: 'GCN.cache_normed_edge(graph, override)' is deprecated, use 'GCN.build_cache_for_graph(graph, override)' instead\n",
            "  warnings.warn(\"'GCN.cache_normed_edge(graph, override)' is deprecated, use 'GCN.build_cache_for_graph(graph, override)' instead\", DeprecationWarning)\n"
          ]
        }
      ]
    },
    {
      "cell_type": "code",
      "source": [
        "@tf_utils.function\n",
        "def forward(graph, training=False):\n",
        "    logits = model([graph.x, graph.edge_index, graph.edge_weight], cache=graph.cache, training=training)\n",
        "    logits = logits[num_words:]\n",
        "    return logits"
      ],
      "metadata": {
        "id": "K4rY7fvZxtLb"
      },
      "execution_count": 28,
      "outputs": []
    },
    {
      "cell_type": "code",
      "source": [
        "def compute_loss(logits, labels):\n",
        "    losses = tf.nn.softmax_cross_entropy_with_logits(\n",
        "        logits=logits,\n",
        "        labels=tf.one_hot(labels,depth=num_classes)\n",
        "    )\n",
        "    mean_loss = tf.reduce_mean(losses)\n",
        "    return mean_loss"
      ],
      "metadata": {
        "id": "Bn1E6l5oxvO4"
      },
      "execution_count": 29,
      "outputs": []
    },
    {
      "cell_type": "code",
      "source": [
        "optimizer = tf.keras.optimizers.Adam(learning_rate=0.05)"
      ],
      "metadata": {
        "id": "tdMHK5bexxHD"
      },
      "execution_count": 30,
      "outputs": []
    },
    {
      "cell_type": "code",
      "source": [
        "train_losses, train_accs, test_losses, test_accs= [],[],[],[]\n",
        "for step in range(5000):\n",
        "    with tf.GradientTape() as tape:\n",
        "        logits = forward(train_combined_graph, training=True)\n",
        "        # print(\"logits\" ,logits[0],\"Shape\",logits[0].shape)\n",
        "        mean_loss = compute_loss(logits, train_labels)\n",
        "\n",
        "    vars = tape.watched_variables()\n",
        "    grads = tape.gradient(mean_loss, vars)\n",
        "    optimizer.apply_gradients(zip(grads, vars))\n",
        "\n",
        "    if step == 2500:\n",
        "      optimizer = tf.keras.optimizers.Adam(learning_rate=0.01)\n",
        "    if step % 10 == 0:\n",
        "        # train accuracytf.one_hot(labels, depth=num_classes)\n",
        "        preds = tf.argmax(logits, axis=-1)\n",
        "        corrects = tf.cast(tf.equal(preds, train_labels), tf.float32)\n",
        "        train_accuracy = tf.reduce_mean(corrects)\n",
        "        train_accs.append(train_accuracy)\n",
        "        train_losses.append(mean_loss)\n",
        "\n",
        "        logits = forward(test_combined_graph)\n",
        "        test_loss = compute_loss(logits, test_labels)\n",
        "        preds = tf.argmax(logits, axis=-1)\n",
        "        corrects = tf.cast(tf.equal(preds, test_labels), tf.float32)\n",
        "        accuracy = tf.reduce_mean(corrects)\n",
        "        test_accs.append(accuracy)\n",
        "        test_losses.append(test_loss)\n",
        "        print(\"step = {}\\tloss = {}\\ttrain_accuracy = {}\\ttest_accuracy = {}\".format(step, mean_loss, train_accuracy,accuracy))"
      ],
      "metadata": {
        "colab": {
          "base_uri": "https://localhost:8080/"
        },
        "id": "Y9aRgLo1x0Hz",
        "outputId": "5713fc7a-b9ed-488e-9406-f8f907bb39ed"
      },
      "execution_count": 31,
      "outputs": [
        {
          "output_type": "stream",
          "name": "stdout",
          "text": [
            "step = 0\tloss = 1.3863043785095215\ttrain_accuracy = 0.21198055148124695\ttest_accuracy = 0.44628646969795227\n",
            "step = 10\tloss = 1.2431919574737549\ttrain_accuracy = 0.4648541212081909\ttest_accuracy = 0.45888593792915344\n",
            "step = 20\tloss = 1.1678438186645508\ttrain_accuracy = 0.5037577152252197\ttest_accuracy = 0.4913793206214905\n",
            "step = 30\tloss = 1.1101118326187134\ttrain_accuracy = 0.5163571834564209\ttest_accuracy = 0.5033156275749207\n",
            "step = 40\tloss = 1.067988395690918\ttrain_accuracy = 0.5351458787918091\ttest_accuracy = 0.5072944164276123\n",
            "step = 50\tloss = 1.0161899328231812\ttrain_accuracy = 0.5570291876792908\ttest_accuracy = 0.5165782570838928\n",
            "step = 60\tloss = 0.9914261698722839\ttrain_accuracy = 0.5778072476387024\ttest_accuracy = 0.517241358757019\n",
            "step = 70\tloss = 0.9508288502693176\ttrain_accuracy = 0.5996905565261841\ttest_accuracy = 0.5351458787918091\n",
            "step = 80\tloss = 0.9158511161804199\ttrain_accuracy = 0.6195844411849976\ttest_accuracy = 0.5377984046936035\n",
            "step = 90\tloss = 0.8910614848136902\ttrain_accuracy = 0.6237842440605164\ttest_accuracy = 0.5537135004997253\n",
            "step = 100\tloss = 0.8469393253326416\ttrain_accuracy = 0.6321839094161987\ttest_accuracy = 0.5649867653846741\n",
            "step = 110\tloss = 0.8486326336860657\ttrain_accuracy = 0.6419098377227783\ttest_accuracy = 0.5417771935462952\n",
            "step = 120\tloss = 0.7995134592056274\ttrain_accuracy = 0.6551724076271057\ttest_accuracy = 0.5815649628639221\n",
            "step = 130\tloss = 0.764122486114502\ttrain_accuracy = 0.6781609058380127\ttest_accuracy = 0.6041114330291748\n",
            "step = 140\tloss = 0.7213462591171265\ttrain_accuracy = 0.6843501329421997\ttest_accuracy = 0.5974801182746887\n",
            "step = 150\tloss = 0.7018362879753113\ttrain_accuracy = 0.6940760612487793\ttest_accuracy = 0.6067638993263245\n",
            "step = 160\tloss = 0.7127542495727539\ttrain_accuracy = 0.7022546529769897\ttest_accuracy = 0.616047739982605\n",
            "step = 170\tloss = 0.7587499618530273\ttrain_accuracy = 0.6790450811386108\ttest_accuracy = 0.6147214770317078\n",
            "step = 180\tloss = 0.6584347486495972\ttrain_accuracy = 0.7228116989135742\ttest_accuracy = 0.6319628357887268\n",
            "step = 190\tloss = 0.623537540435791\ttrain_accuracy = 0.7290008664131165\ttest_accuracy = 0.6432361006736755\n",
            "step = 200\tloss = 0.5930144786834717\ttrain_accuracy = 0.7488948106765747\ttest_accuracy = 0.6385941505432129\n",
            "step = 210\tloss = 0.5855299234390259\ttrain_accuracy = 0.7515472769737244\ttest_accuracy = 0.6584880352020264\n",
            "step = 220\tloss = 0.6047627925872803\ttrain_accuracy = 0.738284707069397\ttest_accuracy = 0.6259946823120117\n",
            "step = 230\tloss = 0.645298957824707\ttrain_accuracy = 0.7281166911125183\ttest_accuracy = 0.6591511964797974\n",
            "step = 240\tloss = 0.5979653596878052\ttrain_accuracy = 0.7458001971244812\ttest_accuracy = 0.6651193499565125\n",
            "step = 250\tloss = 0.5640093684196472\ttrain_accuracy = 0.7548629641532898\ttest_accuracy = 0.6379310488700867\n",
            "step = 260\tloss = 0.5747796297073364\ttrain_accuracy = 0.7656940817832947\ttest_accuracy = 0.6525198817253113\n",
            "step = 270\tloss = 0.56209397315979\ttrain_accuracy = 0.7597259283065796\ttest_accuracy = 0.6677718758583069\n",
            "step = 280\tloss = 0.5233637094497681\ttrain_accuracy = 0.7639257311820984\ttest_accuracy = 0.6259946823120117\n",
            "step = 290\tloss = 0.5320625901222229\ttrain_accuracy = 0.7787356376647949\ttest_accuracy = 0.6326259970664978\n",
            "step = 300\tloss = 0.5327871441841125\ttrain_accuracy = 0.7813881635665894\ttest_accuracy = 0.6253315806388855\n",
            "step = 310\tloss = 0.5568612217903137\ttrain_accuracy = 0.7732095718383789\ttest_accuracy = 0.674403190612793\n",
            "step = 320\tloss = 0.7404196262359619\ttrain_accuracy = 0.7548629641532898\ttest_accuracy = 0.6697613000869751\n",
            "step = 330\tloss = 0.5484333634376526\ttrain_accuracy = 0.7665782570838928\ttest_accuracy = 0.6571618318557739\n",
            "step = 340\tloss = 0.5066120624542236\ttrain_accuracy = 0.7886825799942017\ttest_accuracy = 0.6697613000869751\n",
            "step = 350\tloss = 0.49825841188430786\ttrain_accuracy = 0.7957559823989868\ttest_accuracy = 0.6763925552368164\n",
            "step = 360\tloss = 0.48578253388404846\ttrain_accuracy = 0.7981874346733093\ttest_accuracy = 0.6763925552368164\n",
            "step = 370\tloss = 0.45863234996795654\ttrain_accuracy = 0.8010610342025757\ttest_accuracy = 0.673740029335022\n",
            "step = 380\tloss = 0.44231829047203064\ttrain_accuracy = 0.8171971440315247\ttest_accuracy = 0.6956233382225037\n",
            "step = 390\tloss = 0.44534772634506226\ttrain_accuracy = 0.8141025900840759\ttest_accuracy = 0.6876657605171204\n",
            "step = 400\tloss = 0.43310633301734924\ttrain_accuracy = 0.8160919547080994\ttest_accuracy = 0.7022546529769897\n",
            "step = 410\tloss = 0.46260303258895874\ttrain_accuracy = 0.8087975382804871\ttest_accuracy = 0.7049071788787842\n",
            "step = 420\tloss = 0.4353606104850769\ttrain_accuracy = 0.820070743560791\ttest_accuracy = 0.6962864995002747\n",
            "step = 430\tloss = 0.49304744601249695\ttrain_accuracy = 0.8129973411560059\ttest_accuracy = 0.7049071788787842\n",
            "step = 440\tloss = 0.5595542192459106\ttrain_accuracy = 0.789787769317627\ttest_accuracy = 0.6783819794654846\n",
            "step = 450\tloss = 0.4712320864200592\ttrain_accuracy = 0.807692289352417\ttest_accuracy = 0.703580915927887\n",
            "step = 460\tloss = 0.49265193939208984\ttrain_accuracy = 0.8028293251991272\ttest_accuracy = 0.7042440176010132\n",
            "step = 470\tloss = 0.5129684805870056\ttrain_accuracy = 0.7911140322685242\ttest_accuracy = 0.702917754650116\n",
            "step = 480\tloss = 0.4477211534976959\ttrain_accuracy = 0.8116710782051086\ttest_accuracy = 0.7022546529769897\n",
            "step = 490\tloss = 0.4800013601779938\ttrain_accuracy = 0.7984085083007812\ttest_accuracy = 0.6996021270751953\n",
            "step = 500\tloss = 0.4730125963687897\ttrain_accuracy = 0.8072502017021179\ttest_accuracy = 0.6889920234680176\n",
            "step = 510\tloss = 0.45939910411834717\ttrain_accuracy = 0.8107869029045105\ttest_accuracy = 0.7049071788787842\n",
            "step = 520\tloss = 0.5029807686805725\ttrain_accuracy = 0.7999557852745056\ttest_accuracy = 0.6962864995002747\n",
            "step = 530\tloss = 0.4553387761116028\ttrain_accuracy = 0.8125552535057068\ttest_accuracy = 0.702917754650116\n",
            "step = 540\tloss = 0.531424880027771\ttrain_accuracy = 0.8028293251991272\ttest_accuracy = 0.7175066471099854\n",
            "step = 550\tloss = 0.447386234998703\ttrain_accuracy = 0.814544677734375\ttest_accuracy = 0.7015914916992188\n",
            "step = 560\tloss = 0.4155817925930023\ttrain_accuracy = 0.8229442834854126\ttest_accuracy = 0.7181697487831116\n",
            "step = 570\tloss = 0.3998234272003174\ttrain_accuracy = 0.8373121023178101\ttest_accuracy = 0.7161803841590881\n",
            "step = 580\tloss = 0.39785343408584595\ttrain_accuracy = 0.831786036491394\ttest_accuracy = 0.7141909599304199\n",
            "step = 590\tloss = 0.440898060798645\ttrain_accuracy = 0.8304597735404968\ttest_accuracy = 0.7135278582572937\n",
            "step = 600\tloss = 0.40670961141586304\ttrain_accuracy = 0.8326702117919922\ttest_accuracy = 0.7241379022598267\n",
            "step = 610\tloss = 0.3961009085178375\ttrain_accuracy = 0.8370910882949829\ttest_accuracy = 0.7175066471099854\n",
            "step = 620\tloss = 0.44655197858810425\ttrain_accuracy = 0.8348806500434875\ttest_accuracy = 0.7267904281616211\n",
            "step = 630\tloss = 0.38505515456199646\ttrain_accuracy = 0.8439434170722961\ttest_accuracy = 0.7135278582572937\n",
            "step = 640\tloss = 0.396059513092041\ttrain_accuracy = 0.8421750664710999\ttest_accuracy = 0.721485435962677\n",
            "step = 650\tloss = 0.3807060718536377\ttrain_accuracy = 0.8454906940460205\ttest_accuracy = 0.7254641652107239\n",
            "step = 660\tloss = 0.38243433833122253\ttrain_accuracy = 0.8415119647979736\ttest_accuracy = 0.7281166911125183\n",
            "step = 670\tloss = 0.4200958013534546\ttrain_accuracy = 0.8459327816963196\ttest_accuracy = 0.7294429540634155\n",
            "step = 680\tloss = 0.4118891954421997\ttrain_accuracy = 0.8364279270172119\ttest_accuracy = 0.7274535894393921\n",
            "step = 690\tloss = 0.39625605940818787\ttrain_accuracy = 0.8331122994422913\ttest_accuracy = 0.732758641242981\n",
            "step = 700\tloss = 0.390619158744812\ttrain_accuracy = 0.8410698771476746\ttest_accuracy = 0.7374005317687988\n",
            "step = 710\tloss = 0.4288712739944458\ttrain_accuracy = 0.8238284587860107\ttest_accuracy = 0.7148541212081909\n",
            "step = 720\tloss = 0.4290751516819\ttrain_accuracy = 0.8225021958351135\ttest_accuracy = 0.7274535894393921\n",
            "step = 730\tloss = 0.3798872232437134\ttrain_accuracy = 0.849248468875885\ttest_accuracy = 0.7307692170143127\n",
            "step = 740\tloss = 0.3595709204673767\ttrain_accuracy = 0.8490273952484131\ttest_accuracy = 0.7314323782920837\n",
            "step = 750\tloss = 0.38555651903152466\ttrain_accuracy = 0.8419540524482727\ttest_accuracy = 0.7307692170143127\n",
            "step = 760\tloss = 0.42976316809654236\ttrain_accuracy = 0.8165340423583984\ttest_accuracy = 0.7221485376358032\n",
            "step = 770\tloss = 0.41255027055740356\ttrain_accuracy = 0.8333333134651184\ttest_accuracy = 0.7042440176010132\n",
            "step = 780\tloss = 0.422883540391922\ttrain_accuracy = 0.8326702117919922\ttest_accuracy = 0.7267904281616211\n",
            "step = 790\tloss = 0.3612857758998871\ttrain_accuracy = 0.8494694828987122\ttest_accuracy = 0.7281166911125183\n",
            "step = 800\tloss = 0.3515160381793976\ttrain_accuracy = 0.8567638993263245\ttest_accuracy = 0.7274535894393921\n",
            "step = 810\tloss = 0.32848331332206726\ttrain_accuracy = 0.8600795865058899\ttest_accuracy = 0.7347480058670044\n",
            "step = 820\tloss = 0.3799450397491455\ttrain_accuracy = 0.8364279270172119\ttest_accuracy = 0.738063633441925\n",
            "step = 830\tloss = 0.3587033450603485\ttrain_accuracy = 0.8499115705490112\ttest_accuracy = 0.7413793206214905\n",
            "step = 840\tloss = 0.3618105351924896\ttrain_accuracy = 0.8399646282196045\ttest_accuracy = 0.7354111671447754\n",
            "step = 850\tloss = 0.3317776322364807\ttrain_accuracy = 0.8591954112052917\ttest_accuracy = 0.7374005317687988\n",
            "step = 860\tloss = 0.3710210919380188\ttrain_accuracy = 0.8594164252281189\ttest_accuracy = 0.7420424222946167\n",
            "step = 870\tloss = 0.32095104455947876\ttrain_accuracy = 0.8631742000579834\ttest_accuracy = 0.7347480058670044\n",
            "step = 880\tloss = 0.34756773710250854\ttrain_accuracy = 0.8572059869766235\ttest_accuracy = 0.73209547996521\n",
            "step = 890\tloss = 0.330525279045105\ttrain_accuracy = 0.8616268634796143\ttest_accuracy = 0.7274535894393921\n",
            "step = 900\tloss = 0.3235718309879303\ttrain_accuracy = 0.8651635646820068\ttest_accuracy = 0.7360742688179016\n",
            "step = 910\tloss = 0.3243071436882019\ttrain_accuracy = 0.8622900247573853\ttest_accuracy = 0.7374005317687988\n",
            "step = 920\tloss = 0.3570779263973236\ttrain_accuracy = 0.842396080493927\ttest_accuracy = 0.7334217429161072\n",
            "step = 930\tloss = 0.33237388730049133\ttrain_accuracy = 0.8611847758293152\ttest_accuracy = 0.73209547996521\n",
            "step = 940\tloss = 0.33225974440574646\ttrain_accuracy = 0.8649425506591797\ttest_accuracy = 0.7314323782920837\n",
            "step = 950\tloss = 0.3279682695865631\ttrain_accuracy = 0.860300600528717\ttest_accuracy = 0.7360742688179016\n",
            "step = 960\tloss = 0.3132430911064148\ttrain_accuracy = 0.8649425506591797\ttest_accuracy = 0.7367374300956726\n",
            "step = 970\tloss = 0.3120418190956116\ttrain_accuracy = 0.8669319152832031\ttest_accuracy = 0.7400530576705933\n",
            "step = 980\tloss = 0.3213622272014618\ttrain_accuracy = 0.860963761806488\ttest_accuracy = 0.7407161593437195\n",
            "step = 990\tloss = 0.3435158133506775\ttrain_accuracy = 0.8530061841011047\ttest_accuracy = 0.7440318465232849\n",
            "step = 1000\tloss = 0.33587607741355896\ttrain_accuracy = 0.8512378334999084\ttest_accuracy = 0.7446949481964111\n",
            "step = 1010\tloss = 0.3397727906703949\ttrain_accuracy = 0.8541114330291748\ttest_accuracy = 0.7354111671447754\n",
            "step = 1020\tloss = 0.29685744643211365\ttrain_accuracy = 0.8682581782341003\ttest_accuracy = 0.7420424222946167\n",
            "step = 1030\tloss = 0.330901563167572\ttrain_accuracy = 0.854995608329773\ttest_accuracy = 0.7360742688179016\n",
            "step = 1040\tloss = 0.35745275020599365\ttrain_accuracy = 0.8527851700782776\ttest_accuracy = 0.738726794719696\n",
            "step = 1050\tloss = 0.3111853003501892\ttrain_accuracy = 0.8651635646820068\ttest_accuracy = 0.7413793206214905\n",
            "step = 1060\tloss = 0.325300008058548\ttrain_accuracy = 0.8669319152832031\ttest_accuracy = 0.7374005317687988\n",
            "step = 1070\tloss = 0.31955796480178833\ttrain_accuracy = 0.8658267259597778\ttest_accuracy = 0.7340849041938782\n",
            "step = 1080\tloss = 0.31904688477516174\ttrain_accuracy = 0.8653846383094788\ttest_accuracy = 0.7340849041938782\n",
            "step = 1090\tloss = 0.3207109272480011\ttrain_accuracy = 0.8673740029335022\ttest_accuracy = 0.7393898963928223\n",
            "step = 1100\tloss = 0.3051600158214569\ttrain_accuracy = 0.8735632300376892\ttest_accuracy = 0.738726794719696\n",
            "step = 1110\tloss = 0.30335333943367004\ttrain_accuracy = 0.8729000687599182\ttest_accuracy = 0.7393898963928223\n",
            "step = 1120\tloss = 0.30440330505371094\ttrain_accuracy = 0.8693633675575256\ttest_accuracy = 0.7413793206214905\n",
            "step = 1130\tloss = 0.31564435362815857\ttrain_accuracy = 0.8656056523323059\ttest_accuracy = 0.7407161593437195\n",
            "step = 1140\tloss = 0.28454720973968506\ttrain_accuracy = 0.8740053176879883\ttest_accuracy = 0.7400530576705933\n",
            "step = 1150\tloss = 0.29006606340408325\ttrain_accuracy = 0.8711317181587219\ttest_accuracy = 0.7433686852455139\n",
            "step = 1160\tloss = 0.29834213852882385\ttrain_accuracy = 0.867152988910675\ttest_accuracy = 0.738063633441925\n",
            "step = 1170\tloss = 0.2988967299461365\ttrain_accuracy = 0.8698054552078247\ttest_accuracy = 0.7440318465232849\n",
            "step = 1180\tloss = 0.28826865553855896\ttrain_accuracy = 0.8782051205635071\ttest_accuracy = 0.7453581094741821\n",
            "step = 1190\tloss = 0.37999990582466125\ttrain_accuracy = 0.8393015265464783\ttest_accuracy = 0.7446949481964111\n",
            "step = 1200\tloss = 0.3157314658164978\ttrain_accuracy = 0.8693633675575256\ttest_accuracy = 0.7493368983268738\n",
            "step = 1210\tloss = 0.3009485602378845\ttrain_accuracy = 0.8733421564102173\ttest_accuracy = 0.7446949481964111\n",
            "step = 1220\tloss = 0.3073442280292511\ttrain_accuracy = 0.8651635646820068\ttest_accuracy = 0.7393898963928223\n",
            "step = 1230\tloss = 0.3005608022212982\ttrain_accuracy = 0.8729000687599182\ttest_accuracy = 0.738726794719696\n",
            "step = 1240\tloss = 0.2951298952102661\ttrain_accuracy = 0.8711317181587219\ttest_accuracy = 0.7433686852455139\n",
            "step = 1250\tloss = 0.3155922293663025\ttrain_accuracy = 0.860300600528717\ttest_accuracy = 0.7486737370491028\n",
            "step = 1260\tloss = 0.3718029260635376\ttrain_accuracy = 0.860300600528717\ttest_accuracy = 0.7480106353759766\n",
            "step = 1270\tloss = 0.4700973629951477\ttrain_accuracy = 0.7990716099739075\ttest_accuracy = 0.738726794719696\n",
            "step = 1280\tloss = 0.3046027421951294\ttrain_accuracy = 0.8704686164855957\ttest_accuracy = 0.7486737370491028\n",
            "step = 1290\tloss = 0.29509079456329346\ttrain_accuracy = 0.8737842440605164\ttest_accuracy = 0.7374005317687988\n",
            "step = 1300\tloss = 0.30853453278541565\ttrain_accuracy = 0.8720158934593201\ttest_accuracy = 0.75\n",
            "step = 1310\tloss = 0.29190757870674133\ttrain_accuracy = 0.871573805809021\ttest_accuracy = 0.7486737370491028\n",
            "step = 1320\tloss = 0.3024405539035797\ttrain_accuracy = 0.8673740029335022\ttest_accuracy = 0.7453581094741821\n",
            "step = 1330\tloss = 0.2719826102256775\ttrain_accuracy = 0.8797524571418762\ttest_accuracy = 0.7486737370491028\n",
            "step = 1340\tloss = 0.2709420919418335\ttrain_accuracy = 0.883289098739624\ttest_accuracy = 0.7433686852455139\n",
            "step = 1350\tloss = 0.2944771647453308\ttrain_accuracy = 0.8682581782341003\ttest_accuracy = 0.7466843724250793\n",
            "step = 1360\tloss = 0.2824035584926605\ttrain_accuracy = 0.8810787200927734\ttest_accuracy = 0.7440318465232849\n",
            "step = 1370\tloss = 0.2741461992263794\ttrain_accuracy = 0.8817418217658997\ttest_accuracy = 0.7400530576705933\n",
            "step = 1380\tloss = 0.2704720199108124\ttrain_accuracy = 0.8815208077430725\ttest_accuracy = 0.7427055835723877\n",
            "step = 1390\tloss = 0.27378150820732117\ttrain_accuracy = 0.8821839094161987\ttest_accuracy = 0.7526525259017944\n",
            "step = 1400\tloss = 0.26963499188423157\ttrain_accuracy = 0.8788682818412781\ttest_accuracy = 0.7526525259017944\n",
            "step = 1410\tloss = 0.2668617069721222\ttrain_accuracy = 0.883952260017395\ttest_accuracy = 0.7519893646240234\n",
            "step = 1420\tloss = 0.27071115374565125\ttrain_accuracy = 0.8815208077430725\ttest_accuracy = 0.7433686852455139\n",
            "step = 1430\tloss = 0.2900736629962921\ttrain_accuracy = 0.8729000687599182\ttest_accuracy = 0.7473474740982056\n",
            "step = 1440\tloss = 0.2630244493484497\ttrain_accuracy = 0.8868257999420166\ttest_accuracy = 0.7506631016731262\n",
            "step = 1450\tloss = 0.2671736478805542\ttrain_accuracy = 0.8817418217658997\ttest_accuracy = 0.7546418905258179\n",
            "step = 1460\tloss = 0.2955916225910187\ttrain_accuracy = 0.8746684193611145\ttest_accuracy = 0.7546418905258179\n",
            "step = 1470\tloss = 0.2757014334201813\ttrain_accuracy = 0.8826259970664978\ttest_accuracy = 0.7473474740982056\n",
            "step = 1480\tloss = 0.28644412755966187\ttrain_accuracy = 0.8824049234390259\ttest_accuracy = 0.7486737370491028\n",
            "step = 1490\tloss = 0.3052404224872589\ttrain_accuracy = 0.8678160905838013\ttest_accuracy = 0.7440318465232849\n",
            "step = 1500\tloss = 0.28449973464012146\ttrain_accuracy = 0.8808576464653015\ttest_accuracy = 0.7446949481964111\n",
            "step = 1510\tloss = 0.2992728352546692\ttrain_accuracy = 0.8744474053382874\ttest_accuracy = 0.7493368983268738\n",
            "step = 1520\tloss = 0.3192005157470703\ttrain_accuracy = 0.866489827632904\ttest_accuracy = 0.7466843724250793\n",
            "step = 1530\tloss = 0.3000495135784149\ttrain_accuracy = 0.8717948794364929\ttest_accuracy = 0.7566313147544861\n",
            "step = 1540\tloss = 0.30149608850479126\ttrain_accuracy = 0.8669319152832031\ttest_accuracy = 0.7519893646240234\n",
            "step = 1550\tloss = 0.31097203493118286\ttrain_accuracy = 0.8713527917861938\ttest_accuracy = 0.7460212111473083\n",
            "step = 1560\tloss = 0.26599544286727905\ttrain_accuracy = 0.883510172367096\ttest_accuracy = 0.7506631016731262\n",
            "step = 1570\tloss = 0.29271143674850464\ttrain_accuracy = 0.8770999312400818\ttest_accuracy = 0.7480106353759766\n",
            "step = 1580\tloss = 0.28163692355155945\ttrain_accuracy = 0.8806366324424744\ttest_accuracy = 0.7513262629508972\n",
            "step = 1590\tloss = 0.34533777832984924\ttrain_accuracy = 0.8572059869766235\ttest_accuracy = 0.7519893646240234\n",
            "step = 1600\tloss = 0.30459243059158325\ttrain_accuracy = 0.8751105070114136\ttest_accuracy = 0.7466843724250793\n",
            "step = 1610\tloss = 0.2789114713668823\ttrain_accuracy = 0.8826259970664978\ttest_accuracy = 0.7493368983268738\n",
            "step = 1620\tloss = 0.3076000511646271\ttrain_accuracy = 0.8693633675575256\ttest_accuracy = 0.7473474740982056\n",
            "step = 1630\tloss = 0.2863054871559143\ttrain_accuracy = 0.8759946823120117\ttest_accuracy = 0.7493368983268738\n",
            "step = 1640\tloss = 0.27947622537612915\ttrain_accuracy = 0.8779841065406799\ttest_accuracy = 0.7400530576705933\n",
            "step = 1650\tloss = 0.29379430413246155\ttrain_accuracy = 0.8766578435897827\ttest_accuracy = 0.7453581094741821\n",
            "step = 1660\tloss = 0.2808088958263397\ttrain_accuracy = 0.8782051205635071\ttest_accuracy = 0.7440318465232849\n",
            "step = 1670\tloss = 0.3326248526573181\ttrain_accuracy = 0.860300600528717\ttest_accuracy = 0.7413793206214905\n",
            "step = 1680\tloss = 0.3146003186702728\ttrain_accuracy = 0.8740053176879883\ttest_accuracy = 0.7526525259017944\n",
            "step = 1690\tloss = 0.29554229974746704\ttrain_accuracy = 0.872236967086792\ttest_accuracy = 0.7526525259017944\n",
            "step = 1700\tloss = 0.321856826543808\ttrain_accuracy = 0.8693633675575256\ttest_accuracy = 0.7566313147544861\n",
            "step = 1710\tloss = 0.31100738048553467\ttrain_accuracy = 0.8649425506591797\ttest_accuracy = 0.7519893646240234\n",
            "step = 1720\tloss = 0.3289712369441986\ttrain_accuracy = 0.8607426881790161\ttest_accuracy = 0.7486737370491028\n",
            "step = 1730\tloss = 0.2932174801826477\ttrain_accuracy = 0.8731211423873901\ttest_accuracy = 0.7453581094741821\n",
            "step = 1740\tloss = 0.2940508723258972\ttrain_accuracy = 0.8735632300376892\ttest_accuracy = 0.7513262629508972\n",
            "step = 1750\tloss = 0.2741549611091614\ttrain_accuracy = 0.8790892958641052\ttest_accuracy = 0.75\n",
            "step = 1760\tloss = 0.28058555722236633\ttrain_accuracy = 0.8773209452629089\ttest_accuracy = 0.7506631016731262\n",
            "step = 1770\tloss = 0.27523601055145264\ttrain_accuracy = 0.877763032913208\ttest_accuracy = 0.7519893646240234\n",
            "step = 1780\tloss = 0.2638900578022003\ttrain_accuracy = 0.8790892958641052\ttest_accuracy = 0.7526525259017944\n",
            "step = 1790\tloss = 0.32164549827575684\ttrain_accuracy = 0.8680371642112732\ttest_accuracy = 0.7519893646240234\n",
            "step = 1800\tloss = 0.2823471128940582\ttrain_accuracy = 0.8821839094161987\ttest_accuracy = 0.7480106353759766\n",
            "step = 1810\tloss = 0.2654469609260559\ttrain_accuracy = 0.8821839094161987\ttest_accuracy = 0.7533156275749207\n",
            "step = 1820\tloss = 0.26313382387161255\ttrain_accuracy = 0.8821839094161987\ttest_accuracy = 0.7533156275749207\n",
            "step = 1830\tloss = 0.3264373540878296\ttrain_accuracy = 0.8645004630088806\ttest_accuracy = 0.7486737370491028\n",
            "step = 1840\tloss = 0.2891245186328888\ttrain_accuracy = 0.8737842440605164\ttest_accuracy = 0.7446949481964111\n",
            "step = 1850\tloss = 0.27775031328201294\ttrain_accuracy = 0.8801945447921753\ttest_accuracy = 0.7493368983268738\n",
            "step = 1860\tloss = 0.2857455909252167\ttrain_accuracy = 0.8737842440605164\ttest_accuracy = 0.7493368983268738\n",
            "step = 1870\tloss = 0.2874594032764435\ttrain_accuracy = 0.8779841065406799\ttest_accuracy = 0.7433686852455139\n",
            "step = 1880\tloss = 0.26930058002471924\ttrain_accuracy = 0.8795313835144043\ttest_accuracy = 0.7559681534767151\n",
            "step = 1890\tloss = 0.28310978412628174\ttrain_accuracy = 0.8790892958641052\ttest_accuracy = 0.7513262629508972\n",
            "step = 1900\tloss = 0.28868189454078674\ttrain_accuracy = 0.8695844411849976\ttest_accuracy = 0.7486737370491028\n",
            "step = 1910\tloss = 0.2698817849159241\ttrain_accuracy = 0.883510172367096\ttest_accuracy = 0.7473474740982056\n",
            "step = 1920\tloss = 0.2877023220062256\ttrain_accuracy = 0.8797524571418762\ttest_accuracy = 0.7526525259017944\n",
            "step = 1930\tloss = 0.29324913024902344\ttrain_accuracy = 0.8706896305084229\ttest_accuracy = 0.7453581094741821\n",
            "step = 1940\tloss = 0.28187787532806396\ttrain_accuracy = 0.8724579811096191\ttest_accuracy = 0.7519893646240234\n",
            "step = 1950\tloss = 0.28565582633018494\ttrain_accuracy = 0.8751105070114136\ttest_accuracy = 0.7539787888526917\n",
            "step = 1960\tloss = 0.3037141263484955\ttrain_accuracy = 0.8680371642112732\ttest_accuracy = 0.7539787888526917\n",
            "step = 1970\tloss = 0.2885252833366394\ttrain_accuracy = 0.8691423535346985\ttest_accuracy = 0.7460212111473083\n",
            "step = 1980\tloss = 0.3027142584323883\ttrain_accuracy = 0.8662688136100769\ttest_accuracy = 0.7553050518035889\n",
            "step = 1990\tloss = 0.2987701892852783\ttrain_accuracy = 0.8768788576126099\ttest_accuracy = 0.7453581094741821\n",
            "step = 2000\tloss = 0.27877870202064514\ttrain_accuracy = 0.8804155588150024\ttest_accuracy = 0.7480106353759766\n",
            "step = 2010\tloss = 0.2932199537754059\ttrain_accuracy = 0.8698054552078247\ttest_accuracy = 0.7446949481964111\n",
            "step = 2020\tloss = 0.28756630420684814\ttrain_accuracy = 0.8713527917861938\ttest_accuracy = 0.7446949481964111\n",
            "step = 2030\tloss = 0.27425524592399597\ttrain_accuracy = 0.8799734711647034\ttest_accuracy = 0.7446949481964111\n",
            "step = 2040\tloss = 0.27448809146881104\ttrain_accuracy = 0.8766578435897827\ttest_accuracy = 0.7493368983268738\n",
            "step = 2050\tloss = 0.29213833808898926\ttrain_accuracy = 0.8735632300376892\ttest_accuracy = 0.7433686852455139\n",
            "step = 2060\tloss = 0.2673076093196869\ttrain_accuracy = 0.8846153616905212\ttest_accuracy = 0.7572944164276123\n",
            "step = 2070\tloss = 0.3069569766521454\ttrain_accuracy = 0.8706896305084229\ttest_accuracy = 0.7519893646240234\n",
            "step = 2080\tloss = 0.2578139007091522\ttrain_accuracy = 0.8874889612197876\ttest_accuracy = 0.738726794719696\n",
            "step = 2090\tloss = 0.2891726493835449\ttrain_accuracy = 0.8709107041358948\ttest_accuracy = 0.7427055835723877\n",
            "step = 2100\tloss = 0.2692953050136566\ttrain_accuracy = 0.8768788576126099\ttest_accuracy = 0.7433686852455139\n",
            "step = 2110\tloss = 0.27865031361579895\ttrain_accuracy = 0.8801945447921753\ttest_accuracy = 0.7433686852455139\n",
            "step = 2120\tloss = 0.26098376512527466\ttrain_accuracy = 0.8854995369911194\ttest_accuracy = 0.7486737370491028\n",
            "step = 2130\tloss = 0.26442164182662964\ttrain_accuracy = 0.8815208077430725\ttest_accuracy = 0.7480106353759766\n",
            "step = 2140\tloss = 0.2567046582698822\ttrain_accuracy = 0.8861626982688904\ttest_accuracy = 0.7427055835723877\n",
            "step = 2150\tloss = 0.2676067650318146\ttrain_accuracy = 0.8782051205635071\ttest_accuracy = 0.7473474740982056\n",
            "step = 2160\tloss = 0.2865798771381378\ttrain_accuracy = 0.8793103694915771\ttest_accuracy = 0.7486737370491028\n",
            "step = 2170\tloss = 0.2689065635204315\ttrain_accuracy = 0.8770999312400818\ttest_accuracy = 0.7393898963928223\n",
            "step = 2180\tloss = 0.26015475392341614\ttrain_accuracy = 0.8877099752426147\ttest_accuracy = 0.7559681534767151\n",
            "step = 2190\tloss = 0.25262579321861267\ttrain_accuracy = 0.8877099752426147\ttest_accuracy = 0.7506631016731262\n",
            "step = 2200\tloss = 0.24826565384864807\ttrain_accuracy = 0.8854995369911194\ttest_accuracy = 0.7513262629508972\n",
            "step = 2210\tloss = 0.25955384969711304\ttrain_accuracy = 0.8868257999420166\ttest_accuracy = 0.7553050518035889\n",
            "step = 2220\tloss = 0.2551981210708618\ttrain_accuracy = 0.8903625011444092\ttest_accuracy = 0.7539787888526917\n",
            "step = 2230\tloss = 0.2651252746582031\ttrain_accuracy = 0.8846153616905212\ttest_accuracy = 0.7572944164276123\n",
            "step = 2240\tloss = 0.24934761226177216\ttrain_accuracy = 0.8914677500724792\ttest_accuracy = 0.7513262629508972\n",
            "step = 2250\tloss = 0.25310018658638\ttrain_accuracy = 0.8945623636245728\ttest_accuracy = 0.7539787888526917\n",
            "step = 2260\tloss = 0.26909443736076355\ttrain_accuracy = 0.8824049234390259\ttest_accuracy = 0.7533156275749207\n",
            "step = 2270\tloss = 0.27763211727142334\ttrain_accuracy = 0.8720158934593201\ttest_accuracy = 0.7546418905258179\n",
            "step = 2280\tloss = 0.26533693075180054\ttrain_accuracy = 0.8854995369911194\ttest_accuracy = 0.7513262629508972\n",
            "step = 2290\tloss = 0.2637483775615692\ttrain_accuracy = 0.8815208077430725\ttest_accuracy = 0.7539787888526917\n",
            "step = 2300\tloss = 0.27407222986221313\ttrain_accuracy = 0.8817418217658997\ttest_accuracy = 0.7486737370491028\n",
            "step = 2310\tloss = 0.24997836351394653\ttrain_accuracy = 0.8905835747718811\ttest_accuracy = 0.7480106353759766\n",
            "step = 2320\tloss = 0.25816237926483154\ttrain_accuracy = 0.8850574493408203\ttest_accuracy = 0.7533156275749207\n",
            "step = 2330\tloss = 0.25909170508384705\ttrain_accuracy = 0.8883731365203857\ttest_accuracy = 0.7579575777053833\n",
            "step = 2340\tloss = 0.2621828317642212\ttrain_accuracy = 0.8843943476676941\ttest_accuracy = 0.7546418905258179\n",
            "step = 2350\tloss = 0.2516648769378662\ttrain_accuracy = 0.8881520628929138\ttest_accuracy = 0.7566313147544861\n",
            "step = 2360\tloss = 0.2678547203540802\ttrain_accuracy = 0.8755525946617126\ttest_accuracy = 0.7533156275749207\n",
            "step = 2370\tloss = 0.2615463435649872\ttrain_accuracy = 0.8817418217658997\ttest_accuracy = 0.7533156275749207\n",
            "step = 2380\tloss = 0.2462565302848816\ttrain_accuracy = 0.8908045887947083\ttest_accuracy = 0.7559681534767151\n",
            "step = 2390\tloss = 0.24717490375041962\ttrain_accuracy = 0.8866047859191895\ttest_accuracy = 0.7526525259017944\n",
            "step = 2400\tloss = 0.2551724314689636\ttrain_accuracy = 0.8910256624221802\ttest_accuracy = 0.7473474740982056\n",
            "step = 2410\tloss = 0.2407512068748474\ttrain_accuracy = 0.8927940130233765\ttest_accuracy = 0.75\n",
            "step = 2420\tloss = 0.27005621790885925\ttrain_accuracy = 0.883510172367096\ttest_accuracy = 0.7466843724250793\n",
            "step = 2430\tloss = 0.2633030116558075\ttrain_accuracy = 0.878426194190979\ttest_accuracy = 0.7440318465232849\n",
            "step = 2440\tloss = 0.27847766876220703\ttrain_accuracy = 0.8810787200927734\ttest_accuracy = 0.7506631016731262\n",
            "step = 2450\tloss = 0.2576937973499298\ttrain_accuracy = 0.8854995369911194\ttest_accuracy = 0.7526525259017944\n",
            "step = 2460\tloss = 0.2609230875968933\ttrain_accuracy = 0.890141487121582\ttest_accuracy = 0.7513262629508972\n",
            "step = 2470\tloss = 0.26245248317718506\ttrain_accuracy = 0.8870468735694885\ttest_accuracy = 0.7460212111473083\n",
            "step = 2480\tloss = 0.27165478467941284\ttrain_accuracy = 0.8815208077430725\ttest_accuracy = 0.7513262629508972\n",
            "step = 2490\tloss = 0.29027634859085083\ttrain_accuracy = 0.8790892958641052\ttest_accuracy = 0.7473474740982056\n",
            "step = 2500\tloss = 0.2580760419368744\ttrain_accuracy = 0.8797524571418762\ttest_accuracy = 0.7453581094741821\n",
            "step = 2510\tloss = 0.25557008385658264\ttrain_accuracy = 0.8861626982688904\ttest_accuracy = 0.7466843724250793\n",
            "step = 2520\tloss = 0.24960246682167053\ttrain_accuracy = 0.8903625011444092\ttest_accuracy = 0.7486737370491028\n",
            "step = 2530\tloss = 0.2439957559108734\ttrain_accuracy = 0.890141487121582\ttest_accuracy = 0.75\n",
            "step = 2540\tloss = 0.24039305746555328\ttrain_accuracy = 0.8932361006736755\ttest_accuracy = 0.7486737370491028\n",
            "step = 2550\tloss = 0.23975564539432526\ttrain_accuracy = 0.8916887640953064\ttest_accuracy = 0.7533156275749207\n",
            "step = 2560\tloss = 0.2429700791835785\ttrain_accuracy = 0.8903625011444092\ttest_accuracy = 0.7480106353759766\n",
            "step = 2570\tloss = 0.24148815870285034\ttrain_accuracy = 0.889699399471283\ttest_accuracy = 0.7486737370491028\n",
            "step = 2580\tloss = 0.25341522693634033\ttrain_accuracy = 0.8934571146965027\ttest_accuracy = 0.7480106353759766\n",
            "step = 2590\tloss = 0.22869443893432617\ttrain_accuracy = 0.8941202759742737\ttest_accuracy = 0.7546418905258179\n",
            "step = 2600\tloss = 0.25511959195137024\ttrain_accuracy = 0.8857206106185913\ttest_accuracy = 0.7539787888526917\n",
            "step = 2610\tloss = 0.24037690460681915\ttrain_accuracy = 0.889699399471283\ttest_accuracy = 0.7466843724250793\n",
            "step = 2620\tloss = 0.23005694150924683\ttrain_accuracy = 0.895667552947998\ttest_accuracy = 0.7473474740982056\n",
            "step = 2630\tloss = 0.23911218345165253\ttrain_accuracy = 0.8925729393959045\ttest_accuracy = 0.75\n",
            "step = 2640\tloss = 0.23325859010219574\ttrain_accuracy = 0.8927940130233765\ttest_accuracy = 0.7480106353759766\n",
            "step = 2650\tloss = 0.23371578752994537\ttrain_accuracy = 0.8963306546211243\ttest_accuracy = 0.7506631016731262\n",
            "step = 2660\tloss = 0.23058989644050598\ttrain_accuracy = 0.8961096405982971\ttest_accuracy = 0.7506631016731262\n",
            "step = 2670\tloss = 0.22711127996444702\ttrain_accuracy = 0.895667552947998\ttest_accuracy = 0.7506631016731262\n",
            "step = 2680\tloss = 0.2275831252336502\ttrain_accuracy = 0.8963306546211243\ttest_accuracy = 0.7559681534767151\n",
            "step = 2690\tloss = 0.2333468198776245\ttrain_accuracy = 0.8963306546211243\ttest_accuracy = 0.7539787888526917\n",
            "step = 2700\tloss = 0.23709888756275177\ttrain_accuracy = 0.8934571146965027\ttest_accuracy = 0.7533156275749207\n",
            "step = 2710\tloss = 0.23745125532150269\ttrain_accuracy = 0.8965517282485962\ttest_accuracy = 0.7526525259017944\n",
            "step = 2720\tloss = 0.2289806753396988\ttrain_accuracy = 0.8941202759742737\ttest_accuracy = 0.7519893646240234\n",
            "step = 2730\tloss = 0.23577022552490234\ttrain_accuracy = 0.8905835747718811\ttest_accuracy = 0.7526525259017944\n",
            "step = 2740\tloss = 0.2323876917362213\ttrain_accuracy = 0.8923519253730774\ttest_accuracy = 0.7566313147544861\n",
            "step = 2750\tloss = 0.2328636348247528\ttrain_accuracy = 0.8934571146965027\ttest_accuracy = 0.7506631016731262\n",
            "step = 2760\tloss = 0.2311951220035553\ttrain_accuracy = 0.8961096405982971\ttest_accuracy = 0.7486737370491028\n",
            "step = 2770\tloss = 0.23263616859912872\ttrain_accuracy = 0.8983200788497925\ttest_accuracy = 0.7506631016731262\n",
            "step = 2780\tloss = 0.24100527167320251\ttrain_accuracy = 0.8899204134941101\ttest_accuracy = 0.7533156275749207\n",
            "step = 2790\tloss = 0.2246195673942566\ttrain_accuracy = 0.8965517282485962\ttest_accuracy = 0.75\n",
            "step = 2800\tloss = 0.22590993344783783\ttrain_accuracy = 0.8980990052223206\ttest_accuracy = 0.7519893646240234\n",
            "step = 2810\tloss = 0.234699547290802\ttrain_accuracy = 0.8932361006736755\ttest_accuracy = 0.7493368983268738\n",
            "step = 2820\tloss = 0.22674952447414398\ttrain_accuracy = 0.8989831805229187\ttest_accuracy = 0.7539787888526917\n",
            "step = 2830\tloss = 0.22979339957237244\ttrain_accuracy = 0.8961096405982971\ttest_accuracy = 0.7526525259017944\n",
            "step = 2840\tloss = 0.2314901351928711\ttrain_accuracy = 0.8967727422714233\ttest_accuracy = 0.7506631016731262\n",
            "step = 2850\tloss = 0.23471800982952118\ttrain_accuracy = 0.895225465297699\ttest_accuracy = 0.7493368983268738\n",
            "step = 2860\tloss = 0.22458520531654358\ttrain_accuracy = 0.895004391670227\ttest_accuracy = 0.7546418905258179\n",
            "step = 2870\tloss = 0.22836250066757202\ttrain_accuracy = 0.8954464793205261\ttest_accuracy = 0.7519893646240234\n",
            "step = 2880\tloss = 0.23445992171764374\ttrain_accuracy = 0.8925729393959045\ttest_accuracy = 0.75\n",
            "step = 2890\tloss = 0.2246885448694229\ttrain_accuracy = 0.8969938158988953\ttest_accuracy = 0.7493368983268738\n",
            "step = 2900\tloss = 0.23430776596069336\ttrain_accuracy = 0.8954464793205261\ttest_accuracy = 0.7533156275749207\n",
            "step = 2910\tloss = 0.22986851632595062\ttrain_accuracy = 0.8963306546211243\ttest_accuracy = 0.7493368983268738\n",
            "step = 2920\tloss = 0.22498832643032074\ttrain_accuracy = 0.8938992023468018\ttest_accuracy = 0.7473474740982056\n",
            "step = 2930\tloss = 0.22640271484851837\ttrain_accuracy = 0.8996463418006897\ttest_accuracy = 0.7473474740982056\n",
            "step = 2940\tloss = 0.23086993396282196\ttrain_accuracy = 0.8930150270462036\ttest_accuracy = 0.7506631016731262\n",
            "step = 2950\tloss = 0.22846680879592896\ttrain_accuracy = 0.8980990052223206\ttest_accuracy = 0.7446949481964111\n",
            "step = 2960\tloss = 0.22527408599853516\ttrain_accuracy = 0.9000884294509888\ttest_accuracy = 0.7466843724250793\n",
            "step = 2970\tloss = 0.22920718789100647\ttrain_accuracy = 0.8947833776473999\ttest_accuracy = 0.7473474740982056\n",
            "step = 2980\tloss = 0.2289821356534958\ttrain_accuracy = 0.895225465297699\ttest_accuracy = 0.7519893646240234\n",
            "step = 2990\tloss = 0.22480659186840057\ttrain_accuracy = 0.895004391670227\ttest_accuracy = 0.7480106353759766\n",
            "step = 3000\tloss = 0.23469722270965576\ttrain_accuracy = 0.8914677500724792\ttest_accuracy = 0.7473474740982056\n",
            "step = 3010\tloss = 0.2213088870048523\ttrain_accuracy = 0.8987621665000916\ttest_accuracy = 0.7513262629508972\n",
            "step = 3020\tloss = 0.234169602394104\ttrain_accuracy = 0.8961096405982971\ttest_accuracy = 0.7460212111473083\n",
            "step = 3030\tloss = 0.2387014478445053\ttrain_accuracy = 0.8916887640953064\ttest_accuracy = 0.7493368983268738\n",
            "step = 3040\tloss = 0.22095660865306854\ttrain_accuracy = 0.9005305171012878\ttest_accuracy = 0.7526525259017944\n",
            "step = 3050\tloss = 0.2247486412525177\ttrain_accuracy = 0.8972148299217224\ttest_accuracy = 0.7519893646240234\n",
            "step = 3060\tloss = 0.2271127551794052\ttrain_accuracy = 0.8961096405982971\ttest_accuracy = 0.7480106353759766\n",
            "step = 3070\tloss = 0.22887694835662842\ttrain_accuracy = 0.8961096405982971\ttest_accuracy = 0.7553050518035889\n",
            "step = 3080\tloss = 0.23577244579792023\ttrain_accuracy = 0.895004391670227\ttest_accuracy = 0.7546418905258179\n",
            "step = 3090\tloss = 0.23300491273403168\ttrain_accuracy = 0.8903625011444092\ttest_accuracy = 0.7553050518035889\n",
            "step = 3100\tloss = 0.23194937407970428\ttrain_accuracy = 0.8989831805229187\ttest_accuracy = 0.7486737370491028\n",
            "step = 3110\tloss = 0.22579306364059448\ttrain_accuracy = 0.8972148299217224\ttest_accuracy = 0.7533156275749207\n",
            "step = 3120\tloss = 0.22475361824035645\ttrain_accuracy = 0.8989831805229187\ttest_accuracy = 0.7539787888526917\n",
            "step = 3130\tloss = 0.22010716795921326\ttrain_accuracy = 0.8989831805229187\ttest_accuracy = 0.7519893646240234\n",
            "step = 3140\tloss = 0.22544269263744354\ttrain_accuracy = 0.8961096405982971\ttest_accuracy = 0.7506631016731262\n",
            "step = 3150\tloss = 0.22061721980571747\ttrain_accuracy = 0.8961096405982971\ttest_accuracy = 0.7506631016731262\n",
            "step = 3160\tloss = 0.23430794477462769\ttrain_accuracy = 0.8919098377227783\ttest_accuracy = 0.7513262629508972\n",
            "step = 3170\tloss = 0.22369694709777832\ttrain_accuracy = 0.8985410928726196\ttest_accuracy = 0.7546418905258179\n",
            "step = 3180\tloss = 0.22401081025600433\ttrain_accuracy = 0.901414692401886\ttest_accuracy = 0.7553050518035889\n",
            "step = 3190\tloss = 0.2212139219045639\ttrain_accuracy = 0.8969938158988953\ttest_accuracy = 0.7546418905258179\n",
            "step = 3200\tloss = 0.22719794511795044\ttrain_accuracy = 0.8969938158988953\ttest_accuracy = 0.7539787888526917\n",
            "step = 3210\tloss = 0.22139212489128113\ttrain_accuracy = 0.900751531124115\ttest_accuracy = 0.7519893646240234\n",
            "step = 3220\tloss = 0.2197703719139099\ttrain_accuracy = 0.8972148299217224\ttest_accuracy = 0.7506631016731262\n",
            "step = 3230\tloss = 0.23145902156829834\ttrain_accuracy = 0.890141487121582\ttest_accuracy = 0.7539787888526917\n",
            "step = 3240\tloss = 0.23482397198677063\ttrain_accuracy = 0.8947833776473999\ttest_accuracy = 0.7513262629508972\n",
            "step = 3250\tloss = 0.2179199606180191\ttrain_accuracy = 0.8994252681732178\ttest_accuracy = 0.7493368983268738\n",
            "step = 3260\tloss = 0.2340143769979477\ttrain_accuracy = 0.8954464793205261\ttest_accuracy = 0.75\n",
            "step = 3270\tloss = 0.2205323427915573\ttrain_accuracy = 0.8992042541503906\ttest_accuracy = 0.7519893646240234\n",
            "step = 3280\tloss = 0.21644331514835358\ttrain_accuracy = 0.9003094434738159\ttest_accuracy = 0.7513262629508972\n",
            "step = 3290\tloss = 0.22459523379802704\ttrain_accuracy = 0.8994252681732178\ttest_accuracy = 0.7506631016731262\n",
            "step = 3300\tloss = 0.22672328352928162\ttrain_accuracy = 0.8974359035491943\ttest_accuracy = 0.7513262629508972\n",
            "step = 3310\tloss = 0.23367829620838165\ttrain_accuracy = 0.8925729393959045\ttest_accuracy = 0.7506631016731262\n",
            "step = 3320\tloss = 0.221799835562706\ttrain_accuracy = 0.8987621665000916\ttest_accuracy = 0.7566313147544861\n",
            "step = 3330\tloss = 0.22564901411533356\ttrain_accuracy = 0.8967727422714233\ttest_accuracy = 0.7506631016731262\n",
            "step = 3340\tloss = 0.22149820625782013\ttrain_accuracy = 0.8967727422714233\ttest_accuracy = 0.7546418905258179\n",
            "step = 3350\tloss = 0.22035908699035645\ttrain_accuracy = 0.8965517282485962\ttest_accuracy = 0.7546418905258179\n",
            "step = 3360\tloss = 0.22925373911857605\ttrain_accuracy = 0.8934571146965027\ttest_accuracy = 0.7526525259017944\n",
            "step = 3370\tloss = 0.22389335930347443\ttrain_accuracy = 0.8987621665000916\ttest_accuracy = 0.7506631016731262\n",
            "step = 3380\tloss = 0.22333407402038574\ttrain_accuracy = 0.8972148299217224\ttest_accuracy = 0.7559681534767151\n",
            "step = 3390\tloss = 0.22140774130821228\ttrain_accuracy = 0.8992042541503906\ttest_accuracy = 0.7526525259017944\n",
            "step = 3400\tloss = 0.21696995198726654\ttrain_accuracy = 0.9011936187744141\ttest_accuracy = 0.7513262629508972\n",
            "step = 3410\tloss = 0.2203046977519989\ttrain_accuracy = 0.9003094434738159\ttest_accuracy = 0.7473474740982056\n",
            "step = 3420\tloss = 0.21688072383403778\ttrain_accuracy = 0.8989831805229187\ttest_accuracy = 0.7513262629508972\n",
            "step = 3430\tloss = 0.22918707132339478\ttrain_accuracy = 0.8963306546211243\ttest_accuracy = 0.7566313147544861\n",
            "step = 3440\tloss = 0.21545247733592987\ttrain_accuracy = 0.9016357064247131\ttest_accuracy = 0.7572944164276123\n",
            "step = 3450\tloss = 0.21696537733078003\ttrain_accuracy = 0.8980990052223206\ttest_accuracy = 0.7553050518035889\n",
            "step = 3460\tloss = 0.21466679871082306\ttrain_accuracy = 0.8992042541503906\ttest_accuracy = 0.7572944164276123\n",
            "step = 3470\tloss = 0.2207781970500946\ttrain_accuracy = 0.8978779911994934\ttest_accuracy = 0.7519893646240234\n",
            "step = 3480\tloss = 0.21590566635131836\ttrain_accuracy = 0.9000884294509888\ttest_accuracy = 0.7506631016731262\n",
            "step = 3490\tloss = 0.21849822998046875\ttrain_accuracy = 0.8989831805229187\ttest_accuracy = 0.7559681534767151\n",
            "step = 3500\tloss = 0.22827528417110443\ttrain_accuracy = 0.8934571146965027\ttest_accuracy = 0.7553050518035889\n",
            "step = 3510\tloss = 0.2321586012840271\ttrain_accuracy = 0.8943412899971008\ttest_accuracy = 0.7519893646240234\n",
            "step = 3520\tloss = 0.22059877216815948\ttrain_accuracy = 0.8910256624221802\ttest_accuracy = 0.7526525259017944\n",
            "step = 3530\tloss = 0.22273188829421997\ttrain_accuracy = 0.8976569175720215\ttest_accuracy = 0.7533156275749207\n",
            "step = 3540\tloss = 0.215691938996315\ttrain_accuracy = 0.901414692401886\ttest_accuracy = 0.7506631016731262\n",
            "step = 3550\tloss = 0.21910648047924042\ttrain_accuracy = 0.8987621665000916\ttest_accuracy = 0.7533156275749207\n",
            "step = 3560\tloss = 0.22790919244289398\ttrain_accuracy = 0.8892573118209839\ttest_accuracy = 0.7519893646240234\n",
            "step = 3570\tloss = 0.22398889064788818\ttrain_accuracy = 0.8983200788497925\ttest_accuracy = 0.7486737370491028\n",
            "step = 3580\tloss = 0.2172168642282486\ttrain_accuracy = 0.8987621665000916\ttest_accuracy = 0.7513262629508972\n",
            "step = 3590\tloss = 0.22667744755744934\ttrain_accuracy = 0.8974359035491943\ttest_accuracy = 0.7506631016731262\n",
            "step = 3600\tloss = 0.2174186110496521\ttrain_accuracy = 0.8978779911994934\ttest_accuracy = 0.7486737370491028\n",
            "step = 3610\tloss = 0.21879811584949493\ttrain_accuracy = 0.8992042541503906\ttest_accuracy = 0.7513262629508972\n",
            "step = 3620\tloss = 0.21749380230903625\ttrain_accuracy = 0.8996463418006897\ttest_accuracy = 0.7493368983268738\n",
            "step = 3630\tloss = 0.21392615139484406\ttrain_accuracy = 0.9027409553527832\ttest_accuracy = 0.7466843724250793\n",
            "step = 3640\tloss = 0.22282028198242188\ttrain_accuracy = 0.901414692401886\ttest_accuracy = 0.7466843724250793\n",
            "step = 3650\tloss = 0.2170255035161972\ttrain_accuracy = 0.9022988677024841\ttest_accuracy = 0.7553050518035889\n",
            "step = 3660\tloss = 0.22271370887756348\ttrain_accuracy = 0.8921308517456055\ttest_accuracy = 0.7579575777053833\n",
            "step = 3670\tloss = 0.21538935601711273\ttrain_accuracy = 0.8976569175720215\ttest_accuracy = 0.7526525259017944\n",
            "step = 3680\tloss = 0.2182539403438568\ttrain_accuracy = 0.8965517282485962\ttest_accuracy = 0.7486737370491028\n",
            "step = 3690\tloss = 0.22012141346931458\ttrain_accuracy = 0.8978779911994934\ttest_accuracy = 0.7453581094741821\n",
            "step = 3700\tloss = 0.21265922486782074\ttrain_accuracy = 0.8987621665000916\ttest_accuracy = 0.75\n",
            "step = 3710\tloss = 0.22563906013965607\ttrain_accuracy = 0.8998673558235168\ttest_accuracy = 0.7592838406562805\n",
            "step = 3720\tloss = 0.23155078291893005\ttrain_accuracy = 0.8903625011444092\ttest_accuracy = 0.7546418905258179\n",
            "step = 3730\tloss = 0.22066427767276764\ttrain_accuracy = 0.8969938158988953\ttest_accuracy = 0.7446949481964111\n",
            "step = 3740\tloss = 0.22304341197013855\ttrain_accuracy = 0.8954464793205261\ttest_accuracy = 0.7446949481964111\n",
            "step = 3750\tloss = 0.22389663755893707\ttrain_accuracy = 0.8987621665000916\ttest_accuracy = 0.7473474740982056\n",
            "step = 3760\tloss = 0.21533410251140594\ttrain_accuracy = 0.9025198817253113\ttest_accuracy = 0.7559681534767151\n",
            "step = 3770\tloss = 0.22076454758644104\ttrain_accuracy = 0.895225465297699\ttest_accuracy = 0.7519893646240234\n",
            "step = 3780\tloss = 0.2230851650238037\ttrain_accuracy = 0.8967727422714233\ttest_accuracy = 0.7460212111473083\n",
            "step = 3790\tloss = 0.21301189064979553\ttrain_accuracy = 0.9025198817253113\ttest_accuracy = 0.7473474740982056\n",
            "step = 3800\tloss = 0.2211034744977951\ttrain_accuracy = 0.8994252681732178\ttest_accuracy = 0.7480106353759766\n",
            "step = 3810\tloss = 0.2125362753868103\ttrain_accuracy = 0.9022988677024841\ttest_accuracy = 0.7539787888526917\n",
            "step = 3820\tloss = 0.2223907858133316\ttrain_accuracy = 0.8978779911994934\ttest_accuracy = 0.7493368983268738\n",
            "step = 3830\tloss = 0.22007229924201965\ttrain_accuracy = 0.9003094434738159\ttest_accuracy = 0.75\n",
            "step = 3840\tloss = 0.22059762477874756\ttrain_accuracy = 0.8996463418006897\ttest_accuracy = 0.7480106353759766\n",
            "step = 3850\tloss = 0.21984273195266724\ttrain_accuracy = 0.8985410928726196\ttest_accuracy = 0.7506631016731262\n",
            "step = 3860\tloss = 0.2253294587135315\ttrain_accuracy = 0.8992042541503906\ttest_accuracy = 0.7473474740982056\n",
            "step = 3870\tloss = 0.2306746542453766\ttrain_accuracy = 0.8992042541503906\ttest_accuracy = 0.7526525259017944\n",
            "step = 3880\tloss = 0.22165676951408386\ttrain_accuracy = 0.9000884294509888\ttest_accuracy = 0.7533156275749207\n",
            "step = 3890\tloss = 0.21140305697917938\ttrain_accuracy = 0.8987621665000916\ttest_accuracy = 0.7493368983268738\n",
            "step = 3900\tloss = 0.21310141682624817\ttrain_accuracy = 0.8987621665000916\ttest_accuracy = 0.7519893646240234\n",
            "step = 3910\tloss = 0.22033493220806122\ttrain_accuracy = 0.8967727422714233\ttest_accuracy = 0.7539787888526917\n",
            "step = 3920\tloss = 0.21598508954048157\ttrain_accuracy = 0.8998673558235168\ttest_accuracy = 0.75\n",
            "step = 3930\tloss = 0.21841058135032654\ttrain_accuracy = 0.9011936187744141\ttest_accuracy = 0.75\n",
            "step = 3940\tloss = 0.21374444663524628\ttrain_accuracy = 0.8996463418006897\ttest_accuracy = 0.7553050518035889\n",
            "step = 3950\tloss = 0.21789832413196564\ttrain_accuracy = 0.8989831805229187\ttest_accuracy = 0.7519893646240234\n",
            "step = 3960\tloss = 0.23012739419937134\ttrain_accuracy = 0.8954464793205261\ttest_accuracy = 0.7553050518035889\n",
            "step = 3970\tloss = 0.22731056809425354\ttrain_accuracy = 0.8965517282485962\ttest_accuracy = 0.7632625699043274\n",
            "step = 3980\tloss = 0.21711419522762299\ttrain_accuracy = 0.8919098377227783\ttest_accuracy = 0.7420424222946167\n",
            "step = 3990\tloss = 0.21483178436756134\ttrain_accuracy = 0.9029619693756104\ttest_accuracy = 0.7480106353759766\n",
            "step = 4000\tloss = 0.20963607728481293\ttrain_accuracy = 0.9018567800521851\ttest_accuracy = 0.7519893646240234\n",
            "step = 4010\tloss = 0.22045201063156128\ttrain_accuracy = 0.8941202759742737\ttest_accuracy = 0.75\n",
            "step = 4020\tloss = 0.22913803160190582\ttrain_accuracy = 0.895225465297699\ttest_accuracy = 0.7566313147544861\n",
            "step = 4030\tloss = 0.21738433837890625\ttrain_accuracy = 0.9009726047515869\ttest_accuracy = 0.7486737370491028\n",
            "step = 4040\tloss = 0.21721623837947845\ttrain_accuracy = 0.900751531124115\ttest_accuracy = 0.7553050518035889\n",
            "step = 4050\tloss = 0.22116494178771973\ttrain_accuracy = 0.895225465297699\ttest_accuracy = 0.7493368983268738\n",
            "step = 4060\tloss = 0.22517606616020203\ttrain_accuracy = 0.8965517282485962\ttest_accuracy = 0.7519893646240234\n",
            "step = 4070\tloss = 0.21726499497890472\ttrain_accuracy = 0.8980990052223206\ttest_accuracy = 0.7493368983268738\n",
            "step = 4080\tloss = 0.21665124595165253\ttrain_accuracy = 0.9005305171012878\ttest_accuracy = 0.7519893646240234\n",
            "step = 4090\tloss = 0.20672178268432617\ttrain_accuracy = 0.9000884294509888\ttest_accuracy = 0.75\n",
            "step = 4100\tloss = 0.2226942479610443\ttrain_accuracy = 0.8967727422714233\ttest_accuracy = 0.7526525259017944\n",
            "step = 4110\tloss = 0.2115163654088974\ttrain_accuracy = 0.8983200788497925\ttest_accuracy = 0.75\n",
            "step = 4120\tloss = 0.22330690920352936\ttrain_accuracy = 0.8969938158988953\ttest_accuracy = 0.7526525259017944\n",
            "step = 4130\tloss = 0.21689313650131226\ttrain_accuracy = 0.9011936187744141\ttest_accuracy = 0.7526525259017944\n",
            "step = 4140\tloss = 0.21595145761966705\ttrain_accuracy = 0.9011936187744141\ttest_accuracy = 0.7526525259017944\n",
            "step = 4150\tloss = 0.22032588720321655\ttrain_accuracy = 0.8987621665000916\ttest_accuracy = 0.7519893646240234\n",
            "step = 4160\tloss = 0.2190319001674652\ttrain_accuracy = 0.8980990052223206\ttest_accuracy = 0.75\n",
            "step = 4170\tloss = 0.21816033124923706\ttrain_accuracy = 0.9011936187744141\ttest_accuracy = 0.7539787888526917\n",
            "step = 4180\tloss = 0.21870552003383636\ttrain_accuracy = 0.8978779911994934\ttest_accuracy = 0.7553050518035889\n",
            "step = 4190\tloss = 0.22712083160877228\ttrain_accuracy = 0.8954464793205261\ttest_accuracy = 0.7572944164276123\n",
            "step = 4200\tloss = 0.21548013389110565\ttrain_accuracy = 0.901414692401886\ttest_accuracy = 0.7539787888526917\n",
            "step = 4210\tloss = 0.21719180047512054\ttrain_accuracy = 0.8965517282485962\ttest_accuracy = 0.7513262629508972\n",
            "step = 4220\tloss = 0.21552684903144836\ttrain_accuracy = 0.8994252681732178\ttest_accuracy = 0.7506631016731262\n",
            "step = 4230\tloss = 0.22336280345916748\ttrain_accuracy = 0.8969938158988953\ttest_accuracy = 0.75\n",
            "step = 4240\tloss = 0.2202479988336563\ttrain_accuracy = 0.8978779911994934\ttest_accuracy = 0.7539787888526917\n",
            "step = 4250\tloss = 0.22090166807174683\ttrain_accuracy = 0.8996463418006897\ttest_accuracy = 0.7480106353759766\n",
            "step = 4260\tloss = 0.21267680823802948\ttrain_accuracy = 0.9005305171012878\ttest_accuracy = 0.7446949481964111\n",
            "step = 4270\tloss = 0.21168868243694305\ttrain_accuracy = 0.9036251306533813\ttest_accuracy = 0.7559681534767151\n",
            "step = 4280\tloss = 0.22114230692386627\ttrain_accuracy = 0.8932361006736755\ttest_accuracy = 0.7533156275749207\n",
            "step = 4290\tloss = 0.21878188848495483\ttrain_accuracy = 0.8992042541503906\ttest_accuracy = 0.7466843724250793\n",
            "step = 4300\tloss = 0.21548785269260406\ttrain_accuracy = 0.8983200788497925\ttest_accuracy = 0.7480106353759766\n",
            "step = 4310\tloss = 0.21326608955860138\ttrain_accuracy = 0.9000884294509888\ttest_accuracy = 0.7480106353759766\n",
            "step = 4320\tloss = 0.21631665527820587\ttrain_accuracy = 0.895225465297699\ttest_accuracy = 0.7506631016731262\n",
            "step = 4330\tloss = 0.2232196182012558\ttrain_accuracy = 0.8969938158988953\ttest_accuracy = 0.7486737370491028\n",
            "step = 4340\tloss = 0.21841630339622498\ttrain_accuracy = 0.9005305171012878\ttest_accuracy = 0.7513262629508972\n",
            "step = 4350\tloss = 0.2129961997270584\ttrain_accuracy = 0.8985410928726196\ttest_accuracy = 0.7493368983268738\n",
            "step = 4360\tloss = 0.21824021637439728\ttrain_accuracy = 0.8963306546211243\ttest_accuracy = 0.7579575777053833\n",
            "step = 4370\tloss = 0.21735534071922302\ttrain_accuracy = 0.8994252681732178\ttest_accuracy = 0.7519893646240234\n",
            "step = 4380\tloss = 0.22228866815567017\ttrain_accuracy = 0.8992042541503906\ttest_accuracy = 0.7493368983268738\n",
            "step = 4390\tloss = 0.21861907839775085\ttrain_accuracy = 0.895667552947998\ttest_accuracy = 0.7480106353759766\n",
            "step = 4400\tloss = 0.21465109288692474\ttrain_accuracy = 0.9000884294509888\ttest_accuracy = 0.7493368983268738\n",
            "step = 4410\tloss = 0.22249647974967957\ttrain_accuracy = 0.8974359035491943\ttest_accuracy = 0.7546418905258179\n",
            "step = 4420\tloss = 0.21700945496559143\ttrain_accuracy = 0.8976569175720215\ttest_accuracy = 0.7506631016731262\n",
            "step = 4430\tloss = 0.21188358962535858\ttrain_accuracy = 0.901414692401886\ttest_accuracy = 0.75\n",
            "step = 4440\tloss = 0.21790234744548798\ttrain_accuracy = 0.9009726047515869\ttest_accuracy = 0.7513262629508972\n",
            "step = 4450\tloss = 0.21582761406898499\ttrain_accuracy = 0.9018567800521851\ttest_accuracy = 0.75\n",
            "step = 4460\tloss = 0.21099774539470673\ttrain_accuracy = 0.8998673558235168\ttest_accuracy = 0.7506631016731262\n",
            "step = 4470\tloss = 0.21205808222293854\ttrain_accuracy = 0.8938992023468018\ttest_accuracy = 0.75\n",
            "step = 4480\tloss = 0.21362805366516113\ttrain_accuracy = 0.8992042541503906\ttest_accuracy = 0.7513262629508972\n",
            "step = 4490\tloss = 0.21068067848682404\ttrain_accuracy = 0.9034040570259094\ttest_accuracy = 0.7493368983268738\n",
            "step = 4500\tloss = 0.22005435824394226\ttrain_accuracy = 0.8965517282485962\ttest_accuracy = 0.7506631016731262\n",
            "step = 4510\tloss = 0.21370501816272736\ttrain_accuracy = 0.9011936187744141\ttest_accuracy = 0.7466843724250793\n",
            "step = 4520\tloss = 0.21631953120231628\ttrain_accuracy = 0.900751531124115\ttest_accuracy = 0.7486737370491028\n",
            "step = 4530\tloss = 0.21049053966999054\ttrain_accuracy = 0.9022988677024841\ttest_accuracy = 0.7526525259017944\n",
            "step = 4540\tloss = 0.21474285423755646\ttrain_accuracy = 0.9018567800521851\ttest_accuracy = 0.7533156275749207\n",
            "step = 4550\tloss = 0.21303775906562805\ttrain_accuracy = 0.9020777940750122\ttest_accuracy = 0.7526525259017944\n",
            "step = 4560\tloss = 0.21286152303218842\ttrain_accuracy = 0.8967727422714233\ttest_accuracy = 0.7453581094741821\n",
            "step = 4570\tloss = 0.21642331779003143\ttrain_accuracy = 0.8994252681732178\ttest_accuracy = 0.7572944164276123\n",
            "step = 4580\tloss = 0.21674394607543945\ttrain_accuracy = 0.8980990052223206\ttest_accuracy = 0.7546418905258179\n",
            "step = 4590\tloss = 0.2106790542602539\ttrain_accuracy = 0.9025198817253113\ttest_accuracy = 0.7486737370491028\n",
            "step = 4600\tloss = 0.22070875763893127\ttrain_accuracy = 0.900751531124115\ttest_accuracy = 0.7539787888526917\n",
            "step = 4610\tloss = 0.21037930250167847\ttrain_accuracy = 0.900751531124115\ttest_accuracy = 0.7539787888526917\n",
            "step = 4620\tloss = 0.21809875965118408\ttrain_accuracy = 0.9000884294509888\ttest_accuracy = 0.7553050518035889\n",
            "step = 4630\tloss = 0.21362145245075226\ttrain_accuracy = 0.8967727422714233\ttest_accuracy = 0.7572944164276123\n",
            "step = 4640\tloss = 0.22113357484340668\ttrain_accuracy = 0.8958885669708252\ttest_accuracy = 0.7513262629508972\n",
            "step = 4650\tloss = 0.21194607019424438\ttrain_accuracy = 0.8987621665000916\ttest_accuracy = 0.7519893646240234\n",
            "step = 4660\tloss = 0.2117728739976883\ttrain_accuracy = 0.9009726047515869\ttest_accuracy = 0.7493368983268738\n",
            "step = 4670\tloss = 0.21045725047588348\ttrain_accuracy = 0.9020777940750122\ttest_accuracy = 0.7553050518035889\n",
            "step = 4680\tloss = 0.21627117693424225\ttrain_accuracy = 0.900751531124115\ttest_accuracy = 0.7533156275749207\n",
            "step = 4690\tloss = 0.20945897698402405\ttrain_accuracy = 0.900751531124115\ttest_accuracy = 0.7480106353759766\n",
            "step = 4700\tloss = 0.21155382692813873\ttrain_accuracy = 0.9005305171012878\ttest_accuracy = 0.7506631016731262\n",
            "step = 4710\tloss = 0.21136142313480377\ttrain_accuracy = 0.8989831805229187\ttest_accuracy = 0.7533156275749207\n",
            "step = 4720\tloss = 0.21657586097717285\ttrain_accuracy = 0.8978779911994934\ttest_accuracy = 0.7533156275749207\n",
            "step = 4730\tloss = 0.20901642739772797\ttrain_accuracy = 0.9018567800521851\ttest_accuracy = 0.7493368983268738\n",
            "step = 4740\tloss = 0.21483150124549866\ttrain_accuracy = 0.9025198817253113\ttest_accuracy = 0.75\n",
            "step = 4750\tloss = 0.21519848704338074\ttrain_accuracy = 0.901414692401886\ttest_accuracy = 0.7546418905258179\n",
            "step = 4760\tloss = 0.21713946759700775\ttrain_accuracy = 0.8989831805229187\ttest_accuracy = 0.75\n",
            "step = 4770\tloss = 0.20958690345287323\ttrain_accuracy = 0.8989831805229187\ttest_accuracy = 0.7506631016731262\n",
            "step = 4780\tloss = 0.216981902718544\ttrain_accuracy = 0.8983200788497925\ttest_accuracy = 0.7506631016731262\n",
            "step = 4790\tloss = 0.21403932571411133\ttrain_accuracy = 0.9034040570259094\ttest_accuracy = 0.7546418905258179\n",
            "step = 4800\tloss = 0.2142435759305954\ttrain_accuracy = 0.8980990052223206\ttest_accuracy = 0.7546418905258179\n",
            "step = 4810\tloss = 0.2246743142604828\ttrain_accuracy = 0.8978779911994934\ttest_accuracy = 0.7539787888526917\n",
            "step = 4820\tloss = 0.21439777314662933\ttrain_accuracy = 0.9018567800521851\ttest_accuracy = 0.7506631016731262\n",
            "step = 4830\tloss = 0.2135406732559204\ttrain_accuracy = 0.9003094434738159\ttest_accuracy = 0.75\n",
            "step = 4840\tloss = 0.216724693775177\ttrain_accuracy = 0.900751531124115\ttest_accuracy = 0.7486737370491028\n",
            "step = 4850\tloss = 0.21136265993118286\ttrain_accuracy = 0.8994252681732178\ttest_accuracy = 0.7506631016731262\n",
            "step = 4860\tloss = 0.21410396695137024\ttrain_accuracy = 0.8958885669708252\ttest_accuracy = 0.7519893646240234\n",
            "step = 4870\tloss = 0.2148134708404541\ttrain_accuracy = 0.9005305171012878\ttest_accuracy = 0.7539787888526917\n",
            "step = 4880\tloss = 0.2090475708246231\ttrain_accuracy = 0.9025198817253113\ttest_accuracy = 0.75\n",
            "step = 4890\tloss = 0.2077062726020813\ttrain_accuracy = 0.901414692401886\ttest_accuracy = 0.7486737370491028\n",
            "step = 4900\tloss = 0.21050219237804413\ttrain_accuracy = 0.9011936187744141\ttest_accuracy = 0.7539787888526917\n",
            "step = 4910\tloss = 0.22396381199359894\ttrain_accuracy = 0.8989831805229187\ttest_accuracy = 0.75\n",
            "step = 4920\tloss = 0.21898142993450165\ttrain_accuracy = 0.8961096405982971\ttest_accuracy = 0.7526525259017944\n",
            "step = 4930\tloss = 0.22234173119068146\ttrain_accuracy = 0.8925729393959045\ttest_accuracy = 0.7572944164276123\n",
            "step = 4940\tloss = 0.2094980627298355\ttrain_accuracy = 0.8996463418006897\ttest_accuracy = 0.75\n",
            "step = 4950\tloss = 0.2152029126882553\ttrain_accuracy = 0.8963306546211243\ttest_accuracy = 0.7506631016731262\n",
            "step = 4960\tloss = 0.20954622328281403\ttrain_accuracy = 0.9005305171012878\ttest_accuracy = 0.7533156275749207\n",
            "step = 4970\tloss = 0.21055130660533905\ttrain_accuracy = 0.9009726047515869\ttest_accuracy = 0.7519893646240234\n",
            "step = 4980\tloss = 0.21666055917739868\ttrain_accuracy = 0.8932361006736755\ttest_accuracy = 0.7519893646240234\n",
            "step = 4990\tloss = 0.2183583527803421\ttrain_accuracy = 0.8967727422714233\ttest_accuracy = 0.7486737370491028\n"
          ]
        }
      ]
    },
    {
      "cell_type": "code",
      "source": [
        "plt.plot(range(len(train_losses)),train_losses)\n",
        "plt.title(\"Training Losses for first 5000 Epochs\")\n",
        "plt.show()"
      ],
      "metadata": {
        "colab": {
          "base_uri": "https://localhost:8080/",
          "height": 281
        },
        "id": "svBUufa7x5AC",
        "outputId": "f98d9281-d9fa-4f07-fa39-9003b5b5c4b2"
      },
      "execution_count": 35,
      "outputs": [
        {
          "output_type": "display_data",
          "data": {
            "text/plain": [
              "<Figure size 432x288 with 1 Axes>"
            ],
            "image/png": "[encoded data removed]"
          },
          "metadata": {
            "needs_background": "light"
          }
        }
      ]
    },
    {
      "cell_type": "code",
      "source": [
        "plt.plot(range(len(train_accs)),train_accs)\n",
        "plt.title(\"Training Accuracies for first 5000 Epochs\")\n",
        "plt.show()"
      ],
      "metadata": {
        "colab": {
          "base_uri": "https://localhost:8080/",
          "height": 281
        },
        "id": "804LKJxTeL_L",
        "outputId": "b0566ad7-fd6f-46a4-d502-cd00e158a3cd"
      },
      "execution_count": 34,
      "outputs": [
        {
          "output_type": "display_data",
          "data": {
            "text/plain": [
              "<Figure size 432x288 with 1 Axes>"
            ],
            "image/png": "[encoded data removed]"
          },
          "metadata": {
            "needs_background": "light"
          }
        }
      ]
    },
    {
      "cell_type": "code",
      "source": [
        "plt.plot(range(len(test_accs)),test_accs)\n",
        "plt.title(\"Testing Accuracies for first 5000 Epochs\")\n",
        "plt.show()"
      ],
      "metadata": {
        "id": "RKgKVHFIjNBo",
        "outputId": "96acdd9a-9ecf-49cd-aaf6-f7c1b13e8593",
        "colab": {
          "base_uri": "https://localhost:8080/",
          "height": 281
        }
      },
      "execution_count": 37,
      "outputs": [
        {
          "output_type": "display_data",
          "data": {
            "text/plain": [
              "<Figure size 432x288 with 1 Axes>"
            ],
            "image/png": "[encoded data removed]"
          },
          "metadata": {
            "needs_background": "light"
          }
        }
      ]
    },
    {
      "cell_type": "code",
      "source": [
        "max(train_accs)"
      ],
      "metadata": {
        "id": "DGBNRoFADpLe",
        "outputId": "6ef724f6-338b-40c9-a812-4a674a9d06c3",
        "colab": {
          "base_uri": "https://localhost:8080/"
        }
      },
      "execution_count": 38,
      "outputs": [
        {
          "output_type": "execute_result",
          "data": {
            "text/plain": [
              "<tf.Tensor: shape=(), dtype=float32, numpy=0.90362513>"
            ]
          },
          "metadata": {},
          "execution_count": 38
        }
      ]
    },
    {
      "cell_type": "code",
      "source": [
        "max(test_accs)"
      ],
      "metadata": {
        "id": "AGMGgSU6Druy",
        "outputId": "bf2092af-7c44-43f8-afba-59569fe50a49",
        "colab": {
          "base_uri": "https://localhost:8080/"
        }
      },
      "execution_count": 39,
      "outputs": [
        {
          "output_type": "execute_result",
          "data": {
            "text/plain": [
              "<tf.Tensor: shape=(), dtype=float32, numpy=0.76326257>"
            ]
          },
          "metadata": {},
          "execution_count": 39
        }
      ]
    },
    {
      "cell_type": "code",
      "source": [
        ""
      ],
      "metadata": {
        "id": "sf0Jv1g3DtJ0"
      },
      "execution_count": null,
      "outputs": []
    }
  ]
}