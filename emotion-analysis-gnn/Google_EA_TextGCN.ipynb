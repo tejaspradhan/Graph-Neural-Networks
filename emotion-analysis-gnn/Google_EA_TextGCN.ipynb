{
  "nbformat": 4,
  "nbformat_minor": 0,
  "metadata": {
    "colab": {
      "name": "Google_EA_TextGCN.ipynb",
      "provenance": [],
      "collapsed_sections": [],
      "authorship_tag": "ABX9TyMyFzEEjRkuDVYE9PN1U6Ye",
      "include_colab_link": true
    },
    "kernelspec": {
      "name": "python3",
      "display_name": "Python 3"
    },
    "language_info": {
      "name": "python"
    }
  },
  "cells": [
    {
      "cell_type": "markdown",
      "metadata": {
        "id": "view-in-github",
        "colab_type": "text"
      },
      "source": [
        "<a href=\"https://colab.research.google.com/github/tejaspradhan/Graph-Neural-Networks/blob/main/emotion-analysis-gnn/Google_EA_TextGCN.ipynb\" target=\"_parent\"><img src=\"https://colab.research.google.com/assets/colab-badge.svg\" alt=\"Open In Colab\"/></a>"
      ]
    },
    {
      "cell_type": "code",
      "source": [
        "! pip install -U tf_geometric"
      ],
      "metadata": {
        "colab": {
          "base_uri": "https://localhost:8080/"
        },
        "id": "PzJIxwh0wUL0",
        "outputId": "fbb96971-7e5f-4435-bf5e-80359669ac9f"
      },
      "execution_count": 1,
      "outputs": [
        {
          "output_type": "stream",
          "name": "stdout",
          "text": [
            "Looking in indexes: https://pypi.org/simple, https://us-python.pkg.dev/colab-wheels/public/simple/\n",
            "Requirement already satisfied: tf_geometric in /usr/local/lib/python3.7/dist-packages (0.0.85)\n",
            "Requirement already satisfied: numpy>=1.17.4 in /usr/local/lib/python3.7/dist-packages (from tf_geometric) (1.21.6)\n",
            "Requirement already satisfied: scikit-learn>=0.22 in /usr/local/lib/python3.7/dist-packages (from tf_geometric) (1.0.2)\n",
            "Requirement already satisfied: scipy>=1.1.0 in /usr/local/lib/python3.7/dist-packages (from tf_geometric) (1.4.1)\n",
            "Requirement already satisfied: tqdm in /usr/local/lib/python3.7/dist-packages (from tf_geometric) (4.64.0)\n",
            "Requirement already satisfied: networkx>=2.1 in /usr/local/lib/python3.7/dist-packages (from tf_geometric) (2.6.3)\n",
            "Requirement already satisfied: ogb-lite>=0.0.3 in /usr/local/lib/python3.7/dist-packages (from tf_geometric) (0.0.3)\n",
            "Requirement already satisfied: tf-sparse>=0.0.12 in /usr/local/lib/python3.7/dist-packages (from tf_geometric) (0.0.12)\n",
            "Requirement already satisfied: outdated>=0.2.0 in /usr/local/lib/python3.7/dist-packages (from ogb-lite>=0.0.3->tf_geometric) (0.2.1)\n",
            "Requirement already satisfied: pandas>=0.24.0 in /usr/local/lib/python3.7/dist-packages (from ogb-lite>=0.0.3->tf_geometric) (1.3.5)\n",
            "Requirement already satisfied: six>=1.12.0 in /usr/local/lib/python3.7/dist-packages (from ogb-lite>=0.0.3->tf_geometric) (1.15.0)\n",
            "Requirement already satisfied: urllib3>=1.24.0 in /usr/local/lib/python3.7/dist-packages (from ogb-lite>=0.0.3->tf_geometric) (1.24.3)\n",
            "Requirement already satisfied: requests in /usr/local/lib/python3.7/dist-packages (from outdated>=0.2.0->ogb-lite>=0.0.3->tf_geometric) (2.23.0)\n",
            "Requirement already satisfied: littleutils in /usr/local/lib/python3.7/dist-packages (from outdated>=0.2.0->ogb-lite>=0.0.3->tf_geometric) (0.2.2)\n",
            "Requirement already satisfied: python-dateutil>=2.7.3 in /usr/local/lib/python3.7/dist-packages (from pandas>=0.24.0->ogb-lite>=0.0.3->tf_geometric) (2.8.2)\n",
            "Requirement already satisfied: pytz>=2017.3 in /usr/local/lib/python3.7/dist-packages (from pandas>=0.24.0->ogb-lite>=0.0.3->tf_geometric) (2022.1)\n",
            "Requirement already satisfied: joblib>=0.11 in /usr/local/lib/python3.7/dist-packages (from scikit-learn>=0.22->tf_geometric) (1.1.0)\n",
            "Requirement already satisfied: threadpoolctl>=2.0.0 in /usr/local/lib/python3.7/dist-packages (from scikit-learn>=0.22->tf_geometric) (3.1.0)\n",
            "Requirement already satisfied: certifi>=2017.4.17 in /usr/local/lib/python3.7/dist-packages (from requests->outdated>=0.2.0->ogb-lite>=0.0.3->tf_geometric) (2022.6.15)\n",
            "Requirement already satisfied: idna<3,>=2.5 in /usr/local/lib/python3.7/dist-packages (from requests->outdated>=0.2.0->ogb-lite>=0.0.3->tf_geometric) (2.10)\n",
            "Requirement already satisfied: chardet<4,>=3.0.2 in /usr/local/lib/python3.7/dist-packages (from requests->outdated>=0.2.0->ogb-lite>=0.0.3->tf_geometric) (3.0.4)\n"
          ]
        }
      ]
    },
    {
      "cell_type": "code",
      "source": [
        "! pip install kaggle"
      ],
      "metadata": {
        "colab": {
          "base_uri": "https://localhost:8080/"
        },
        "id": "yKEXnFYoJOUb",
        "outputId": "cfd082a6-f702-4678-e8a8-e03b97ba2078"
      },
      "execution_count": 2,
      "outputs": [
        {
          "output_type": "stream",
          "name": "stdout",
          "text": [
            "Looking in indexes: https://pypi.org/simple, https://us-python.pkg.dev/colab-wheels/public/simple/\n",
            "Requirement already satisfied: kaggle in /usr/local/lib/python3.7/dist-packages (1.5.12)\n",
            "Requirement already satisfied: python-slugify in /usr/local/lib/python3.7/dist-packages (from kaggle) (6.1.2)\n",
            "Requirement already satisfied: six>=1.10 in /usr/local/lib/python3.7/dist-packages (from kaggle) (1.15.0)\n",
            "Requirement already satisfied: tqdm in /usr/local/lib/python3.7/dist-packages (from kaggle) (4.64.0)\n",
            "Requirement already satisfied: urllib3 in /usr/local/lib/python3.7/dist-packages (from kaggle) (1.24.3)\n",
            "Requirement already satisfied: python-dateutil in /usr/local/lib/python3.7/dist-packages (from kaggle) (2.8.2)\n",
            "Requirement already satisfied: certifi in /usr/local/lib/python3.7/dist-packages (from kaggle) (2022.6.15)\n",
            "Requirement already satisfied: requests in /usr/local/lib/python3.7/dist-packages (from kaggle) (2.23.0)\n",
            "Requirement already satisfied: text-unidecode>=1.3 in /usr/local/lib/python3.7/dist-packages (from python-slugify->kaggle) (1.3)\n",
            "Requirement already satisfied: chardet<4,>=3.0.2 in /usr/local/lib/python3.7/dist-packages (from requests->kaggle) (3.0.4)\n",
            "Requirement already satisfied: idna<3,>=2.5 in /usr/local/lib/python3.7/dist-packages (from requests->kaggle) (2.10)\n"
          ]
        }
      ]
    },
    {
      "cell_type": "code",
      "execution_count": 3,
      "metadata": {
        "colab": {
          "base_uri": "https://localhost:8080/"
        },
        "id": "x-JFG2OuhHrz",
        "outputId": "dbf2fce1-5478-45eb-ae50-9a797681b5c0"
      },
      "outputs": [
        {
          "output_type": "stream",
          "name": "stderr",
          "text": [
            "/usr/local/lib/python3.7/dist-packages/scipy/fft/__init__.py:97: DeprecationWarning: The module numpy.dual is deprecated.  Instead of using dual, use the functions directly from numpy or scipy.\n",
            "  from numpy.dual import register_func\n",
            "/usr/local/lib/python3.7/dist-packages/scipy/sparse/sputils.py:17: DeprecationWarning: `np.typeDict` is a deprecated alias for `np.sctypeDict`.\n",
            "  supported_dtypes = [np.typeDict[x] for x in supported_dtypes]\n",
            "/usr/local/lib/python3.7/dist-packages/scipy/sparse/sputils.py:17: DeprecationWarning: `np.typeDict` is a deprecated alias for `np.sctypeDict`.\n",
            "  supported_dtypes = [np.typeDict[x] for x in supported_dtypes]\n",
            "/usr/local/lib/python3.7/dist-packages/scipy/sparse/sputils.py:17: DeprecationWarning: `np.typeDict` is a deprecated alias for `np.sctypeDict`.\n",
            "  supported_dtypes = [np.typeDict[x] for x in supported_dtypes]\n",
            "/usr/local/lib/python3.7/dist-packages/scipy/sparse/sputils.py:17: DeprecationWarning: `np.typeDict` is a deprecated alias for `np.sctypeDict`.\n",
            "  supported_dtypes = [np.typeDict[x] for x in supported_dtypes]\n",
            "/usr/local/lib/python3.7/dist-packages/scipy/sparse/sputils.py:17: DeprecationWarning: `np.typeDict` is a deprecated alias for `np.sctypeDict`.\n",
            "  supported_dtypes = [np.typeDict[x] for x in supported_dtypes]\n",
            "/usr/local/lib/python3.7/dist-packages/scipy/sparse/sputils.py:17: DeprecationWarning: `np.typeDict` is a deprecated alias for `np.sctypeDict`.\n",
            "  supported_dtypes = [np.typeDict[x] for x in supported_dtypes]\n",
            "/usr/local/lib/python3.7/dist-packages/scipy/sparse/sputils.py:17: DeprecationWarning: `np.typeDict` is a deprecated alias for `np.sctypeDict`.\n",
            "  supported_dtypes = [np.typeDict[x] for x in supported_dtypes]\n",
            "/usr/local/lib/python3.7/dist-packages/scipy/sparse/sputils.py:17: DeprecationWarning: `np.typeDict` is a deprecated alias for `np.sctypeDict`.\n",
            "  supported_dtypes = [np.typeDict[x] for x in supported_dtypes]\n",
            "/usr/local/lib/python3.7/dist-packages/scipy/sparse/sputils.py:17: DeprecationWarning: `np.typeDict` is a deprecated alias for `np.sctypeDict`.\n",
            "  supported_dtypes = [np.typeDict[x] for x in supported_dtypes]\n",
            "/usr/local/lib/python3.7/dist-packages/scipy/sparse/sputils.py:17: DeprecationWarning: `np.typeDict` is a deprecated alias for `np.sctypeDict`.\n",
            "  supported_dtypes = [np.typeDict[x] for x in supported_dtypes]\n",
            "/usr/local/lib/python3.7/dist-packages/scipy/sparse/sputils.py:17: DeprecationWarning: `np.typeDict` is a deprecated alias for `np.sctypeDict`.\n",
            "  supported_dtypes = [np.typeDict[x] for x in supported_dtypes]\n",
            "/usr/local/lib/python3.7/dist-packages/scipy/sparse/sputils.py:17: DeprecationWarning: `np.typeDict` is a deprecated alias for `np.sctypeDict`.\n",
            "  supported_dtypes = [np.typeDict[x] for x in supported_dtypes]\n",
            "/usr/local/lib/python3.7/dist-packages/scipy/sparse/sputils.py:17: DeprecationWarning: `np.typeDict` is a deprecated alias for `np.sctypeDict`.\n",
            "  supported_dtypes = [np.typeDict[x] for x in supported_dtypes]\n",
            "/usr/local/lib/python3.7/dist-packages/scipy/sparse/sputils.py:17: DeprecationWarning: `np.typeDict` is a deprecated alias for `np.sctypeDict`.\n",
            "  supported_dtypes = [np.typeDict[x] for x in supported_dtypes]\n",
            "/usr/local/lib/python3.7/dist-packages/scipy/sparse/sputils.py:17: DeprecationWarning: `np.typeDict` is a deprecated alias for `np.sctypeDict`.\n",
            "  supported_dtypes = [np.typeDict[x] for x in supported_dtypes]\n",
            "/usr/local/lib/python3.7/dist-packages/scipy/special/orthogonal.py:81: DeprecationWarning: `np.int` is a deprecated alias for the builtin `int`. To silence this warning, use `int` by itself. Doing this will not modify any behavior and is safe. When replacing `np.int`, you may wish to use e.g. `np.int64` or `np.int32` to specify the precision. If you wish to review your current use, check the release note link for additional information.\n",
            "Deprecated in NumPy 1.20; for more details and guidance: https://numpy.org/devdocs/release/1.20.0-notes.html#deprecations\n",
            "  from numpy import (exp, inf, pi, sqrt, floor, sin, cos, around, int,\n",
            "/usr/local/lib/python3.7/dist-packages/scipy/special/orthogonal.py:81: DeprecationWarning: `np.int` is a deprecated alias for the builtin `int`. To silence this warning, use `int` by itself. Doing this will not modify any behavior and is safe. When replacing `np.int`, you may wish to use e.g. `np.int64` or `np.int32` to specify the precision. If you wish to review your current use, check the release note link for additional information.\n",
            "Deprecated in NumPy 1.20; for more details and guidance: https://numpy.org/devdocs/release/1.20.0-notes.html#deprecations\n",
            "  from numpy import (exp, inf, pi, sqrt, floor, sin, cos, around, int,\n",
            "/usr/local/lib/python3.7/dist-packages/scipy/io/matlab/mio5.py:98: DeprecationWarning: `np.bool` is a deprecated alias for the builtin `bool`. To silence this warning, use `bool` by itself. Doing this will not modify any behavior and is safe. If you specifically wanted the numpy scalar type, use `np.bool_` here.\n",
            "Deprecated in NumPy 1.20; for more details and guidance: https://numpy.org/devdocs/release/1.20.0-notes.html#deprecations\n",
            "  from .mio5_utils import VarReader5\n",
            "[nltk_data] Downloading package stopwords to /root/nltk_data...\n",
            "[nltk_data]   Package stopwords is already up-to-date!\n"
          ]
        }
      ],
      "source": [
        "import os\n",
        "from tf_geometric.utils import tf_utils\n",
        "\n",
        "os.environ[\"CUDA_VISIBLE_DEVICES\"] = \"1\"\n",
        "import numpy as np\n",
        "import pandas as pd\n",
        "from collections import Counter\n",
        "import matplotlib.pyplot as plt\n",
        "\n",
        "import nltk\n",
        "import string\n",
        "from nltk.corpus import stopwords\n",
        "from nltk.stem.wordnet import WordNetLemmatizer\n",
        "# # In case of any corpus are missing \n",
        "# download all-nltk\n",
        "nltk.download('stopwords')\n",
        "stop_words = stopwords.words(\"english\")\n",
        "\n",
        "from tqdm import tqdm\n",
        "\n",
        "from sklearn.model_selection import train_test_split\n",
        "from tensorflow.keras.preprocessing.text import Tokenizer\n",
        "from tensorflow import keras\n",
        "import tensorflow as tf\n",
        "import tf_geometric as tfg\n",
        "import pickle\n",
        "import re"
      ]
    },
    {
      "cell_type": "markdown",
      "source": [
        "## Downloading and Exploring Data"
      ],
      "metadata": {
        "id": "JiKYFfvIK36F"
      }
    },
    {
      "cell_type": "code",
      "source": [
        "!rm -r ~/.kaggle\n",
        "!mkdir ~/.kaggle\n",
        "!mv ./kaggle.json ~/.kaggle/\n",
        "!chmod 600 ~/.kaggle/kaggle.json"
      ],
      "metadata": {
        "colab": {
          "base_uri": "https://localhost:8080/"
        },
        "id": "Ls38cMEXJL76",
        "outputId": "9af358e9-cded-4928-c3d5-cd8689a7e2f8"
      },
      "execution_count": 4,
      "outputs": [
        {
          "output_type": "stream",
          "name": "stdout",
          "text": [
            "mv: cannot stat './kaggle.json': No such file or directory\n",
            "chmod: cannot access '/root/.kaggle/kaggle.json': No such file or directory\n"
          ]
        }
      ]
    },
    {
      "cell_type": "code",
      "source": [
        "!kaggle datasets download -d shivamb/go-emotions-google-emotions-dataset"
      ],
      "metadata": {
        "colab": {
          "base_uri": "https://localhost:8080/"
        },
        "id": "usdv07I_KpzI",
        "outputId": "c7454f1d-4d6f-4ce1-af1a-b8ca57b4ee4f"
      },
      "execution_count": 5,
      "outputs": [
        {
          "output_type": "stream",
          "name": "stdout",
          "text": [
            "Traceback (most recent call last):\n",
            "  File \"/usr/local/bin/kaggle\", line 5, in <module>\n",
            "    from kaggle.cli import main\n",
            "  File \"/usr/local/lib/python3.7/dist-packages/kaggle/__init__.py\", line 23, in <module>\n",
            "    api.authenticate()\n",
            "  File \"/usr/local/lib/python3.7/dist-packages/kaggle/api/kaggle_api_extended.py\", line 166, in authenticate\n",
            "    self.config_file, self.config_dir))\n",
            "OSError: Could not find kaggle.json. Make sure it's located in /root/.kaggle. Or use the environment method.\n"
          ]
        }
      ]
    },
    {
      "cell_type": "code",
      "source": [
        "!unzip /content/go-emotions-google-emotions-dataset.zip"
      ],
      "metadata": {
        "colab": {
          "base_uri": "https://localhost:8080/"
        },
        "id": "uJcQc8DjKuWU",
        "outputId": "fbb26408-7d4d-4e78-85c8-22987271ee23"
      },
      "execution_count": 6,
      "outputs": [
        {
          "output_type": "stream",
          "name": "stdout",
          "text": [
            "Archive:  /content/go-emotions-google-emotions-dataset.zip\n",
            "replace go_emotions_dataset.csv? [y]es, [n]o, [A]ll, [N]one, [r]ename: A\n",
            "  inflating: go_emotions_dataset.csv  \n"
          ]
        }
      ]
    },
    {
      "cell_type": "code",
      "source": [
        "data = pd.read_csv('/content/go_emotions_dataset.csv')"
      ],
      "metadata": {
        "id": "JOlPotx4K2wa"
      },
      "execution_count": 7,
      "outputs": []
    },
    {
      "cell_type": "code",
      "source": [
        "data.shape"
      ],
      "metadata": {
        "colab": {
          "base_uri": "https://localhost:8080/"
        },
        "id": "s-U0sL1BMBU8",
        "outputId": "198889ce-b23b-4b69-e091-28b650d8ce70"
      },
      "execution_count": 8,
      "outputs": [
        {
          "output_type": "execute_result",
          "data": {
            "text/plain": [
              "(211225, 31)"
            ]
          },
          "metadata": {},
          "execution_count": 8
        }
      ]
    },
    {
      "cell_type": "code",
      "source": [
        "data.drop(data[data['example_very_unclear']==True].index,inplace=True)"
      ],
      "metadata": {
        "id": "izRH5_doLCvs"
      },
      "execution_count": 9,
      "outputs": []
    },
    {
      "cell_type": "code",
      "source": [
        "data.isna().sum()"
      ],
      "metadata": {
        "colab": {
          "base_uri": "https://localhost:8080/"
        },
        "id": "2ZAAvxvhMf3u",
        "outputId": "72dfaca0-b0ee-4b48-a1fb-65d10af4ee25"
      },
      "execution_count": 10,
      "outputs": [
        {
          "output_type": "execute_result",
          "data": {
            "text/plain": [
              "id                      0\n",
              "text                    0\n",
              "example_very_unclear    0\n",
              "admiration              0\n",
              "amusement               0\n",
              "anger                   0\n",
              "annoyance               0\n",
              "approval                0\n",
              "caring                  0\n",
              "confusion               0\n",
              "curiosity               0\n",
              "desire                  0\n",
              "disappointment          0\n",
              "disapproval             0\n",
              "disgust                 0\n",
              "embarrassment           0\n",
              "excitement              0\n",
              "fear                    0\n",
              "gratitude               0\n",
              "grief                   0\n",
              "joy                     0\n",
              "love                    0\n",
              "nervousness             0\n",
              "optimism                0\n",
              "pride                   0\n",
              "realization             0\n",
              "relief                  0\n",
              "remorse                 0\n",
              "sadness                 0\n",
              "surprise                0\n",
              "neutral                 0\n",
              "dtype: int64"
            ]
          },
          "metadata": {},
          "execution_count": 10
        }
      ]
    },
    {
      "cell_type": "code",
      "source": [
        "data.columns"
      ],
      "metadata": {
        "colab": {
          "base_uri": "https://localhost:8080/"
        },
        "id": "diVglgLMMpfC",
        "outputId": "440d6a35-39be-4850-fc2e-44f7233be563"
      },
      "execution_count": 11,
      "outputs": [
        {
          "output_type": "execute_result",
          "data": {
            "text/plain": [
              "Index(['id', 'text', 'example_very_unclear', 'admiration', 'amusement',\n",
              "       'anger', 'annoyance', 'approval', 'caring', 'confusion', 'curiosity',\n",
              "       'desire', 'disappointment', 'disapproval', 'disgust', 'embarrassment',\n",
              "       'excitement', 'fear', 'gratitude', 'grief', 'joy', 'love',\n",
              "       'nervousness', 'optimism', 'pride', 'realization', 'relief', 'remorse',\n",
              "       'sadness', 'surprise', 'neutral'],\n",
              "      dtype='object')"
            ]
          },
          "metadata": {},
          "execution_count": 11
        }
      ]
    },
    {
      "cell_type": "markdown",
      "source": [
        "## Data Preprocessing"
      ],
      "metadata": {
        "id": "pJog0K7EK0f2"
      }
    },
    {
      "cell_type": "code",
      "source": [
        "def clean_text(x):\n",
        "  x = x.lower()\n",
        "  x = ' '.join([word for word in x.split(' ') if word not in stop_words])\n",
        "  x = x.encode('ascii', 'ignore').decode()\n",
        "  x = re.sub(r'https*\\S+', ' ', x)\n",
        "  x = re.sub(r'@\\S+', ' ', x)\n",
        "  x = re.sub(r'#\\S+', ' ', x)\n",
        "  x = re.sub(r'\\'\\w+', '', x)\n",
        "  x = re.sub('[%s]' % re.escape(string.punctuation), ' ', x)\n",
        "  x = re.sub(r'\\w*\\d+\\w*', '', x)\n",
        "  x = re.sub(r'\\s{2,}', ' ', x)\n",
        "  return x"
      ],
      "metadata": {
        "id": "xzBeg0N7ufRD"
      },
      "execution_count": 12,
      "outputs": []
    },
    {
      "cell_type": "code",
      "source": [
        "data['text'] = data['text'].apply(clean_text)"
      ],
      "metadata": {
        "id": "teHPnGjZwkM9"
      },
      "execution_count": 13,
      "outputs": []
    },
    {
      "cell_type": "code",
      "source": [
        "texts = data['text']\n",
        "print(texts.shape)\n",
        "labels = data[['admiration', 'amusement',\n",
        "       'anger', 'annoyance', 'approval', 'caring', 'confusion', 'curiosity',\n",
        "       'desire', 'disappointment', 'disapproval', 'disgust', 'embarrassment',\n",
        "       'excitement', 'fear', 'gratitude', 'grief', 'joy', 'love',\n",
        "       'nervousness', 'optimism', 'pride', 'realization', 'relief', 'remorse',\n",
        "       'sadness', 'surprise', 'neutral']]\n",
        "print(labels.shape)"
      ],
      "metadata": {
        "colab": {
          "base_uri": "https://localhost:8080/"
        },
        "id": "dzBgupHXMmr2",
        "outputId": "cfc9e8de-4338-4b73-91cd-fd36ebff0111"
      },
      "execution_count": 14,
      "outputs": [
        {
          "output_type": "stream",
          "name": "stdout",
          "text": [
            "(207814,)\n",
            "(207814, 28)\n"
          ]
        }
      ]
    },
    {
      "cell_type": "code",
      "source": [
        "train_texts,test_texts,train_labels,test_labels = train_test_split(texts,labels)"
      ],
      "metadata": {
        "id": "1d19dWDaNGYA"
      },
      "execution_count": 15,
      "outputs": []
    },
    {
      "cell_type": "code",
      "source": [
        "print(train_texts.shape)\n",
        "print(test_texts.shape)\n",
        "print(train_labels.shape)\n",
        "print(test_labels.shape)\n"
      ],
      "metadata": {
        "colab": {
          "base_uri": "https://localhost:8080/"
        },
        "id": "-kAII58fNSHy",
        "outputId": "8f61e509-9a50-457c-c167-20bb83db4f4e"
      },
      "execution_count": 16,
      "outputs": [
        {
          "output_type": "stream",
          "name": "stdout",
          "text": [
            "(155860,)\n",
            "(51954,)\n",
            "(155860, 28)\n",
            "(51954, 28)\n"
          ]
        }
      ]
    },
    {
      "cell_type": "code",
      "source": [
        "tokenizer = Tokenizer()\n",
        "tokenizer.fit_on_texts(train_texts)\n",
        "\n",
        "train_sequences = tokenizer.texts_to_sequences(train_texts)\n",
        "test_sequences = tokenizer.texts_to_sequences(test_texts)"
      ],
      "metadata": {
        "id": "WDNpmoBew_kK"
      },
      "execution_count": 17,
      "outputs": []
    },
    {
      "cell_type": "code",
      "source": [
        "class PMIModel(object):\n",
        "\n",
        "    def __init__(self):\n",
        "        self.word_counter = None\n",
        "        self.pair_counter = None\n",
        "\n",
        "    def get_pair_id(self, word0, word1):\n",
        "        pair_id = tuple(sorted([word0, word1]))\n",
        "        return pair_id\n",
        "\n",
        "    def fit(self, sequences, window_size):\n",
        "\n",
        "        self.word_counter = Counter()\n",
        "        self.pair_counter = Counter()\n",
        "        num_windows = 0\n",
        "        for sequence in tqdm(sequences):\n",
        "            for offset in range(len(sequence) - window_size):\n",
        "                window = sequence[offset:offset + window_size]\n",
        "                num_windows += 1\n",
        "                for i, word0 in enumerate(window):\n",
        "                    self.word_counter[word0] += 1\n",
        "                    for j, word1 in enumerate(window[i + 1:]):\n",
        "                        pair_id = self.get_pair_id(word0, word1)\n",
        "                        self.pair_counter[pair_id] += 1\n",
        "\n",
        "        for word, count in self.word_counter.items():\n",
        "            self.word_counter[word] = count / num_windows\n",
        "        for pair_id, count in self.pair_counter.items():\n",
        "            self.pair_counter[pair_id] = count / num_windows\n",
        "\n",
        "    def transform(self, word0, word1):\n",
        "        prob_a = self.word_counter[word0]\n",
        "        prob_b = self.word_counter[word1]\n",
        "        pair_id = self.get_pair_id(word0, word1)\n",
        "        prob_pair = self.pair_counter[pair_id]\n",
        "\n",
        "        if prob_a == 0 or prob_b == 0 or prob_pair == 0:\n",
        "           return 0\n",
        "\n",
        "        pmi = np.log(prob_pair / (prob_a * prob_b))\n",
        "        # print(word0, word1, pmi)\n",
        "        pmi = np.maximum(pmi, 0.0)\n",
        "        # print(pmi)\n",
        "        return pmi"
      ],
      "metadata": {
        "id": "JwYNvLtkxEjV"
      },
      "execution_count": 18,
      "outputs": []
    },
    {
      "cell_type": "code",
      "source": [
        "def build_word_graph(num_words, pmi_model, embedding_size):\n",
        "    x = tf.Variable(tf.random.truncated_normal([num_words, embedding_size], stddev=1 / np.sqrt(embedding_size)),\n",
        "                    dtype=tf.float32)\n",
        "    edges = []\n",
        "    edge_weight = []\n",
        "    for (word0, word1) in pmi_model.pair_counter.keys():\n",
        "        pmi = pmi_model.transform(word0, word1)\n",
        "        if pmi > 0:\n",
        "            edges.append([word0, word1])\n",
        "            edge_weight.append(pmi)\n",
        "            edges.append([word1, word0])\n",
        "            edge_weight.append(pmi)\n",
        "    edge_index = np.array(edges).T\n",
        "    return tfg.Graph(x=x, edge_index=edge_index, edge_weight=edge_weight)"
      ],
      "metadata": {
        "id": "2vRdqgoTxMTn"
      },
      "execution_count": 19,
      "outputs": []
    },
    {
      "cell_type": "code",
      "source": [
        "def build_combined_graph(word_graph, sequences, embedding_size):\n",
        "    num_words = word_graph.num_nodes\n",
        "    x = tf.zeros([len(sequences), embedding_size], dtype=tf.float32)\n",
        "    edges = []\n",
        "    edge_weight = []\n",
        "    for i, sequence in enumerate(sequences):\n",
        "        doc_node_index = num_words + i\n",
        "        for word in sequence:\n",
        "            edges.append([doc_node_index, word])  # only directed edge\n",
        "            edge_weight.append(1.0)  # use BOW instaead of TF-IDF\n",
        "\n",
        "    edge_index = np.array(edges).T\n",
        "    x = tf.concat([word_graph.x, x], axis=0)\n",
        "    edge_index = np.concatenate([word_graph.edge_index, edge_index], axis=1)\n",
        "    edge_weight = np.concatenate([word_graph.edge_weight, edge_weight], axis=0)\n",
        "    return tfg.Graph(x=x, edge_index=edge_index, edge_weight=edge_weight)"
      ],
      "metadata": {
        "id": "UEfvLkGXxP6Z"
      },
      "execution_count": 20,
      "outputs": []
    },
    {
      "cell_type": "code",
      "source": [
        "pmi_cache_path = \"cached_pmi_model.p\"\n",
        "if os.path.exists(pmi_cache_path):\n",
        "    with open(pmi_cache_path, \"rb\") as f:\n",
        "        pmi_model = pickle.load(f)\n",
        "else:\n",
        "    pmi_model = PMIModel()\n",
        "    pmi_model.fit(train_sequences, window_size=6)\n",
        "    with open(pmi_cache_path, \"wb\") as f:\n",
        "        pickle.dump(pmi_model, f)\n",
        "\n",
        "embedding_size = 150\n",
        "num_words = len(tokenizer.word_index) + 1\n",
        "word_graph = build_word_graph(num_words, pmi_model, embedding_size)\n",
        "train_combined_graph = build_combined_graph(word_graph, train_sequences, embedding_size)\n",
        "test_combined_graph = build_combined_graph(word_graph, test_sequences, embedding_size)\n",
        "\n",
        "print(word_graph)\n",
        "print(train_combined_graph)\n",
        "print(test_combined_graph)\n",
        "\n",
        "num_classes =28"
      ],
      "metadata": {
        "colab": {
          "base_uri": "https://localhost:8080/"
        },
        "id": "_fIc6lSbxRiD",
        "outputId": "11be6fdf-b75d-4ec8-c88c-fd59025f701f"
      },
      "execution_count": 21,
      "outputs": [
        {
          "output_type": "stream",
          "name": "stdout",
          "text": [
            "Graph Shape: x => (29512, 150)\tedge_index => (2, 1045942)\ty => None\n",
            "Graph Shape: x => (185372, 150)\tedge_index => (2, 2160066)\ty => None\n",
            "Graph Shape: x => (81466, 150)\tedge_index => (2, 1417918)\ty => None\n"
          ]
        }
      ]
    },
    {
      "cell_type": "code",
      "source": [
        "class GCNModel(tf.keras.Model):\n",
        "\n",
        "    def __init__(self, *args, **kwargs):\n",
        "        super().__init__(*args, **kwargs)\n",
        "        self.gcn0 = tfg.layers.GCN(100, activation=tf.nn.relu)\n",
        "        self.gcn1 = tfg.layers.GCN(100, activation=tf.nn.relu)\n",
        "        self.gcn2 = tfg.layers.GCN(50, activation=tf.nn.relu)\n",
        "        self.gcn3 = tfg.layers.GCN(num_classes)\n",
        "        self.dropout = keras.layers.Dropout(0.5)\n",
        "\n",
        "    def call(self, inputs, training=None, mask=None, cache=None):\n",
        "        x, edge_index, edge_weight = inputs\n",
        "        h = self.gcn0([x, edge_index, edge_weight], cache=cache)\n",
        "        h = self.gcn1([h, edge_index, edge_weight], cache=cache)\n",
        "        h = self.dropout(h, training=training)\n",
        "        h = self.gcn2([h, edge_index, edge_weight], cache=cache)\n",
        "        h = self.gcn3([h, edge_index, edge_weight], cache=cache)\n",
        "        return h"
      ],
      "metadata": {
        "id": "5Exhk4q3xXDk"
      },
      "execution_count": 22,
      "outputs": []
    },
    {
      "cell_type": "code",
      "source": [
        "model = GCNModel()\n",
        "model.gcn0.cache_normed_edge(train_combined_graph)\n",
        "model.gcn0.cache_normed_edge(test_combined_graph)"
      ],
      "metadata": {
        "colab": {
          "base_uri": "https://localhost:8080/"
        },
        "id": "yWHfw_AFxqFK",
        "outputId": "b93a8d23-eaeb-4ee6-a70e-c1756199d2e2"
      },
      "execution_count": 23,
      "outputs": [
        {
          "output_type": "stream",
          "name": "stderr",
          "text": [
            "/usr/local/lib/python3.7/dist-packages/tf_geometric/layers/conv/gcn.py:79: DeprecationWarning: 'GCN.cache_normed_edge(graph, override)' is deprecated, use 'GCN.build_cache_for_graph(graph, override)' instead\n",
            "  warnings.warn(\"'GCN.cache_normed_edge(graph, override)' is deprecated, use 'GCN.build_cache_for_graph(graph, override)' instead\", DeprecationWarning)\n",
            "/usr/local/lib/python3.7/dist-packages/tf_geometric/layers/conv/gcn.py:79: DeprecationWarning: 'GCN.cache_normed_edge(graph, override)' is deprecated, use 'GCN.build_cache_for_graph(graph, override)' instead\n",
            "  warnings.warn(\"'GCN.cache_normed_edge(graph, override)' is deprecated, use 'GCN.build_cache_for_graph(graph, override)' instead\", DeprecationWarning)\n"
          ]
        }
      ]
    },
    {
      "cell_type": "code",
      "source": [
        "@tf_utils.function\n",
        "def forward(graph, training=False):\n",
        "    logits = model([graph.x, graph.edge_index, graph.edge_weight], cache=graph.cache, training=training)\n",
        "    logits = logits[num_words:]\n",
        "    return logits"
      ],
      "metadata": {
        "id": "K4rY7fvZxtLb"
      },
      "execution_count": 24,
      "outputs": []
    },
    {
      "cell_type": "code",
      "source": [
        "def compute_loss(logits, labels):\n",
        "    losses = tf.nn.softmax_cross_entropy_with_logits(\n",
        "        logits=logits,\n",
        "        labels=labels\n",
        "    )\n",
        "    mean_loss = tf.reduce_mean(losses)\n",
        "    return mean_loss"
      ],
      "metadata": {
        "id": "Bn1E6l5oxvO4"
      },
      "execution_count": 25,
      "outputs": []
    },
    {
      "cell_type": "code",
      "source": [
        "optimizer = tf.keras.optimizers.SGD(learning_rate=0.005)"
      ],
      "metadata": {
        "id": "tdMHK5bexxHD"
      },
      "execution_count": 26,
      "outputs": []
    },
    {
      "cell_type": "code",
      "source": [
        "train_losses, test_losses = [],[]\n",
        "for step in range(1000):\n",
        "    with tf.GradientTape() as tape:\n",
        "        logits = forward(train_combined_graph, training=True)\n",
        "        # print(\"logits\" ,logits[0],\"Shape\",logits[0].shape)\n",
        "        mean_loss = compute_loss(logits, train_labels)\n",
        "        train_losses.append(mean_loss)\n",
        "    vars = tape.watched_variables()\n",
        "    grads = tape.gradient(mean_loss, vars)\n",
        "    optimizer.apply_gradients(zip(grads, vars))\n",
        "    \n",
        "    if step % 10 == 0:\n",
        "        # train accuracytf.one_hot(labels, depth=num_classes)\n",
        "        logits = forward(test_combined_graph)\n",
        "        test_loss = compute_loss(logits, test_labels)\n",
        "        print(\"STEP : \", step ,\"  TRAIN LOSS : \",np.array(mean_loss),\"  TEST LOSS: \", np.array(test_loss))\n",
        "        test_losses.append(test_loss)"
      ],
      "metadata": {
        "colab": {
          "base_uri": "https://localhost:8080/"
        },
        "id": "Y9aRgLo1x0Hz",
        "outputId": "21b629d3-6c44-4857-bb84-da07fea5b9b6"
      },
      "execution_count": 27,
      "outputs": [
        {
          "output_type": "stream",
          "name": "stdout",
          "text": [
            "STEP :  0   TRAIN LOSS :  4.0016656   TEST LOSS:  4.0004206\n",
            "STEP :  10   TRAIN LOSS :  3.9983199   TEST LOSS:  3.9971123\n",
            "STEP :  20   TRAIN LOSS :  3.9950268   TEST LOSS:  3.9938304\n",
            "STEP :  30   TRAIN LOSS :  3.9917226   TEST LOSS:  3.990564\n",
            "STEP :  40   TRAIN LOSS :  3.98844   TEST LOSS:  3.9872978\n",
            "STEP :  50   TRAIN LOSS :  3.985147   TEST LOSS:  3.984038\n",
            "STEP :  60   TRAIN LOSS :  3.9818547   TEST LOSS:  3.9807916\n",
            "STEP :  70   TRAIN LOSS :  3.978651   TEST LOSS:  3.9775634\n",
            "STEP :  80   TRAIN LOSS :  3.975369   TEST LOSS:  3.9743495\n",
            "STEP :  90   TRAIN LOSS :  3.9721742   TEST LOSS:  3.971151\n",
            "STEP :  100   TRAIN LOSS :  3.9689698   TEST LOSS:  3.9679687\n",
            "STEP :  110   TRAIN LOSS :  3.9657679   TEST LOSS:  3.9648008\n",
            "STEP :  120   TRAIN LOSS :  3.9626007   TEST LOSS:  3.9616494\n",
            "STEP :  130   TRAIN LOSS :  3.9594555   TEST LOSS:  3.9585125\n",
            "STEP :  140   TRAIN LOSS :  3.9562693   TEST LOSS:  3.955388\n",
            "STEP :  150   TRAIN LOSS :  3.9531546   TEST LOSS:  3.952277\n",
            "STEP :  160   TRAIN LOSS :  3.9500225   TEST LOSS:  3.94918\n",
            "STEP :  170   TRAIN LOSS :  3.94693   TEST LOSS:  3.9460993\n",
            "STEP :  180   TRAIN LOSS :  3.9438567   TEST LOSS:  3.9430325\n",
            "STEP :  190   TRAIN LOSS :  3.9407885   TEST LOSS:  3.9399788\n",
            "STEP :  200   TRAIN LOSS :  3.9377213   TEST LOSS:  3.9369388\n",
            "STEP :  210   TRAIN LOSS :  3.934668   TEST LOSS:  3.933912\n",
            "STEP :  220   TRAIN LOSS :  3.9316258   TEST LOSS:  3.9309027\n",
            "STEP :  230   TRAIN LOSS :  3.928621   TEST LOSS:  3.9279065\n",
            "STEP :  240   TRAIN LOSS :  3.9256408   TEST LOSS:  3.9249227\n",
            "STEP :  250   TRAIN LOSS :  3.922639   TEST LOSS:  3.921953\n",
            "STEP :  260   TRAIN LOSS :  3.9196668   TEST LOSS:  3.9189987\n",
            "STEP :  270   TRAIN LOSS :  3.9166703   TEST LOSS:  3.9160593\n",
            "STEP :  280   TRAIN LOSS :  3.9137235   TEST LOSS:  3.9131339\n",
            "STEP :  290   TRAIN LOSS :  3.9108207   TEST LOSS:  3.910221\n",
            "STEP :  300   TRAIN LOSS :  3.9078724   TEST LOSS:  3.9073231\n",
            "STEP :  310   TRAIN LOSS :  3.9050114   TEST LOSS:  3.9044418\n",
            "STEP :  320   TRAIN LOSS :  3.9021173   TEST LOSS:  3.9015746\n",
            "STEP :  330   TRAIN LOSS :  3.8992221   TEST LOSS:  3.8987203\n",
            "STEP :  340   TRAIN LOSS :  3.8963773   TEST LOSS:  3.8958805\n",
            "STEP :  350   TRAIN LOSS :  3.8935177   TEST LOSS:  3.8930573\n",
            "STEP :  360   TRAIN LOSS :  3.8906727   TEST LOSS:  3.8902488\n",
            "STEP :  370   TRAIN LOSS :  3.8879054   TEST LOSS:  3.8874545\n",
            "STEP :  380   TRAIN LOSS :  3.885071   TEST LOSS:  3.8846738\n",
            "STEP :  390   TRAIN LOSS :  3.8823206   TEST LOSS:  3.8819103\n",
            "STEP :  400   TRAIN LOSS :  3.8795369   TEST LOSS:  3.879162\n",
            "STEP :  410   TRAIN LOSS :  3.8767416   TEST LOSS:  3.8764274\n",
            "STEP :  420   TRAIN LOSS :  3.874012   TEST LOSS:  3.8737073\n",
            "STEP :  430   TRAIN LOSS :  3.8713229   TEST LOSS:  3.8710043\n",
            "STEP :  440   TRAIN LOSS :  3.8686204   TEST LOSS:  3.868317\n",
            "STEP :  450   TRAIN LOSS :  3.8659174   TEST LOSS:  3.8656435\n",
            "STEP :  460   TRAIN LOSS :  3.8632326   TEST LOSS:  3.8629851\n",
            "STEP :  470   TRAIN LOSS :  3.8605535   TEST LOSS:  3.860344\n",
            "STEP :  480   TRAIN LOSS :  3.8579285   TEST LOSS:  3.8577185\n",
            "STEP :  490   TRAIN LOSS :  3.855298   TEST LOSS:  3.8551073\n",
            "STEP :  500   TRAIN LOSS :  3.852675   TEST LOSS:  3.8525116\n",
            "STEP :  510   TRAIN LOSS :  3.8500826   TEST LOSS:  3.8499334\n",
            "STEP :  520   TRAIN LOSS :  3.8475049   TEST LOSS:  3.8473706\n",
            "STEP :  530   TRAIN LOSS :  3.8449066   TEST LOSS:  3.8448222\n",
            "STEP :  540   TRAIN LOSS :  3.8423605   TEST LOSS:  3.8422902\n",
            "STEP :  550   TRAIN LOSS :  3.8398378   TEST LOSS:  3.8397753\n",
            "STEP :  560   TRAIN LOSS :  3.8373444   TEST LOSS:  3.8372755\n",
            "STEP :  570   TRAIN LOSS :  3.8347852   TEST LOSS:  3.8347905\n",
            "STEP :  580   TRAIN LOSS :  3.8323376   TEST LOSS:  3.8323228\n",
            "STEP :  590   TRAIN LOSS :  3.829865   TEST LOSS:  3.8298717\n",
            "STEP :  600   TRAIN LOSS :  3.8273964   TEST LOSS:  3.8274355\n",
            "STEP :  610   TRAIN LOSS :  3.824949   TEST LOSS:  3.8250153\n",
            "STEP :  620   TRAIN LOSS :  3.8225498   TEST LOSS:  3.8226123\n",
            "STEP :  630   TRAIN LOSS :  3.820131   TEST LOSS:  3.820225\n",
            "STEP :  640   TRAIN LOSS :  3.8177266   TEST LOSS:  3.817853\n",
            "STEP :  650   TRAIN LOSS :  3.8153574   TEST LOSS:  3.8154979\n",
            "STEP :  660   TRAIN LOSS :  3.8130317   TEST LOSS:  3.8131595\n",
            "STEP :  670   TRAIN LOSS :  3.8106601   TEST LOSS:  3.8108363\n",
            "STEP :  680   TRAIN LOSS :  3.8083365   TEST LOSS:  3.8085296\n",
            "STEP :  690   TRAIN LOSS :  3.8060207   TEST LOSS:  3.8062403\n",
            "STEP :  700   TRAIN LOSS :  3.8036852   TEST LOSS:  3.803966\n",
            "STEP :  710   TRAIN LOSS :  3.8014383   TEST LOSS:  3.8017077\n",
            "STEP :  720   TRAIN LOSS :  3.7992036   TEST LOSS:  3.7994668\n",
            "STEP :  730   TRAIN LOSS :  3.7969608   TEST LOSS:  3.797242\n",
            "STEP :  740   TRAIN LOSS :  3.7947073   TEST LOSS:  3.7950327\n",
            "STEP :  750   TRAIN LOSS :  3.7925158   TEST LOSS:  3.7928402\n",
            "STEP :  760   TRAIN LOSS :  3.7903142   TEST LOSS:  3.7906647\n",
            "STEP :  770   TRAIN LOSS :  3.7881444   TEST LOSS:  3.7885046\n",
            "STEP :  780   TRAIN LOSS :  3.7859719   TEST LOSS:  3.786361\n",
            "STEP :  790   TRAIN LOSS :  3.783816   TEST LOSS:  3.7842345\n",
            "STEP :  800   TRAIN LOSS :  3.7817023   TEST LOSS:  3.782124\n",
            "STEP :  810   TRAIN LOSS :  3.779617   TEST LOSS:  3.780029\n",
            "STEP :  820   TRAIN LOSS :  3.7774878   TEST LOSS:  3.7779515\n",
            "STEP :  830   TRAIN LOSS :  3.775405   TEST LOSS:  3.7758899\n",
            "STEP :  840   TRAIN LOSS :  3.7733119   TEST LOSS:  3.773844\n",
            "STEP :  850   TRAIN LOSS :  3.7712872   TEST LOSS:  3.7718155\n",
            "STEP :  860   TRAIN LOSS :  3.769309   TEST LOSS:  3.769803\n",
            "STEP :  870   TRAIN LOSS :  3.7672439   TEST LOSS:  3.767806\n",
            "STEP :  880   TRAIN LOSS :  3.765255   TEST LOSS:  3.765826\n",
            "STEP :  890   TRAIN LOSS :  3.7632635   TEST LOSS:  3.7638626\n",
            "STEP :  900   TRAIN LOSS :  3.76133   TEST LOSS:  3.761914\n",
            "STEP :  910   TRAIN LOSS :  3.759367   TEST LOSS:  3.7599823\n",
            "STEP :  920   TRAIN LOSS :  3.7574365   TEST LOSS:  3.7580671\n",
            "STEP :  930   TRAIN LOSS :  3.7555082   TEST LOSS:  3.7561677\n",
            "STEP :  940   TRAIN LOSS :  3.75364   TEST LOSS:  3.7542844\n",
            "STEP :  950   TRAIN LOSS :  3.7517405   TEST LOSS:  3.752418\n",
            "STEP :  960   TRAIN LOSS :  3.7498877   TEST LOSS:  3.7505667\n",
            "STEP :  970   TRAIN LOSS :  3.7480383   TEST LOSS:  3.748732\n",
            "STEP :  980   TRAIN LOSS :  3.7461708   TEST LOSS:  3.7469132\n",
            "STEP :  990   TRAIN LOSS :  3.7443483   TEST LOSS:  3.7451098\n"
          ]
        }
      ]
    },
    {
      "cell_type": "code",
      "source": [
        "plt.plot(range(len(train_losses)),train_losses)\n",
        "plt.title(\"Training Losses for first 1000 Epochs\")\n",
        "plt.show()"
      ],
      "metadata": {
        "colab": {
          "base_uri": "https://localhost:8080/",
          "height": 281
        },
        "id": "svBUufa7x5AC",
        "outputId": "62cf0945-e9b8-473b-cca5-bcd3985c9316"
      },
      "execution_count": 28,
      "outputs": [
        {
          "output_type": "display_data",
          "data": {
            "text/plain": [
              "<Figure size 432x288 with 1 Axes>"
            ],
            "image/png": "[encoded data removed]"
          },
          "metadata": {
            "needs_background": "light"
          }
        }
      ]
    },
    {
      "cell_type": "code",
      "source": [
        "plt.plot(range(len(test_losses)),test_losses)\n",
        "plt.title(\"Testing Losses for first 1000 Epochs\")\n",
        "plt.show()"
      ],
      "metadata": {
        "colab": {
          "base_uri": "https://localhost:8080/",
          "height": 281
        },
        "id": "804LKJxTeL_L",
        "outputId": "debe72d2-6be2-4e3d-c682-6e27264bc55e"
      },
      "execution_count": 29,
      "outputs": [
        {
          "output_type": "display_data",
          "data": {
            "text/plain": [
              "<Figure size 432x288 with 1 Axes>"
            ],
            "image/png": "[encoded data removed]"
          },
          "metadata": {
            "needs_background": "light"
          }
        }
      ]
    },
    {
      "cell_type": "code",
      "source": [
        "print(\"Best Training Accuracy - \" ,max(np.array(train_accs))*100)"
      ],
      "metadata": {
        "colab": {
          "base_uri": "https://localhost:8080/",
          "height": 168
        },
        "id": "8Ur-Cb8wfXAg",
        "outputId": "ecffbb5d-321a-486a-e7c8-9037a51ff318"
      },
      "execution_count": 30,
      "outputs": [
        {
          "output_type": "error",
          "ename": "NameError",
          "evalue": "ignored",
          "traceback": [
            "\u001b[0;31m---------------------------------------------------------------------------\u001b[0m",
            "\u001b[0;31mNameError\u001b[0m                                 Traceback (most recent call last)",
            "\u001b[0;32m<ipython-input-30-9913db2292fc>\u001b[0m in \u001b[0;36m<module>\u001b[0;34m()\u001b[0m\n\u001b[0;32m----> 1\u001b[0;31m \u001b[0mprint\u001b[0m\u001b[0;34m(\u001b[0m\u001b[0;34m\"Best Training Accuracy - \"\u001b[0m \u001b[0;34m,\u001b[0m\u001b[0mmax\u001b[0m\u001b[0;34m(\u001b[0m\u001b[0mnp\u001b[0m\u001b[0;34m.\u001b[0m\u001b[0marray\u001b[0m\u001b[0;34m(\u001b[0m\u001b[0mtrain_accs\u001b[0m\u001b[0;34m)\u001b[0m\u001b[0;34m)\u001b[0m\u001b[0;34m*\u001b[0m\u001b[0;36m100\u001b[0m\u001b[0;34m)\u001b[0m\u001b[0;34m\u001b[0m\u001b[0;34m\u001b[0m\u001b[0m\n\u001b[0m",
            "\u001b[0;31mNameError\u001b[0m: name 'train_accs' is not defined"
          ]
        }
      ]
    },
    {
      "cell_type": "code",
      "source": [
        "print(\"Best Testing Accuracy - \" ,max(np.array(test_accs))*100)"
      ],
      "metadata": {
        "id": "KYGaCesxhVg1"
      },
      "execution_count": null,
      "outputs": []
    },
    {
      "cell_type": "code",
      "source": [
        ""
      ],
      "metadata": {
        "id": "RKgKVHFIjNBo"
      },
      "execution_count": null,
      "outputs": []
    }
  ]
}